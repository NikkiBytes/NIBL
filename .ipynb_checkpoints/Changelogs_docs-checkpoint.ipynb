{
 "cells": [
  {
   "cell_type": "markdown",
   "metadata": {},
   "source": [
    "# Keeping a Change log  \n",
    "Hey, here are my notes for learning to keep a **change log** for projects. A **change log** is a file which contains a *chronologically ordered, curated* list of notable changes for each version of a project.  \n",
    "  \n",
    "It's good to keep a change log to inform users and contributors of what changes are done between version releases.  \n",
    "\n",
    "#### File name:  \n",
    "Currently there isn't a 'standard', one of the best is **`CHANGELOG.md`**    \n",
    "Note they also may be `HISTORY.txt`, `HISTORY.md`, `RELEASES.txt`, `NEWS.txt`, ...\n",
    "  \n",
    "#### Change log Principles:  \n",
    "- legibility  \n",
    "- markdown > text -- '.md' allows easy linking to any sections . \n",
    "- one sub-section per version\n",
    "- list releases in **reverse-chronological** order (newest on top).  \n",
    "- write all dates in `YYYY-MM-DD` format. (`2018-11-06` for `November 6th, 2018`.) *It's language-independent, international.*  \n",
    "- Explicitly mention whether the project follows **Semantic Versioning**.  \n",
    "- Each version should:  \n",
    "    - List its release date \n",
    "    - Group changes \n",
    "        - **`Added`** for new features  \n",
    "        - **`Changed`** for changes in existing functionality  \n",
    "        - **`Deprecated`** for once-stable features remove in upcoming releases  \n",
    "        - **`Removed`** for deprecated features removed in the release\n",
    "        - **`Fixed`** for any bug fixes  \n",
    "        - **`Security`** to invite users to upgrade in case of vulnerabilities  \n",
    "        \n",
    "\n",
    "##### Always have an `Unreleased` section at the top for keeping track of any changes. This will help minimize the effort by allowing people to see what upcoming changes to possibily expect, and at release time you simply change `Unreleased` to the version number and add a new `Unreleased` header at the top.  \n",
    "   \n",
    "  \n",
    "  \n",
    "#### What NOT to do(*\"What makes unicorns cry?\"*):  \n",
    "- Dump a diff of commit logs\n",
    "- Not emphasizing deprecations \n",
    "- Dates in region-specific formats (ie `2018-11-06`)  \n",
    "  \n",
    "  \n",
    "#### What are yanked releases?  \n",
    "Yanked releases are versions that had to be pulled because of a serious bug or security issue. Often they will not be displayed in changes logs, but it's a good convetntion to include them. They should be displayed like:  \n",
    "  \n",
    "`## 0.0.5 - 2018-11-05 [YANKED]`  \n",
    "  \n",
    "The `[YANKED]` tag is loud for a reason. It's important to notice it and since it's surrounded by brackets it's also easier to parse programmatiaclly.  \n",
    "\n",
    "\n",
    "### Reference:  \n",
    "https://keepachangelog.com/en/0.3.0/\n",
    "\n"
   ]
  },
  {
   "cell_type": "markdown",
   "metadata": {},
   "source": [
    "### Example changelog format-  \n",
    "  \n",
    "# Changelog\n",
    "All notable changes to this project will be documented in this file.\n",
    "\n",
    "The format is based on [Keep a Changelog](https://keepachangelog.com/en/1.0.0/),\n",
    "and this project adheres to [Semantic Versioning](https://semver.org/spec/v2.0.0.html).\n",
    "\n",
    "## [Unreleased]\n",
    "### Changed\n",
    "\n",
    "## [0.0.1] - 2017-06-20\n",
    "### Added  \n",
    "  \n",
    "  \n",
    "### Changed  \n",
    "  \n",
    "### Fixed  \n",
    "  \n",
    "\n"
   ]
  },
  {
   "cell_type": "code",
   "execution_count": null,
   "metadata": {},
   "outputs": [],
   "source": []
  }
 ],
 "metadata": {
  "kernelspec": {
   "display_name": "Python 3",
   "language": "python",
   "name": "python3"
  },
  "language_info": {
   "codemirror_mode": {
    "name": "ipython",
    "version": 3
   },
   "file_extension": ".py",
   "mimetype": "text/x-python",
   "name": "python",
   "nbconvert_exporter": "python",
   "pygments_lexer": "ipython3",
   "version": "3.6.5"
  }
 },
 "nbformat": 4,
 "nbformat_minor": 2
}
