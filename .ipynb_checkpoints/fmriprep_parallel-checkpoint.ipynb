{
 "cells": [
  {
   "cell_type": "markdown",
   "metadata": {},
   "source": [
    "The code runs fmriprep conversion on data in parallel "
   ]
  },
  {
   "cell_type": "code",
   "execution_count": 2,
   "metadata": {},
   "outputs": [],
   "source": [
    "import glob, os\n",
    "import psutil \n",
    "from multiprocessing import Pool\n"
   ]
  },
  {
   "cell_type": "code",
   "execution_count": null,
   "metadata": {},
   "outputs": [],
   "source": [
    "input_dir = \"/projects/niblab/bids_projects/Experiments/ChocoData/BIDS/ses-4\"\n",
    "fmriprep_dir = \"/projects/niblab/bids_projects/Experiments/ChocoData/fmriprep\"\n",
    "error_dir = \"/projects/niblab/bids_projects/Experiments/ChocoData/error_files\"\n",
    "SUBJECTS = glob.glob(os.path.join(input_dir, \"sub-*\"))\n",
    "chunksize = int(len(SUBJECTS)/3)\n",
    "cores=psutil.cpu_count(logical=False)\n",
    "threads=10\n",
    "sess=\"ses-4\"\n",
    "def run_fmriprep(sub_path):\n",
    "    sub = sub_path.split(\"/\")[-1]\n",
    "    output_dir = os.path.join(fmriprep_dir, sub, sess)\n",
    "    cmd = \"fmriprep %s %s \\\n",
    "    participant  \\\n",
    "    --participant-label %s  \\\n",
    "    --fs-license-file freesurfer/license.txt \\\n",
    "    --longitudinal \\\n",
    "    --fs-no-reconall \\\n",
    "    --omp-nthreads %s --n_cpus %s  \\\n",
    "    --bold2t1w-dof 12 \\\n",
    "    --output-space template --template MNI152NLin2009cAsym \\\n",
    "    --debug  \\\n",
    "    -w %s \\\n",
    "    --resource-monitor --write-graph --stop-on-first-crash\"%(input_dir, output_dir, sub, threads, cores, output_dir)\n",
    "    print(cmd)\n",
    "    try:\n",
    "        os.system(cmd)\n",
    "    except Exception as e:\n",
    "        with open(error_dir+\"/error_fmriprep_ses-4.txt\", \"a\")  as f:\n",
    "            f.write(\">>>----> \", str(e))\n",
    "            f.close()\n",
    "if __name__ == '__main__':\n",
    "    pool = Pool(psutil.cpu_count(logical=False))\n",
    "    pool.map(run_fmriprep, SUBJECTS, chunksize)\n",
    "    pool.close()\n",
    "    pool.join()\n",
    "\n",
    "\n"
   ]
  }
 ],
 "metadata": {
  "kernelspec": {
   "display_name": "Python 3",
   "language": "python",
   "name": "python3"
  },
  "language_info": {
   "codemirror_mode": {
    "name": "ipython",
    "version": 3
   },
   "file_extension": ".py",
   "mimetype": "text/x-python",
   "name": "python",
   "nbconvert_exporter": "python",
   "pygments_lexer": "ipython3",
   "version": "3.6.5"
  }
 },
 "nbformat": 4,
 "nbformat_minor": 2
}
