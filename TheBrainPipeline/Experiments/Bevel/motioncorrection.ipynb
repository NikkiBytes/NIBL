{
 "cells": [
  {
   "cell_type": "code",
   "execution_count": 18,
   "metadata": {},
   "outputs": [],
   "source": [
    "import pandas as pd \n",
    "import numpy as np \n",
    "import matplotlib.pyplot as plt\n",
    "import glob\n",
    "import os\n",
    "import subprocess\n",
    "import datetime"
   ]
  },
  {
   "cell_type": "code",
   "execution_count": 26,
   "metadata": {},
   "outputs": [
    {
     "name": "stdout",
     "output_type": "stream",
     "text": [
      "SUBJECT:  /Users/nikkibytes/Documents/testing/sub-001\n",
      "DIRECTORY:  /Users/nikkibytes/Documents/testing/sub-001/fmriprep/sub-001/func\n",
      "Identifier:  sub-001_task-rest_bold_space-T1w_brainmask\n",
      "Brainmask File(Input):  sub-001_task-rest_bold_space-T1w_brainmask.nii.gz\n",
      "Comparison:  0.25\n",
      "CMD: fslnvols sub-001_task-rest_bold_space-T1w_brainmask.nii.gz\n",
      "INPUT DIR:  /Users/nikkibytes/Documents/testing/sub-001/fmriprep/sub-001/func/sub-001_task-prob_run-2_bold_space-T1w_brainmask.nii.gz\n",
      "OUTPUT:  /Users/nikkibytes/Documents/testing/sub-001/fmriprep/sub-001/func/motion_assesment/sub-001_task-rest_bold_space-T1w_brainmask_confound.txt \n",
      "Identifier:  sub-001_task-prob_run-3_bold_space-T1w_brainmask\n",
      "Brainmask File(Input):  sub-001_task-prob_run-3_bold_space-T1w_brainmask.nii.gz\n",
      "Comparison:  0.25\n",
      "CMD: fslnvols sub-001_task-prob_run-3_bold_space-T1w_brainmask.nii.gz\n",
      "INPUT DIR:  /Users/nikkibytes/Documents/testing/sub-001/fmriprep/sub-001/func/sub-001_task-prob_run-2_bold_space-T1w_brainmask.nii.gz\n",
      "OUTPUT:  /Users/nikkibytes/Documents/testing/sub-001/fmriprep/sub-001/func/motion_assesment/sub-001_task-prob_run-3_bold_space-T1w_brainmask_confound.txt \n",
      "Identifier:  sub-001_task-prob_run-1_bold_space-T1w_brainmask\n",
      "Brainmask File(Input):  sub-001_task-prob_run-1_bold_space-T1w_brainmask.nii.gz\n",
      "Comparison:  0.25\n",
      "CMD: fslnvols sub-001_task-prob_run-1_bold_space-T1w_brainmask.nii.gz\n",
      "INPUT DIR:  /Users/nikkibytes/Documents/testing/sub-001/fmriprep/sub-001/func/sub-001_task-prob_run-2_bold_space-T1w_brainmask.nii.gz\n",
      "OUTPUT:  /Users/nikkibytes/Documents/testing/sub-001/fmriprep/sub-001/func/motion_assesment/sub-001_task-prob_run-1_bold_space-T1w_brainmask_confound.txt \n",
      "Identifier:  sub-001_task-prob_run-4_bold_space-T1w_brainmask\n",
      "Brainmask File(Input):  sub-001_task-prob_run-4_bold_space-T1w_brainmask.nii.gz\n",
      "Comparison:  0.25\n",
      "CMD: fslnvols sub-001_task-prob_run-4_bold_space-T1w_brainmask.nii.gz\n",
      "INPUT DIR:  /Users/nikkibytes/Documents/testing/sub-001/fmriprep/sub-001/func/sub-001_task-prob_run-2_bold_space-T1w_brainmask.nii.gz\n",
      "OUTPUT:  /Users/nikkibytes/Documents/testing/sub-001/fmriprep/sub-001/func/motion_assesment/sub-001_task-prob_run-4_bold_space-T1w_brainmask_confound.txt \n",
      "Identifier:  sub-001_task-prob_run-2_bold_space-T1w_brainmask\n",
      "Brainmask File(Input):  sub-001_task-prob_run-2_bold_space-T1w_brainmask.nii.gz\n",
      "Comparison:  0.25\n",
      "CMD: fslnvols sub-001_task-prob_run-2_bold_space-T1w_brainmask.nii.gz\n",
      "INPUT DIR:  /Users/nikkibytes/Documents/testing/sub-001/fmriprep/sub-001/func/sub-001_task-prob_run-2_bold_space-T1w_brainmask.nii.gz\n",
      "OUTPUT:  /Users/nikkibytes/Documents/testing/sub-001/fmriprep/sub-001/func/motion_assesment/sub-001_task-prob_run-2_bold_space-T1w_brainmask_confound.txt \n"
     ]
    }
   ],
   "source": [
    "all_data=glob.glob('/Users/nikkibytes/Documents/testing/sub*')\n",
    "all_data\n",
    "datestamp=datetime.datetime.now().strftime(\"%Y-%m-%d-%H_%M_%S\")\n",
    "\n",
    "writedir='/Users/nikkibytes/Documents/testing/sub-001/fmriprep/sub-001/func/motion_assessment'\n",
    " \n",
    "outhtml = os.path.join(writedir,'bold_motion_QA_test_%s.html'%(datestamp))\n",
    "out_bad_bold_list = os.path.join(writedir,'testing_%s.txt'%(datestamp))\n",
    "for sub in all_data:\n",
    "    print(\"SUBJECT: \", sub)\n",
    "    for dir in glob.glob(os.path.join(sub,'fmriprep/sub-001/func')):#path to the functional, skull stripped data\n",
    "        print(\"DIRECTORY: \", dir)#not needed but i get crazy \n",
    "        os.chdir(dir)\n",
    "        if not os.path.exists(os.path.join(dir,'motion_assessment')): #looking for a motion assessment dir to put out put in, I like to put it in my functional directory where my skull stripped brain is\n",
    "            os.makedirs(os.path.join(dir,'motion_assessment')) #making dir if it doesn't exist\n",
    "        for brain_input in glob.glob(os.path.join('*brainmask.nii.gz')):\n",
    "            id=brain_input.split('.')[0]\n",
    "            output=os.path.join(dir, 'motion_assesment/'+id+'_confound.txt ')\n",
    "            input_dir=os.path.join(dir, input)\n",
    "\n",
    "            \n",
    "            cmd=\"fslnvols \" + brain_input\n",
    "            comparator = subprocess.check_output(cmd, shell=True, encoding=\"utf-8\")\n",
    "            comparator = comparator.strip()\n",
    "            comparator = int(comparator) *.25\n",
    "            \n",
    "            \n",
    "            print(\"Identifier: \", id)\n",
    "            print(\"Brainmask File(Input): \", brain_input)\n",
    "            print(\"Comparison: \", comparator)\n",
    "            print(\"CMD:\", cmd)\n",
    "            print(\"INPUT DIR: \", input_dir)\n",
    "            print(\"OUTPUT: \", output)\n",
    "                \n",
    "                \n",
    "            \n",
    "            \n",
    "            \n",
    "            # this is generating the fd confounds txt, it is using the fd metric,\n",
    "            # making a plot and putting it in the motion assessment directory we made above\n",
    "\n",
    "            os.system(\"fsl_motion_outliers -i motion_assesment/%s_confound.txt -o %s --nomoco  --fd --thresh=0.9 -p motion_assessment/fd_plot -v > %s_outlier_output.txt\"%(brain_input,id,id))\n",
    "            \n",
    "            \n",
    "\n",
    "                \n",
    "                \n",
    "                ####this is writing the motion assessment fd metric to the html file\n",
    "            os.system(\"cat motion_assessment/%s_outlier_output.txt >> %s\"%(id,outhtml))\n",
    "                \n",
    "                ###getting the full path to the plot\n",
    "            plotz=os.path.join(dir,'motion_assessment','fd_plot.png')\n",
    "                \n",
    "                \n",
    "                #### putting the full plot in the html file\n",
    "            os.system(\"echo '<p>=============<p>FD plot %s <br><IMG BORDER=0 SRC=%s WIDTH=%s></BODY></HTML>' >> %s\"%(id,plotz,'100%', outhtml))\n",
    "                \n",
    "                \n",
    "                ####sometimes you have a great subject who didn't move, in this case we want to make a blank file\n",
    "            if os.path.isfile(\"motion_assessment/%s_confound.txt\"%(id))==False:\n",
    "                os.system(\"touch motion_assessment/%s_confound.txt\"%(id))\n",
    "            \n",
    "            check = subprocess.check_output(\"grep -o 1 motion_assessment/%s_confound.txt | wc -l\"%(id), shell=True) #how many columns are there = how many 'bad' points\n",
    "            num_scrub = [int(s) for s in check.split() if s.isdigit()]\n",
    "\n",
    "             \n",
    "            if num_scrub[0] > comparator: #if the number in check is greater than num_scrub then we don't want it\n",
    "                with open(out_bad_bold_list, \"a\") as myfile: #making a file that lists all the bad ones\n",
    "                    myfile.write(\"%s\\n\"%(id))\n",
    "                    print(\"wrote bad file\")\n",
    "                myfile.close()\n"
   ]
  },
  {
   "cell_type": "code",
   "execution_count": 27,
   "metadata": {},
   "outputs": [],
   "source": [
    "def main():\n",
    "    sub_dir = input(\"Directory of Subjects: \")\n",
    "    print(sub_dir)"
   ]
  },
  {
   "cell_type": "code",
   "execution_count": 30,
   "metadata": {},
   "outputs": [
    {
     "ename": "NameError",
     "evalue": "name 'raw_input' is not defined",
     "output_type": "error",
     "traceback": [
      "\u001b[0;31m---------------------------------------------------------------------------\u001b[0m",
      "\u001b[0;31mNameError\u001b[0m                                 Traceback (most recent call last)",
      "\u001b[0;32m<ipython-input-30-8ca2ad31648f>\u001b[0m in \u001b[0;36m<module>\u001b[0;34m()\u001b[0m\n\u001b[0;32m----> 1\u001b[0;31m \u001b[0mraw_input\u001b[0m\u001b[0;34m(\u001b[0m\u001b[0;34m\"enter name: \"\u001b[0m\u001b[0;34m)\u001b[0m\u001b[0;34m\u001b[0m\u001b[0m\n\u001b[0m",
      "\u001b[0;31mNameError\u001b[0m: name 'raw_input' is not defined"
     ]
    }
   ],
   "source": [
    "raw_input(\"enter name: \")"
   ]
  },
  {
   "cell_type": "code",
   "execution_count": null,
   "metadata": {},
   "outputs": [],
   "source": []
  },
  {
   "cell_type": "code",
   "execution_count": null,
   "metadata": {},
   "outputs": [],
   "source": []
  }
 ],
 "metadata": {
  "kernelspec": {
   "display_name": "Python 3",
   "language": "python",
   "name": "python3"
  },
  "language_info": {
   "codemirror_mode": {
    "name": "ipython",
    "version": 3
   },
   "file_extension": ".py",
   "mimetype": "text/x-python",
   "name": "python",
   "nbconvert_exporter": "python",
   "pygments_lexer": "ipython3",
   "version": "3.6.5"
  }
 },
 "nbformat": 4,
 "nbformat_minor": 2
}
