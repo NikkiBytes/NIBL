{
 "cells": [
  {
   "cell_type": "markdown",
   "metadata": {},
   "source": [
    "<b><h1>Brain Imaging Data Structure(BIDS)</h2></b><br>\n",
    "What is?<br> \n",
    "How to? <br>\n",
    "Quality Check? <br>"
   ]
  },
  {
   "cell_type": "markdown",
   "metadata": {},
   "source": [
    "<h3>Quality Analysis</h3><br><br>\n",
    "Check for all relevant directories (this may be dependent on study)."
   ]
  },
  {
   "cell_type": "code",
   "execution_count": 3,
   "metadata": {},
   "outputs": [],
   "source": [
    "import os, shutil, glob\n",
    "\n",
    "#BIDS_PATH = \n",
    "#MULTI_SESS =\n",
    "\n",
    "#def check_subjects():\n",
    "SUB_DIRS = glob.glob(os.path.join(\"/projects/niblab/bids_projects/Experiments/bbx/BIDS\", \"ses-2\", \"sub-*\"))\n",
    "for SUBDIR in sorted(SUB_DIRS):\n",
    "    SUBJECT = SUBDIR.split(\"/\")[-1]\n",
    "    #print(\">>>>-------> \", SUBDIR)\n",
    "    # GET FUNCS  \n",
    "    funcpath = os.path.join(SUBDIR, 'func', '*nii.gz')\n",
    "    anatpath = os.path.join(SUBDIR, 'anat', '*nii.gz')\n",
    "    FUNCS = glob.glob(funcpath)\n",
    "    ANATS = glob.glob(anatpath)\n",
    "    # IDENTIFY FUNCS AND ANY ERRORS\n",
    "    if not FUNCS:\n",
    "        print(\"********ERROR! NO FUNCTIONALS: \", SUBJECT)\n",
    "        #######WRITE TO FILE -- QUALITY ANALYSIS REPORTING\n",
    "    # IDENTIFY FUNCS\n",
    "    else:\n",
    "        #print(\"> CURRENT FUNCTION FILES: \", FUNCS)\n",
    "        run_count=0\n",
    "        for func_ in sorted(FUNCS):\n",
    "            SESSION = name.split(\"_\")[1] \n",
    "            TASK = name.split(\"_\")[2]\n",
    "            name = func_.split(\"/\")[-1]\n",
    "            #print(name)\n",
    "            if \"resting\" in name:\n",
    "                resting_file = name\n",
    "            else:\n",
    "                if \"run\" in name:\n",
    "                    RUN = name.split(\"_\")[3]\n",
    "                    run_count = run_count + 1\n",
    "        if run_count < 4:\n",
    "            print(\"RUN COUNT: \", run_count)\n",
    "    # IDENTIFY ANATS AND ANY ERRORS\n",
    "    if not ANATS:\n",
    "        print(\"********ERROR! NO ANATOMICALS: \", SUBJECT)\n",
    "        #######WRITE TO FILE -- QUALITY ANALYSIS REPORTING\n",
    "    else:\n",
    "        anat_file = str(ANATS)\n",
    "    \n",
    "    print()\n",
    "        "
   ]
  },
  {
   "cell_type": "code",
   "execution_count": 4,
   "metadata": {},
   "outputs": [],
   "source": [
    "class test:\n",
    "    check_subjects()"
   ]
  },
  {
   "cell_type": "code",
   "execution_count": null,
   "metadata": {},
   "outputs": [],
   "source": []
  }
 ],
 "metadata": {
  "kernelspec": {
   "display_name": "Python 3",
   "language": "python",
   "name": "python3"
  },
  "language_info": {
   "codemirror_mode": {
    "name": "ipython",
    "version": 3
   },
   "file_extension": ".py",
   "mimetype": "text/x-python",
   "name": "python",
   "nbconvert_exporter": "python",
   "pygments_lexer": "ipython3",
   "version": "3.6.5"
  }
 },
 "nbformat": 4,
 "nbformat_minor": 2
}
