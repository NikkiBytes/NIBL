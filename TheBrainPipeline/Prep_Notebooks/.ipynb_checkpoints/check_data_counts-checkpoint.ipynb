{
 "cells": [
  {
   "cell_type": "markdown",
   "metadata": {},
   "source": [
    "Author: Nikkibytes\n",
    "Purpose: the goal of this script is to count and control the data being processed. Initially we need to track the total subjects completed versus the expected subjects by each step in the pipeline.\n"
   ]
  },
  {
   "cell_type": "code",
   "execution_count": 1,
   "metadata": {},
   "outputs": [],
   "source": [
    "import glob, os\n",
    "import pandas as pd"
   ]
  },
  {
   "cell_type": "code",
   "execution_count": null,
   "metadata": {},
   "outputs": [],
   "source": [
    "sub_dict={\n",
    "    \"BIDS\":[],\n",
    "    \"FPREP\":[]\n",
    "}\n",
    "\n",
    "for f in sorted(BIDS_SUBS): \n",
    "    sub=f.split(\"/\")[-1]  \n",
    "    sub_dict[\"BIDS\"].append(sub)\n",
    "    \n",
    "for f in sorted(FPREP_SUBS):\n",
    "    for a in f.split(\"/\"):\n",
    "        if \"sub-\" in a:         \n",
    "            sub = a\n",
    "    sub_dict[\"FPREP\"].append(sub)\n",
    "for sub_ in sub_dict[\"BIDS\"]:\n",
    "    if sub_ not in sub_dict[\"FPREP\"]:\n",
    "        print(sub_)\n",
    "  \n",
    "\n",
    "        "
   ]
  },
  {
   "cell_type": "code",
   "execution_count": 2,
   "metadata": {},
   "outputs": [],
   "source": [
    "#we need to get our target study and its directories\n",
    "#we need to check the BIDS directory, FMRIPREP directory, and the derivatives directories that contain\n",
    "#our feature analysis directories and skull stripped data\n",
    "\n",
    "\n",
    "sess = \"ses-1\"\n",
    "basedir=\"/projects/niblab/bids_projects/Experiments/bbx\"\n",
    "bids_path=os.path.join(basedir, \"BIDS\")\n",
    "fprep_path=os.path.join(basedir, \"fmriprep\")\n",
    "deriv_path=os.path.join(basedir, \"derivatives\")\n",
    "orig_data=os.path.join(\"/projects/niblab/bids_projects/raw_data/continuing_studies/BBx\",sess)\n",
    "\n",
    "#get subjects\n",
    "ORIG_SUBS = glob.glob(os.path.join(orig_data, \"sub-*\"))\n",
    "BIDS_SUBS = glob.glob(os.path.join(bids_path, sess, \"sub-*\"))\n",
    "FPREP_SUBS = glob.glob(os.path.join(fprep_path, \"sub-*\", sess))\n",
    "FEAT1_SUBS = glob.glob(os.path.join(deriv_path, \"sub-*\", sess, \"func/Analysis\", \"feat1\"))\n",
    "FEAT2_SUBS = glob.glob(os.path.join(deriv_path, \"sub-*\", sess, \"func/Analysis\", \"feat2\"))\n",
    "FEAT3_ = glob.glob(os.path.join(deriv_path, \"group_ana\", \"cope*\"+sess+\"*.gfeat\"))"
   ]
  },
  {
   "cell_type": "code",
   "execution_count": null,
   "metadata": {},
   "outputs": [],
   "source": [
    "def make_total_dict():\n",
    "    total_dict = {\n",
    "        \"ORIG\" 0, \n",
    "        \"BIDS\" : 0,\n",
    "        \"FMRIPREP\": 0,\n",
    "        \"FEAT1\": 0\n",
    "    }"
   ]
  },
  {
   "cell_type": "code",
   "execution_count": null,
   "metadata": {},
   "outputs": [],
   "source": [
    "# LETS start by counting our subjects\n",
    "\n",
    "total_dict = {\n",
    "    \"ORIG\": 0, \n",
    "    \"BIDS\" : 0,\n",
    "    \"FMRIPREP\": 0,\n",
    "    \"FEAT1\": 0,\n",
    "    \"FEAT2\": 0,\n",
    "    \"FEEAT3\": 0\n",
    "    }\n",
    "\n",
    "total_dict[\"ORIG\"] = expect_total=len(ORIG_SUBS)\n",
    "total_dict[\"BIDS\"] =  bids_curr_total=len(BIDS_SUBS)\n",
    "total_dict[\"FMRIPREP\"] =  fprep_curr_total=len(FPREP_SUBS)\n",
    "total_dict[\"FEAT1\"] =  feat1_curr_total=len(FEAT1_SUBS)\n",
    "total_dict[\"FEAT2\"] =  feat1_curr_total=len(FEAT2_SUBS)\n",
    "total_dict[\"FEAT3\"] =  feat1_curr_total=len(FEAT3_)\n",
    "\n",
    "total_check_df = pd.DataFrame.from_dict(total_dict, orient=\"index\")\n",
    "total_check_df.columns = [\"Count\"]\n",
    "total_check_df = total_check_df.rename_axis(\"BBx \" +sess)\n",
    "\n",
    "for dir_ in BIDS_SUBS:\n",
    "    anats=glob.glob(os.path.join(dir_, \"anat\", \"*.nii.gz\"))\n",
    "    funcs=glob.glob(os.path.join(dir_, \"func\", \"*.nii.gz\"))\n",
    "    fmaps=glob.glob(os.path.join(dir_, \"fmap\", \"*.nii.gz\"))\n",
    "    \n",
    "for dir_ in FPREP_SUBS:\n",
    "    skulls=glob.glob(os.path.join(dir_, \"fmriprep_wf/single*/anat_prep*/skullstrip_ants_wf/t1*\", \"*BrainExtractionBrain.nii.gz\"))\n",
    "    if not skulls:\n",
    "        print(\"FAIL\")\n",
    "    else:\n",
    "        print(\"PASS\")\n",
    "        \n",
    "for dir_ in FEAT1_SUBS:\n",
    "    FEATS1 = glob.glob(os.path.join(dir_, \"*.feat\"))\n",
    "    if len(FEATS1) == 4:\n",
    "        print(\"PASS\")\n",
    "    else:\n",
    "        print(\"FAIL\")\n",
    "        \n",
    "for dir_ in FEAT2_SUBS:\n",
    "    FEATS2 = glob.glob(os.path.join(dir_, \"*.gfeat\", \"*cope*.feat\"))\n",
    "    if len(FEATS2) == 12:\n",
    "        print(\"PASS\")\n",
    "    else:\n",
    "        print(\"FAIL\")"
   ]
  }
 ],
 "metadata": {
  "kernelspec": {
   "display_name": "Python 3",
   "language": "python",
   "name": "python3"
  },
  "language_info": {
   "codemirror_mode": {
    "name": "ipython",
    "version": 3
   },
   "file_extension": ".py",
   "mimetype": "text/x-python",
   "name": "python",
   "nbconvert_exporter": "python",
   "pygments_lexer": "ipython3",
   "version": "3.6.5"
  }
 },
 "nbformat": 4,
 "nbformat_minor": 2
}
