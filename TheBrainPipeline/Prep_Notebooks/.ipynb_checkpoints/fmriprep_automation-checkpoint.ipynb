{
 "cells": [
  {
   "cell_type": "markdown",
   "metadata": {},
   "source": [
    "GOAL OF SCRIPT: automate fmriprep process. Here we attempt to allow user to input the parameters they want to use for fmriprep and then the script will gather the subjects from given input path and run the process in parallel to minimize runtime."
   ]
  },
  {
   "cell_type": "code",
   "execution_count": null,
   "metadata": {},
   "outputs": [],
   "source": [
    "def set_parser():\n",
    "    global arglist\n",
    "    parser=argparse.ArgumentParser(description='make your fsf files')\n",
    "    parser.add_argument('-fs-no-reconall',dest='NORECONALL', action='store_true',\n",
    "                        default=False, help='')\n",
    "    parser.add_argument('-resource-monitor',dest='RESOURCEMON', action='store_true',\n",
    "                        default=False, help='')\n",
    "    parser.add_argument('-write-graph',dest='WRITEGRAPH', action='store_true',\n",
    "                        default=False, help='')\n",
    "    parser.add_argument('-stop-on-first-crash',dest='STOPCRASH', action='store_true',\n",
    "                        default=False, help='')\n",
    "    parser.add_argument('-ignore',dest='IGNORE',\n",
    "                        default=False, help='ignore {fieldsmaps, slicetiming, sbref} [{fieldsmaps, slicetiming, sbref} ...]')\n",
    "    parser.add_argument('-output=space',dest='OUTSPACE',\n",
    "                        default=False, help='{T1w,template,fsnative,fsaverage,fsaverage6,fsaverage5} [{T1w,template,fsnative,fsaverage,fsaverage6,fsaverage5} ...]')\n",
    "    parser.add_argument('-template',dest='TEMPLATE',\n",
    "                        default=False, help='{MNI152NLin2009cAsym}')\n",
    "    parser.add_argument('-bold2t1w-dof',dest='BOLD2T1',\n",
    "                        default=False, help='{6,9,12}')    \n",
    "    parser.add_argument('-fs-license-file', dest='FSLICENSE',\n",
    "                        default=False, help='PATH')\n",
    "    parser.add_argument('-w', dest='WORKDIR',\n",
    "                        default=False, help='PATH')\n",
    "    parser.add_argument('-debug',dest='DEBUG', action='store_true',\n",
    "                        default=False, help='')\n",
    "    args = parser.parse_args()\n",
    "    arglist={}\n",
    "    for a in args._get_kwargs():\n",
    "        arglist[a[0]]=a[1]"
   ]
  }
 ],
 "metadata": {
  "kernelspec": {
   "display_name": "Python 3",
   "language": "python",
   "name": "python3"
  },
  "language_info": {
   "codemirror_mode": {
    "name": "ipython",
    "version": 3
   },
   "file_extension": ".py",
   "mimetype": "text/x-python",
   "name": "python",
   "nbconvert_exporter": "python",
   "pygments_lexer": "ipython3",
   "version": "3.6.5"
  }
 },
 "nbformat": 4,
 "nbformat_minor": 2
}
