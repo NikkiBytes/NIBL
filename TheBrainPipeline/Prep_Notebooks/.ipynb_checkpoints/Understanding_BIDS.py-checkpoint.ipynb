{
 "cells": [
  {
   "cell_type": "markdown",
   "metadata": {},
   "source": [
    "<b><h1>Brain Imaging Data Structure(BIDS)</h2></b><br>\n",
    "What is?<br> \n",
    "How to? <br>\n",
    "Quality Check? <br>"
   ]
  },
  {
   "cell_type": "markdown",
   "metadata": {},
   "source": [
    "<h3>Quality Analysis</h3><br><br>\n",
    "Check for all relevant directories (this may be dependent on study)."
   ]
  },
  {
   "cell_type": "code",
   "execution_count": 3,
   "metadata": {},
   "outputs": [],
   "source": [
    "import os, shutil, glob\n",
    "\n",
    "#BIDS_PATH = \n",
    "#MULTI_SESS =\n",
    "\n",
    "#def check_subjects():\n",
    "SUB_DIRS = glob.glob(os.path.join(\"/projects/niblab/bids_projects/Experiments/bbx/BIDS\", \"ses-1\", \"sub-*\"))\n",
    "for SUBDIR in sorted(SUB_DIRS):\n",
    "    print(\">>>>-------> \", SUBDIR)\n",
    "    # GET FUNCS  \n",
    "    funcpath = os.path.join(SUBDIR, 'func', '*nii.gz')\n",
    "    FUNCS = glob.glob(funcpath)\n",
    "    if not FUNCS:\n",
    "        print(\"********FAIL NO FUNCTIONALS\")\n",
    "    print(\"> CURRENT FUNCTION FILES: \", FUNCS)\n",
    "    # IDENTIFY FUNCS\n",
    "    for func_ in sorted(FUNCS):\n",
    "        name = func_.split(\"/\")[-1]\n",
    "        print(name)"
   ]
  },
  {
   "cell_type": "code",
   "execution_count": 4,
   "metadata": {},
   "outputs": [],
   "source": [
    "class test:\n",
    "    check_subjects()"
   ]
  },
  {
   "cell_type": "code",
   "execution_count": null,
   "metadata": {},
   "outputs": [],
   "source": []
  }
 ],
 "metadata": {
  "kernelspec": {
   "display_name": "Python 3",
   "language": "python",
   "name": "python3"
  },
  "language_info": {
   "codemirror_mode": {
    "name": "ipython",
    "version": 3
   },
   "file_extension": ".py",
   "mimetype": "text/x-python",
   "name": "python",
   "nbconvert_exporter": "python",
   "pygments_lexer": "ipython3",
   "version": "3.6.5"
  }
 },
 "nbformat": 4,
 "nbformat_minor": 2
}
