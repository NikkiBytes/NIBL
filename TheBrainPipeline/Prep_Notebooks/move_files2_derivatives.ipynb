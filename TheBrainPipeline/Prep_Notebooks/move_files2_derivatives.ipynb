{
 "cells": [
  {
   "cell_type": "markdown",
   "metadata": {},
   "source": [
    "\n",
    "@author: nikkibytes\n",
    "\n",
    "This script has initially been intended to automate the creation of directories,\n",
    "and sorting relevant data together, for Feature Analysis\n"
   ]
  },
  {
   "cell_type": "code",
   "execution_count": 1,
   "metadata": {},
   "outputs": [],
   "source": [
    "import glob\n",
    "import os\n",
    "import fnmatch\n",
    "import subprocess\n",
    "#import pdb\n",
    "import argparse\n",
    "import shutil\n"
   ]
  },
  {
   "cell_type": "code",
   "execution_count": 2,
   "metadata": {},
   "outputs": [],
   "source": [
    "def set_paths():\n",
    "    print (\"STARTING PROGRAM, GETTING VARIABLES....\")\n",
    "    global basedir\n",
    "    global deriv_path\n",
    "    global subjects\n",
    "    global SESS_IDs\n",
    "    SESS_ID = \"ses-2\"\n",
    "    #basedir=input(\"Enter your base directory input path: \")\n",
    "    basedir=\"/projects/niblab/bids_projects/Experiments/bbx\"\n",
    "    #deriv_path=input(\"Enter your derivatives path: \")\n",
    "    deriv_path=os.path.join(basedir, \"derivatives\")\n",
    "    subjects = glob.glob(os.path.join(basedir, \"fmriprep\", ses_id, \"sub-*\"))\n",
    "    print(subjects)"
   ]
  },
  {
   "cell_type": "code",
   "execution_count": 4,
   "metadata": {},
   "outputs": [],
   "source": [
    "def move_anats():\n",
    "    errors = []\n",
    "    print (\"STARTING THE MOVE FILES PROCESS.........\")\n",
    "    for sub_file in subjects:\n",
    "        sub = sub_file.split(\"/\")[-1]\n",
    "        #print(\"SUBJECT >>>> %s \\nSUBJECT FILE >>>> %s\" %(sub, sub_file))\n",
    "        #/single_subject_152_wf/anat_preproc_wf/skullstrip_ants_wf/t1_skull_strip\n",
    "        fmriprep_path=os.path.join(sub_file, 'fmriprep_wf/', 'single_subject_*','anat_preproc_wf/skullstrip_ants_wf/t1_skull_strip/*BrainExtractionBrain*nii.gz')\n",
    "        anat_output_path=os.path.join(deriv_path,sub, ses_id, 'anat')\n",
    "        #print(\"OUTPUT PATH: \", anat_output_path)\n",
    "        #print(\"FMRIPREP_PATH: \", fmriprep_path)\n",
    "        for file in glob.glob(fmriprep_path):\n",
    "            try:\n",
    "                #print(\"Moving file, %s , into directory located at, %s \\n\"%(file, anat_output_path))\n",
    "                #shutil.move(file, anat_output_path)\n",
    "                print(\"Copying file  %s ---------------------------------------> %s \\n\"%(file, anat_output_path))\n",
    "                shutil.copy(file, anat_output_path)\n",
    "            except shutil.Error as error:\n",
    "                errors.extend(error.args[0])\n",
    "                print(\">>>>>>>>>>>>ERRROR\")"
   ]
  },
  {
   "cell_type": "code",
   "execution_count": 3,
   "metadata": {},
   "outputs": [
    {
     "name": "stdout",
     "output_type": "stream",
     "text": [
      "STARTING PROGRAM, GETTING VARIABLES....\n",
      "[]\n"
     ]
    }
   ],
   "source": [
    "set_paths()\n",
    "move_anats()\n"
   ]
  },
  {
   "cell_type": "code",
   "execution_count": null,
   "metadata": {},
   "outputs": [],
   "source": []
  }
 ],
 "metadata": {
  "kernelspec": {
   "display_name": "Python 3",
   "language": "python",
   "name": "python3"
  },
  "language_info": {
   "codemirror_mode": {
    "name": "ipython",
    "version": 3
   },
   "file_extension": ".py",
   "mimetype": "text/x-python",
   "name": "python",
   "nbconvert_exporter": "python",
   "pygments_lexer": "ipython3",
   "version": "3.6.5"
  }
 },
 "nbformat": 4,
 "nbformat_minor": 2
}
