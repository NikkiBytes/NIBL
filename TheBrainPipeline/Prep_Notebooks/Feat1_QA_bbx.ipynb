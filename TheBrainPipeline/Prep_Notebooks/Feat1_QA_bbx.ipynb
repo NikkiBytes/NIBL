{
 "cells": [
  {
   "cell_type": "code",
   "execution_count": 3,
   "metadata": {},
   "outputs": [],
   "source": [
    "import glob, os\n",
    "import subprocess\n",
    "import pandas as pd\n"
   ]
  },
  {
   "cell_type": "code",
   "execution_count": 4,
   "metadata": {},
   "outputs": [],
   "source": [
    "def make_dict(sub):\n",
    "    qa_dict[sub] = {\n",
    "        \"TASKCHECK\": None,\n",
    "        \"TASKCOUNT\": 0,\n",
    "        \"ERRORLOGS\" : [],\n",
    "    }"
   ]
  },
  {
   "cell_type": "code",
   "execution_count": 2,
   "metadata": {},
   "outputs": [],
   "source": [
    "qa_dict = {}\n",
    "SUBJECTS = glob.glob(os.path.join(\"/projects/niblab/bids_projects/Experiments/bbx/derivatives\", \"sub-*\"))\n",
    "cmdA = \"grep 'ERROR' /projects/niblab/bids_projects/Experiments/bbx/derivatives/sub-*/ses-1/func/Analysis/feat1/task*/report_log.html\"\n",
    "#errors = os.system(cmdA)\n",
    "ERRORS = subprocess.check_output(cmdA, shell=True)\n",
    "ERRORS = ERRORS.decode(\"utf-8\")\n",
    "for sub_path in sorted(SUBJECTS):\n",
    "    subID = sub_path.split(\"/\")[-1]\n",
    "    if subID not in qa_dict:\n",
    "        make_dict(subID)\n",
    "    print(\">>>>------> \", subID)\n",
    "    task_count = 0\n",
    "    TASKFOLDERS = glob.glob(os.path.join(sub_path, \"ses-1/func/Analysis/feat1/task*\"))\n",
    "    #print(TASKFOLDERS)\n",
    "    if not TASKFOLDERS:\n",
    "        TASK_CHECK = \"***FAIL\"\n",
    "    else:\n",
    "        for task_dir in TASKFOLDERS:\n",
    "            #print(task_dir)\n",
    "            task_count = task_count + 1\n",
    "        if task_count == 4:\n",
    "            TASK_CHECK = \"PASS\"\n",
    "        else:\n",
    "            TASK_CHECK = \"*PARTIAL FAIL\"\n",
    "    ##check for zstats \n",
    "    qa_dict[subID][\"TASKCHECK\"] = TASK_CHECK\n",
    "    qa_dict[subID][\"TASKCOUNT\"] = task_count \n",
    "\n",
    "        "
   ]
  },
  {
   "cell_type": "code",
   "execution_count": null,
   "metadata": {},
   "outputs": [],
   "source": [
    "for err in ERRORS.split(\"\\n\"):\n",
    "    for word in err.split(\"/\"):\n",
    "        if \"sub-\" in word:\n",
    "            subID = word\n",
    "    for word in err.split(\"/\"):\n",
    "        if \".feat\" in word:\n",
    "            run_dir = word\n",
    "    if run_dir not in qa_dict[subID][\"ERRORLOGS\"]:\n",
    "        qa_dict[subID][\"ERRORLOGS\"].append(run_dir)\n",
    "    else:\n",
    "        pass"
   ]
  },
  {
   "cell_type": "code",
   "execution_count": 5,
   "metadata": {},
   "outputs": [
    {
     "ename": "NameError",
     "evalue": "name 'qa_dict' is not defined",
     "output_type": "error",
     "traceback": [
      "\u001b[0;31m---------------------------------------------------------------------------\u001b[0m",
      "\u001b[0;31mNameError\u001b[0m                                 Traceback (most recent call last)",
      "\u001b[0;32m<ipython-input-5-bff95a4d95d2>\u001b[0m in \u001b[0;36m<module>\u001b[0;34m()\u001b[0m\n\u001b[0;32m----> 1\u001b[0;31m \u001b[0mpd\u001b[0m\u001b[0;34m.\u001b[0m\u001b[0mDataFrame\u001b[0m\u001b[0;34m.\u001b[0m\u001b[0mfrom_dict\u001b[0m\u001b[0;34m(\u001b[0m\u001b[0mqa_dict\u001b[0m\u001b[0;34m,\u001b[0m \u001b[0morient\u001b[0m\u001b[0;34m=\u001b[0m\u001b[0;34m'index'\u001b[0m\u001b[0;34m)\u001b[0m\u001b[0;34m\u001b[0m\u001b[0m\n\u001b[0m",
      "\u001b[0;31mNameError\u001b[0m: name 'qa_dict' is not defined"
     ]
    }
   ],
   "source": [
    "pd.DataFrame.from_dict(qa_dict, orient='index')"
   ]
  },
  {
   "cell_type": "code",
   "execution_count": null,
   "metadata": {},
   "outputs": [],
   "source": [
    "qa_path = os.path.join(\"/projects/niblab/bids_projects/Experiments/bbx/derivatives/quality_ana\", \"feat1_qa\")"
   ]
  },
  {
   "cell_type": "code",
   "execution_count": null,
   "metadata": {},
   "outputs": [],
   "source": [
    "os.makedirs(qa_path)"
   ]
  },
  {
   "cell_type": "code",
   "execution_count": null,
   "metadata": {},
   "outputs": [],
   "source": [
    "with open(qa_path+\"/ses-1_errors.txt\", 'a') as f:\n",
    "    for sub in qa_dict:\n",
    "        for err_ in qa_dict[sub][\"ERRORLOGS\"]:\n",
    "             if not err_:\n",
    "                pass\n",
    "             else:\n",
    "                txt1= \"ERRORS FOUND: \\nSUBJECT: %s\\n\"%(sub)\n",
    "                txt2 = \"DIRECTORY: %s \\n\"%(err_) \n",
    "                f.write(txt1)\n",
    "                f.write(txt2)\n",
    "        if qa_dict[sub][\"TASKCHECK\"] != \"PASS\":\n",
    "            txt3 = \"SUBJECT %s FAILED THE TASK DIRECTORY COUNT\\n\"%(sub)\n",
    "            txt4 = \"THE PROGRAM COUNTED %s TASK DIRECTORIES MADE\\n\"%(qa_dict[sub][\"TASKCOUNT\"])\n",
    "            print(txt3)\n",
    "            print(txt4)\n",
    "            f.write(txt3)\n",
    "            f.write(txt4)"
   ]
  },
  {
   "cell_type": "markdown",
   "metadata": {},
   "source": [
    "QUALITY ANALYSIS NOTES:  \n",
    "  \n",
    "-- sub-018 is missing files  \n",
    "-- sub-002 is missing run-04 onsets  \n",
    "-- sub-004 is missing run-03 onsets\n",
    "-- sub-009 is missing run-03/04 onsets\n"
   ]
  },
  {
   "cell_type": "code",
   "execution_count": null,
   "metadata": {},
   "outputs": [],
   "source": []
  }
 ],
 "metadata": {
  "kernelspec": {
   "display_name": "Python 3",
   "language": "python",
   "name": "python3"
  },
  "language_info": {
   "codemirror_mode": {
    "name": "ipython",
    "version": 3
   },
   "file_extension": ".py",
   "mimetype": "text/x-python",
   "name": "python",
   "nbconvert_exporter": "python",
   "pygments_lexer": "ipython3",
   "version": "3.6.5"
  }
 },
 "nbformat": 4,
 "nbformat_minor": 2
}
