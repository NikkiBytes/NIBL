{
 "cells": [
  {
   "cell_type": "markdown",
   "metadata": {},
   "source": [
    "# Rename your subject folders  \n",
    "  \n",
    "Here we are going to change our subject directory names to match the `sub-X` format for BIDS processing, where `X` can be any identifier of our choice."
   ]
  },
  {
   "cell_type": "code",
   "execution_count": 1,
   "metadata": {},
   "outputs": [],
   "source": [
    "# load in packages\n",
    "import os, glob, shutil\n",
    "from datetime import datetime \n",
    "import re"
   ]
  },
  {
   "cell_type": "markdown",
   "metadata": {},
   "source": [
    "First step is to get the path to the folders. We are simply renaming here and not moving anything, therefore we only need a single path."
   ]
  },
  {
   "cell_type": "code",
   "execution_count": null,
   "metadata": {},
   "outputs": [],
   "source": [
    "# first step is to get the path to our raw dicoms subject folders \n",
    "MAIN_PATH = \"/projects/niblab/bids_projects/raw_data/continuing_studies/BRO\"\n",
    "# now we have the path, we gather the subject folders and hold them in a list \n",
    "# to do this we need to match our folders with a keyword to grab the correct them,\n",
    "# in this example we use the '*' because every folder in the path is relevant. \n",
    "# this may be unique for your data and can be tricky if they have varying names\n",
    "# the goal is to try to find a common keyword among them all that can be matched \n",
    "SUBJECT_FOLDERS=sorted(glob.glob(os.path.join(MAIN_PATH, \"*\")))\n",
    "# now to verify we have grabbed the right folders we simply print the list to view it\n",
    "print(SUBJECT_FOLDERS)"
   ]
  },
  {
   "cell_type": "markdown",
   "metadata": {},
   "source": [
    "Great now we have our folders, next step is to rename them! This is where it becomes difficult to generalize the process because every initial name is different and the target name might be different, and we might have multiple sessions. So below I will show multiple examples that you can modify for your purpose."
   ]
  },
  {
   "cell_type": "markdown",
   "metadata": {},
   "source": [
    "To start I am going to show how to organize multiple sessions:"
   ]
  },
  {
   "cell_type": "code",
   "execution_count": null,
   "metadata": {},
   "outputs": [],
   "source": [
    "# If we have multiple sessions, we are first going to create directories to hold the \n",
    "# individual sessions then we will rename them once they are in their corresponding session directory.\n",
    "# Determing the sessions can be as simple as splitting the directories based on the identifier in the name,\n",
    "# such as \"v1\" vs. \"v2\", or we may have to something more complex such as comparing dates, to identify which is which. \n",
    "\n",
    "# step 1: make your directories -- you will make as many as needed \n",
    "# in this example we make 2 directories for 2 sessions, and because we will use the directory paths in the future, \n",
    "# we will go ahead and save the paths to variables\n",
    "SES1_PATH = os.path.join(MAIN_PATH, \"ses-1\")\n",
    "SES2_PATH = os.path.join(MAIN_PATH, \"ses-2\")\n",
    "#check our paths before making\n",
    "print(SES1_PATH + \"\\n\" + SES2_PATH)\n",
    "#create directories\n",
    "os.makedirs(SES1_PATH)\n",
    "os.makedirs(SES2_PATH)\n",
    "\n",
    "# Now we will go about identifying the sessions and move them to their corresponding directories\n",
    "\n",
    "# so the example data we are using is unique, some names have a direct session identifier and others have dates we have to\n",
    "# sort. So below we are separting the two into sub lists. \n",
    "# To seperate them, we identify unique keywords that we can divide them with. For instance this may be a common date like \"2017\",\n",
    "# or it may be an identifer such as \"V1\" and \"V2\". \n",
    "# Here we were able to see that the folders with session identifiers all have \"Bro_\" in them, and the others do not, therefore\n",
    "# we can confidently seperate based on that. However we always check our lists once we have divided them to ensure we didn't mess up!\n",
    "sess_id_folders = []\n",
    "date_id_folders = []\n",
    "# we must start with looping through the list to check each folder\n",
    "for sub_dir in SUBJECT_FOLDERS:\n",
    "    if \"Bro_\" in sub_dir:\n",
    "        sess_id_folders.append(sub_dir)\n",
    "    else:\n",
    "        date_id_folders.append(sub_dir)\n",
    "        \n",
    "        \n",
    "# now that we have seperated our folders we can now move them into the correct folder!\n",
    "\n",
    "\n",
    "# Case A: grabbing session identifier in the name -- this is when we have a clear identifier in the name\n",
    "# since the identifier is in the name, this process is as simple as checking the ID and moving it into the correct folder\n",
    "# Here \"V2\" corresponds to session 1 and \"V3\" corresponds to session 2\n",
    "for sub_dir in sess_id_folders:\n",
    "    # grab the folder name\n",
    "    name = sub_dir.split(\"/\")[-1]\n",
    "    # check identifier and move into folder\n",
    "    # !note -- I always like to ensure I am identifying correctly before moving anything to avoid complications therefore \n",
    "    # check the identification and name match to what you want by simplying printing the results as seen below!\n",
    "    if \"V2\" in name:\n",
    "        print(\"V2 \",name)\n",
    "        print(\"moving %s >>----> %s\"%(sub_dir, SES1_PATH))\n",
    "        shutil.move(sub_dir, SES1_PATH)\n",
    "    elif \"V3\" in name:\n",
    "        print(\"V3 \",name)\n",
    "        print(\"moving %s >>----> %s\"%(sub_dir, SES2_PATH))\n",
    "        shutil.move(sub_dir, SES2_PATH)\n",
    "    else:\n",
    "        pass\n",
    "    \n",
    "    \n",
    "# Case B: date comparison \n",
    "# in this case we don't have a clear identification but need to compare dates \n",
    "# this can be tricky and unique, therefore I hope the process below can help guide you\n",
    "date_dict = {}\n",
    "for sub_dir in sorted(date_id_folders):\n",
    "    name = sub_dir.split(\"/\")[-1]\n",
    "    date = name.split(\"_\")[-1]\n",
    "    sub = name.split(\"_\")[1]\n",
    "    if sub not in date_dict:\n",
    "        date_dict[sub] = []\n",
    "    date_dict[sub].append(date)\n",
    "    \n",
    "for sub in date_dict:\n",
    "    # if there are not two dates that means we do not have the other sesssion and thus can not compare and for now\n",
    "    # we will pass\n",
    "    if len(date_dict[sub]) < 2:\n",
    "        pass\n",
    "    else:\n",
    "        new_list = []\n",
    "        for date in date_dict[sub]:\n",
    "            x = re.split('(\\d+)', date)\n",
    "            x.remove('')\n",
    "            string=\",\".join(x)\n",
    "            string = string.rstrip(\",\")\n",
    "            new_date = datetime.strptime(string, '%d,%b,%Y')\n",
    "            new_list.append(new_date)\n",
    "        date_dict[sub] = new_list\n",
    "for sub in date_dict:\n",
    "    if len(date_dict[sub]) < 2:\n",
    "        pass\n",
    "    else:\n",
    "        dateA = date_dict[sub][0] \n",
    "        dateB = date_dict[sub][1]\n",
    "        dateA.strftime('%d/%b/%Y'))\n",
    "        new_list = \n",
    "        \n",
    "        "
   ]
  },
  {
   "cell_type": "markdown",
   "metadata": {},
   "source": [
    "Now we have an organized directory we can rename! "
   ]
  },
  {
   "cell_type": "code",
   "execution_count": null,
   "metadata": {},
   "outputs": [],
   "source": [
    "# IF there were multiple sessions are input directories will be different\n",
    "# than the main path\n",
    "\n",
    "### for multi-sess:\n",
    "SES1_SUBS = sorted(glob.glob(os.path.join(SES1_PATH, \"Bbx*\")))\n",
    "SES2_SUBS = sorted(glob.glob(os.path.join(SES2_PATH, \"Bbx*\")))\n",
    "\n",
    "for sub_dir in SES1_SUBS:\n",
    "    name = sub_dir.split(\"/\")[-1]\n",
    "    _id = name.split(\"_\")[1].split(\"W\")[0]\n",
    "    new_name = \"sub-\"+_id\n",
    "    new_path = os.path.join(SES1_PATH, new_name)\n",
    "    os.rename(sub_dir, new_path)\n",
    "    \n",
    "for sub_dir in SES2_SUBS:\n",
    "    name = sub_dir.split(\"/\")[-1]\n",
    "    _id = name.split(\"_\")[1].split(\"W\")[0]\n",
    "    new_name = \"sub-\"+_id\n",
    "    new_path = os.path.join(SES2_PATH, new_name)\n",
    "    print(new_path)\n",
    "    os.rename(sub_dir, new_path)"
   ]
  }
 ],
 "metadata": {
  "kernelspec": {
   "display_name": "Python 3",
   "language": "python",
   "name": "python3"
  },
  "language_info": {
   "codemirror_mode": {
    "name": "ipython",
    "version": 3
   },
   "file_extension": ".py",
   "mimetype": "text/x-python",
   "name": "python",
   "nbconvert_exporter": "python",
   "pygments_lexer": "ipython3",
   "version": "3.6.5"
  }
 },
 "nbformat": 4,
 "nbformat_minor": 2
}
