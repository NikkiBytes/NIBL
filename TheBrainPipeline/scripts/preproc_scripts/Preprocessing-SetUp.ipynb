{
 "cells": [
  {
   "cell_type": "markdown",
   "metadata": {},
   "source": [
    "# Preprocessing & Directory Set Up  \n",
    "\n",
    "#### Once we have our BIDS and fmriprep data we set up a directory and add our relevant files.  \n",
    "\n",
    "DIRECTORY STRUCTURE EXAMPLE:\n",
    "\n",
    "    Experiment-Apple/\n",
    "        sub-XX/[ses-X]\n",
    "            anat/\n",
    "                highres.nii.gz\n",
    "            func/\n",
    "                *_brain.nii.gz\n",
    "                *_brain_mask.nii.gz\n",
    "                Analysis/\n",
    "                    feat1/\n",
    "                    feat2/\n",
    "                motion_assessment/\n",
    "                    *_confounds.txt\n",
    "                    *_outlier.txt\n",
    "                    *.png\n",
    "                    motion_parameteres/\n",
    "                        *_moco[0-X].txt\n",
    "                onsets/\n",
    "                    *.txt\n",
    "              \n",
    "                 "
   ]
  },
  {
   "cell_type": "code",
   "execution_count": null,
   "metadata": {},
   "outputs": [],
   "source": []
  }
 ],
 "metadata": {
  "kernelspec": {
   "display_name": "Python 3",
   "language": "python",
   "name": "python3"
  },
  "language_info": {
   "codemirror_mode": {
    "name": "ipython",
    "version": 3
   },
   "file_extension": ".py",
   "mimetype": "text/x-python",
   "name": "python",
   "nbconvert_exporter": "python",
   "pygments_lexer": "ipython3",
   "version": "3.6.5"
  }
 },
 "nbformat": 4,
 "nbformat_minor": 2
}
