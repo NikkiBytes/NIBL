{
 "cells": [
  {
   "cell_type": "code",
   "execution_count": 1,
   "metadata": {},
   "outputs": [],
   "source": [
    "import glob, os, shutil\n"
   ]
  },
  {
   "cell_type": "code",
   "execution_count": 2,
   "metadata": {},
   "outputs": [
    {
     "ename": "SyntaxError",
     "evalue": "invalid syntax (<ipython-input-2-c96bb27e0831>, line 1)",
     "output_type": "error",
     "traceback": [
      "\u001b[0;36m  File \u001b[0;32m\"<ipython-input-2-c96bb27e0831>\"\u001b[0;36m, line \u001b[0;32m1\u001b[0m\n\u001b[0;31m    SUBS = glob.glob(\"/projects/niblab/bids_projects/Experiments/bbx/derivatives\", \"sub-*\"))\u001b[0m\n\u001b[0m                                                                                           ^\u001b[0m\n\u001b[0;31mSyntaxError\u001b[0m\u001b[0;31m:\u001b[0m invalid syntax\n"
     ]
    }
   ],
   "source": [
    "SUBS = glob.glob(os.path.join(\"/projects/niblab/bids_projects/Experiments/bbx/derivatives\", \"sub-*\"))\n",
    "\n",
    "for sub_deriv_path in SUBS:\n",
    "    sub_ID= sub_deriv_path.split(\"/\")[-1]\n",
    "    ONSETS = glob.glob(os.path.join(\"/projects/niblab/bids_projects/raw_data/continuing_studies/BBx/logs/ready_logs\", sub_ID+\"*ses-1*.txt\"  ))\n",
    "    new_dest = os.path.join(sub_deriv_path, \"ses-1\", \"func\", \"onsets\")\n",
    "    for orig_dest in ONSETS:\n",
    "        try:\n",
    "            print(\"MOVING %s >>>>----------------> %s \"%(orig_dest, new_dest))\n",
    "            shutil.copy(orig_dest, new_dest)\n",
    "        except:\n",
    "            print(\"ERROR ON \", sub_ID)"
   ]
  },
  {
   "cell_type": "code",
   "execution_count": null,
   "metadata": {},
   "outputs": [],
   "source": []
  }
 ],
 "metadata": {
  "kernelspec": {
   "display_name": "Python 3",
   "language": "python",
   "name": "python3"
  },
  "language_info": {
   "codemirror_mode": {
    "name": "ipython",
    "version": 3
   },
   "file_extension": ".py",
   "mimetype": "text/x-python",
   "name": "python",
   "nbconvert_exporter": "python",
   "pygments_lexer": "ipython3",
   "version": "3.6.5"
  }
 },
 "nbformat": 4,
 "nbformat_minor": 2
}
