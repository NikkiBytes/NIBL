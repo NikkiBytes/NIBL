{
 "cells": [
  {
   "cell_type": "code",
   "execution_count": 8,
   "metadata": {},
   "outputs": [],
   "source": [
    "import pandas as pd\n",
    "import os\n",
    "import glob"
   ]
  },
  {
   "cell_type": "code",
   "execution_count": 17,
   "metadata": {},
   "outputs": [],
   "source": [
    "# get the data / directory\n",
    "def get_subjects():\n",
    "    global subjects\n",
    "    global basedir\n",
    "    subjects = []\n",
    "    basedir=input(\"Enter the main directory: \")\n",
    "    fmriprep_dir=os.path.join(basedir, 'fmriprep')\n",
    "    os.chdir(fmriprep_dir)\n",
    "    subjects=glob.glob(\"sub-*\")\n"
   ]
  },
  {
   "cell_type": "code",
   "execution_count": 18,
   "metadata": {},
   "outputs": [],
   "source": [
    "def write_files(task, run, moco_df, outputdir, sub):\n",
    "    for col in moco_df.columns:\n",
    "        if task != 'task-rest':\n",
    "            filename = \"%s_%s_%s_%s.txt\"%(sub, task, run, col)\n",
    "        else:\n",
    "            filename = \"%s_task-rest.txt\"%(sub)\n",
    "        output_path=os.path.join(outputdir, filename)\n",
    "        print(\"Writing to file, \", output_path)\n",
    "        moco_df[col].to_csv(output_path, header=False, index=False)"
   ]
  },
  {
   "cell_type": "code",
   "execution_count": 19,
   "metadata": {},
   "outputs": [],
   "source": [
    "def get_data(): \n",
    "    for sub in subjects:\n",
    "        #print(sub)\n",
    "        filepath=os.path.join(basedir, 'fmriprep', sub, 'fmriprep', sub, 'func')\n",
    "        outputdir=os.path.join(basedir, 'derivatives', sub, 'func', 'motion_assessment')\n",
    "        if not os.path.exists(os.path.join(outputdir, 'motion_parameters')):\n",
    "            os.makedirs(os.path.join(outputdir,  'motion_parameters'))\n",
    "        outputdir=os.path.join(outputdir, 'motion_parameters')\n",
    "        for run in glob.glob(os.path.join(filepath,\"*confounds.tsv\")):\n",
    "       # print(\"FILE: \", run)\n",
    "            df = pd.read_table(run)\n",
    "            moco_df=df[['X', 'Y', 'Z', 'RotX', 'RotY', 'RotZ']]\n",
    "            moco_df.columns = ['moco0', 'moco1', 'moco2', 'moco3', 'moco4', 'moco5'] \n",
    "        #print(moco_df.head())\n",
    "            name=run.split('_')\n",
    "    #    print(task)\n",
    "            for word in name:\n",
    "                if 'task' in word:\n",
    "                    task=word\n",
    "            if task == \"task-rest\":\n",
    "                run=None\n",
    "                #rite_files(task, run, moco_df, outputdir,sub)\n",
    "            else:\n",
    "                for word in name:\n",
    "                    if 'run' in word:\n",
    "                        run=word\n",
    "                write_files(task, run, moco_df,outputdir,sub)\n",
    "#        print(\"TASK: \", task)\n",
    "#        print(\"RUN: \", run)"
   ]
  },
  {
   "cell_type": "code",
   "execution_count": 20,
   "metadata": {},
   "outputs": [],
   "source": [
    "def main():\n",
    "    get_subjects()\n",
    "    get_data()\n",
    "    "
   ]
  },
  {
   "cell_type": "code",
   "execution_count": 21,
   "metadata": {},
   "outputs": [
    {
     "name": "stdout",
     "output_type": "stream",
     "text": [
      "Enter the main directory: /Users/nikkibytes/Documents/Test\n",
      "Writing to file,  /Users/nikkibytes/Documents/Test/derivatives/sub-001/func/motion_assessment/motion_parameters/sub-001_task-prob_run-1_moco0.txt\n",
      "Writing to file,  /Users/nikkibytes/Documents/Test/derivatives/sub-001/func/motion_assessment/motion_parameters/sub-001_task-prob_run-1_moco1.txt\n",
      "Writing to file,  /Users/nikkibytes/Documents/Test/derivatives/sub-001/func/motion_assessment/motion_parameters/sub-001_task-prob_run-1_moco2.txt\n",
      "Writing to file,  /Users/nikkibytes/Documents/Test/derivatives/sub-001/func/motion_assessment/motion_parameters/sub-001_task-prob_run-1_moco3.txt\n",
      "Writing to file,  /Users/nikkibytes/Documents/Test/derivatives/sub-001/func/motion_assessment/motion_parameters/sub-001_task-prob_run-1_moco4.txt\n",
      "Writing to file,  /Users/nikkibytes/Documents/Test/derivatives/sub-001/func/motion_assessment/motion_parameters/sub-001_task-prob_run-1_moco5.txt\n",
      "Writing to file,  /Users/nikkibytes/Documents/Test/derivatives/sub-001/func/motion_assessment/motion_parameters/sub-001_task-prob_run-2_moco0.txt\n",
      "Writing to file,  /Users/nikkibytes/Documents/Test/derivatives/sub-001/func/motion_assessment/motion_parameters/sub-001_task-prob_run-2_moco1.txt\n",
      "Writing to file,  /Users/nikkibytes/Documents/Test/derivatives/sub-001/func/motion_assessment/motion_parameters/sub-001_task-prob_run-2_moco2.txt\n",
      "Writing to file,  /Users/nikkibytes/Documents/Test/derivatives/sub-001/func/motion_assessment/motion_parameters/sub-001_task-prob_run-2_moco3.txt\n",
      "Writing to file,  /Users/nikkibytes/Documents/Test/derivatives/sub-001/func/motion_assessment/motion_parameters/sub-001_task-prob_run-2_moco4.txt\n",
      "Writing to file,  /Users/nikkibytes/Documents/Test/derivatives/sub-001/func/motion_assessment/motion_parameters/sub-001_task-prob_run-2_moco5.txt\n",
      "Writing to file,  /Users/nikkibytes/Documents/Test/derivatives/sub-001/func/motion_assessment/motion_parameters/sub-001_task-prob_run-3_moco0.txt\n",
      "Writing to file,  /Users/nikkibytes/Documents/Test/derivatives/sub-001/func/motion_assessment/motion_parameters/sub-001_task-prob_run-3_moco1.txt\n",
      "Writing to file,  /Users/nikkibytes/Documents/Test/derivatives/sub-001/func/motion_assessment/motion_parameters/sub-001_task-prob_run-3_moco2.txt\n",
      "Writing to file,  /Users/nikkibytes/Documents/Test/derivatives/sub-001/func/motion_assessment/motion_parameters/sub-001_task-prob_run-3_moco3.txt\n",
      "Writing to file,  /Users/nikkibytes/Documents/Test/derivatives/sub-001/func/motion_assessment/motion_parameters/sub-001_task-prob_run-3_moco4.txt\n",
      "Writing to file,  /Users/nikkibytes/Documents/Test/derivatives/sub-001/func/motion_assessment/motion_parameters/sub-001_task-prob_run-3_moco5.txt\n",
      "Writing to file,  /Users/nikkibytes/Documents/Test/derivatives/sub-001/func/motion_assessment/motion_parameters/sub-001_task-prob_run-4_moco0.txt\n",
      "Writing to file,  /Users/nikkibytes/Documents/Test/derivatives/sub-001/func/motion_assessment/motion_parameters/sub-001_task-prob_run-4_moco1.txt\n",
      "Writing to file,  /Users/nikkibytes/Documents/Test/derivatives/sub-001/func/motion_assessment/motion_parameters/sub-001_task-prob_run-4_moco2.txt\n",
      "Writing to file,  /Users/nikkibytes/Documents/Test/derivatives/sub-001/func/motion_assessment/motion_parameters/sub-001_task-prob_run-4_moco3.txt\n",
      "Writing to file,  /Users/nikkibytes/Documents/Test/derivatives/sub-001/func/motion_assessment/motion_parameters/sub-001_task-prob_run-4_moco4.txt\n",
      "Writing to file,  /Users/nikkibytes/Documents/Test/derivatives/sub-001/func/motion_assessment/motion_parameters/sub-001_task-prob_run-4_moco5.txt\n",
      "Writing to file,  /Users/nikkibytes/Documents/Test/derivatives/sub-001/func/motion_assessment/motion_parameters/sub-001_task-rest.txt\n",
      "Writing to file,  /Users/nikkibytes/Documents/Test/derivatives/sub-001/func/motion_assessment/motion_parameters/sub-001_task-rest.txt\n",
      "Writing to file,  /Users/nikkibytes/Documents/Test/derivatives/sub-001/func/motion_assessment/motion_parameters/sub-001_task-rest.txt\n",
      "Writing to file,  /Users/nikkibytes/Documents/Test/derivatives/sub-001/func/motion_assessment/motion_parameters/sub-001_task-rest.txt\n",
      "Writing to file,  /Users/nikkibytes/Documents/Test/derivatives/sub-001/func/motion_assessment/motion_parameters/sub-001_task-rest.txt\n",
      "Writing to file,  /Users/nikkibytes/Documents/Test/derivatives/sub-001/func/motion_assessment/motion_parameters/sub-001_task-rest.txt\n"
     ]
    }
   ],
   "source": [
    "main()"
   ]
  },
  {
   "cell_type": "code",
   "execution_count": null,
   "metadata": {},
   "outputs": [],
   "source": []
  }
 ],
 "metadata": {
  "kernelspec": {
   "display_name": "Python 3",
   "language": "python",
   "name": "python3"
  },
  "language_info": {
   "codemirror_mode": {
    "name": "ipython",
    "version": 3
   },
   "file_extension": ".py",
   "mimetype": "text/x-python",
   "name": "python",
   "nbconvert_exporter": "python",
   "pygments_lexer": "ipython3",
   "version": "3.6.5"
  }
 },
 "nbformat": 4,
 "nbformat_minor": 2
}
