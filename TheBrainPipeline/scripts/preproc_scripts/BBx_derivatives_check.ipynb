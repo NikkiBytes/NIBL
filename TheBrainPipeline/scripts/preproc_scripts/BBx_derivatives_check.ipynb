{
 "cells": [
  {
   "cell_type": "code",
   "execution_count": 12,
   "metadata": {},
   "outputs": [],
   "source": [
    "def make_dict(sub):\n",
    "    subject_dict[sub] = {\n",
    "        'ANAT': None,\n",
    "        'FUNC': None,\n",
    "        'RUNCOUNT': 0,\n",
    "        'ONSET' : None,\n",
    "        'ONSETCOUNT' : 0,\n",
    "        'MOTA' : None,\n",
    "        'MOTACOUNT' : 0,\n",
    "        'MOTB' : None,\n",
    "        'MOTBCOUNT' : 0\n",
    "    }"
   ]
  },
  {
   "cell_type": "code",
   "execution_count": 13,
   "metadata": {},
   "outputs": [],
   "source": [
    "### script to track subjects for bbx\n",
    "import glob, os\n",
    "subject_dict = {}\n",
    "PATH = \"/projects/niblab/bids_projects/Experiments/bbx\" \n",
    "BIDS_SUBS = glob.glob(os.path.join(PATH, \"BIDS\", \"ses-1\", \"sub-*\"))\n",
    "for sub_path in BIDS_SUBS:\n",
    "    sub = sub_path.split(\"/\")[-1]\n",
    "    make_dict(sub)"
   ]
  },
  {
   "cell_type": "code",
   "execution_count": 17,
   "metadata": {},
   "outputs": [],
   "source": [
    "# check derivatives dir\n",
    "deriv_path = \"/projects/niblab/bids_projects/Experiments/bbx/derivatives\"\n",
    "DERIVS  = glob.glob(os.path.join(deriv_path, \"sub-*\"))\n",
    "for key in subject_dict:\n",
    "    sub = key\n",
    "    ANATS = glob.glob(os.path.join(deriv_sub, \"anat\", \"*\"))\n",
    "    FUNC = glob.glob(os.path.join(deriv_sub,\"func\", \"*brain.nii.gz\" ))\n",
    "    ONSETS = glob.glob(os.path.join(deriv_sub, \"func\", \"onsets\", \"*\"))\n",
    "    MOTIONA = glob.glob(os.path.join(deriv_sub, \"func\", \"mot*\", \"*.txt\"))\n",
    "    MOTIONB = glob.glob(os.path.join(deriv_sub, \"func/mot*/mot*\", \"*.txt\"))\n",
    "    runcount = 0\n",
    "    onsetcount = 0\n",
    "    motBcount = 0 \n",
    "    motAcount = 0\n",
    "    if not ANATS:\n",
    "        anat_check = \"FAIL\"\n",
    "    else:\n",
    "        anat_check = \"PASS\"\n",
    "    if not FUNC:\n",
    "        func_check = \"FAIL\"\n",
    "    else:\n",
    "        for f in FUNC:\n",
    "            if \"resting\" in f:\n",
    "                rest_check = \"PASS\"\n",
    "            if 'run' in f:\n",
    "                runcount = runcount + 1\n",
    "        if runcount == 4 and rest_check == \"PASS\":\n",
    "            func_check = \"PASS\"\n",
    "        else:\n",
    "            func_check = \"PARTIAL PASS\"\n",
    "    if not ONSETS:\n",
    "        onset_check = \"FAIL\"\n",
    "    else:\n",
    "        for o in ONSETS:\n",
    "            onsetcount = onsetcount + 1\n",
    "        onset_check = \"NA\"\n",
    "    if not MOTIONA:\n",
    "        motA_check = \"FAIL\"\n",
    "    else: \n",
    "        for m in MOTIONA:\n",
    "            motAcount = motAcount  + 1\n",
    "        motA_check = \"NA\"\n",
    "    if not MOTIONB:\n",
    "        motB_check = \"FAIL\"\n",
    "    else:\n",
    "        for m in MOTIONB:\n",
    "            motBcount = motBcount + 1\n",
    "        motB_check = \"NA\"\n",
    "    subject_dict[sub][\"ANAT\"] = anat_check\n",
    "    subject_dict[sub][\"FUNC\"] = func_check \n",
    "    subject_dict[sub][\"RUNCOUNT\"] = runcount\n",
    "    subject_dict[sub][\"ONSET\"] = onset_check\n",
    "    subject_dict[sub][\"ONSETCOUNT\"] = onsetcount\n",
    "    subject_dict[sub][\"MOTA\"] = motA_check\n",
    "    subject_dict[sub][\"MOTACOUNT\"] = motAcount\n",
    "    subject_dict[sub][\"MOTB\"] = motB_check\n",
    "    subject_dict[sub][\"MOTBCOUNT\"] = motBcount"
   ]
  },
  {
   "cell_type": "code",
   "execution_count": null,
   "metadata": {},
   "outputs": [],
   "source": []
  }
 ],
 "metadata": {
  "kernelspec": {
   "display_name": "Python 3",
   "language": "python",
   "name": "python3"
  },
  "language_info": {
   "codemirror_mode": {
    "name": "ipython",
    "version": 3
   },
   "file_extension": ".py",
   "mimetype": "text/x-python",
   "name": "python",
   "nbconvert_exporter": "python",
   "pygments_lexer": "ipython3",
   "version": "3.6.5"
  }
 },
 "nbformat": 4,
 "nbformat_minor": 2
}
