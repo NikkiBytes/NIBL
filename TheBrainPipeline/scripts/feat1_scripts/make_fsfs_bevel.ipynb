{
 "cells": [
  {
   "cell_type": "code",
   "execution_count": 1,
   "metadata": {},
   "outputs": [],
   "source": [
    "import glob\n",
    "import os\n",
    "from subprocess import check_output\n",
    "import argparse\n",
    "import re\n"
   ]
  },
  {
   "cell_type": "code",
   "execution_count": null,
   "metadata": {},
   "outputs": [],
   "source": [
    "def set_parser():\n",
    "    global arglist\n",
    "    parser=argparse.ArgumentParser(description='make your fsf files')\n",
    "    parser.add_argument('-noreg',dest='NOREG', action='store_true',\n",
    "                        default=False, help='Did you already register your data (using ANTZ maybe)?')\n",
    "    parser.add_argument('-task',dest='TASK',\n",
    "                        default=False, help='which functional task are we using?')\n",
    "    parser.add_argument('-evs',dest='EV',nargs='+',\n",
    "                        default=False, help='which evs are we using?')\n",
    "    parser.add_argument('-runs',dest='RUN',nargs='+',\n",
    "                        default=False, help='which run are we using?')\n",
    "    parser.add_argument('-multisess',dest='MULTI_SESS', action='store_true',\n",
    "                        default=False, help='Do you have multiple sessions? (True or False)')\n",
    "    parser.add_argument('-sess ',dest='SESS',\n",
    "                        default=False, help='which ses are we using?')\n",
    "    parser.add_argument('-input_dir ',dest='INDIR',\n",
    "                        default=False, help='please enter your input directory')\n",
    "    parser.add_argument('-deriv_dir ',dest='DERIVDIR',\n",
    "                        default=False, help='please enter your derivatives directory')\n",
    "    args = parser.parse_args()\n",
    "    arglist={}\n",
    "    for a in args._get_kwargs():\n",
    "        arglist[a[0]]=a[1]\n",
    "        "
   ]
  }
 ],
 "metadata": {
  "kernelspec": {
   "display_name": "Python 3",
   "language": "python",
   "name": "python3"
  },
  "language_info": {
   "codemirror_mode": {
    "name": "ipython",
    "version": 3
   },
   "file_extension": ".py",
   "mimetype": "text/x-python",
   "name": "python",
   "nbconvert_exporter": "python",
   "pygments_lexer": "ipython3",
   "version": "3.6.5"
  }
 },
 "nbformat": 4,
 "nbformat_minor": 2
}
