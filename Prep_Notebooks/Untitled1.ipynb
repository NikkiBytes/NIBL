{
 "cells": [
  {
   "cell_type": "markdown",
   "metadata": {},
   "source": [
    "<h1> Polishing BIDS </h1>\n",
    "<h3> Here we will edit the BIDS output to fit validation. </h3>"
   ]
  },
  {
   "cell_type": "code",
   "execution_count": null,
   "metadata": {},
   "outputs": [],
   "source": [
    "import glob, os\n",
    "\n",
    "bids_path = \"/projects/niblab/bids_projects/Experiments/Bevel/BIDS\"\n",
    "SUBJECTS = glob.glob(os.path.join(bids_path, \"sub-*\"))\n",
    "\n",
    "for sub_path in sorted(SUBJECTS):\n",
    "    #print(sub_path.split(\"/\")[-1])\n",
    "    SUB_DIR = glob.glob(os.path.join(sub_path, \"*\"))\n",
    "    for path_ in SUB_DIR: \n",
    "        #print(path_)\n",
    "        curr_ID = path_.split(\"/\")[-1]\n",
    "        if \"CHANGES\" in curr_ID:\n",
    "            print(\"deleting \", curr_ID)\n",
    "        elif \"README\" in curr_ID:\n",
    "            print(\"deleting \", curr_ID)\n",
    "        elif \"dataset_description.json\" in curr_ID:\n",
    "            print(\"deleting \", curr_ID)\n",
    "        else:\n",
    "            print(\"passing these files \", curr_ID)\n",
    "        "
   ]
  }
 ],
 "metadata": {
  "kernelspec": {
   "display_name": "Python 3",
   "language": "python",
   "name": "python3"
  },
  "language_info": {
   "codemirror_mode": {
    "name": "ipython",
    "version": 3
   },
   "file_extension": ".py",
   "mimetype": "text/x-python",
   "name": "python",
   "nbconvert_exporter": "python",
   "pygments_lexer": "ipython3",
   "version": "3.6.5"
  }
 },
 "nbformat": 4,
 "nbformat_minor": 2
}
