{
 "cells": [
  {
   "cell_type": "code",
   "execution_count": 23,
   "metadata": {},
   "outputs": [],
   "source": [
    "import glob, os, shutil\n"
   ]
  },
  {
   "cell_type": "code",
   "execution_count": 7,
   "metadata": {},
   "outputs": [],
   "source": [
    "basedir = \"/projects/niblab/bids_projects/Experiments/bbx\"\n",
    "derivdir = os.path.join(basedir, \"derivatives\")\n",
    "if not os.path.exists(derivdir):\n",
    "    os.makedirs(derivdir)\n",
    "sess_id = \"ses-1\"\n",
    "subjects = glob.glob(os.path.join(basedir, \"BIDS\", sess_id, \"sub-*\"))\n"
   ]
  },
  {
   "cell_type": "code",
   "execution_count": 13,
   "metadata": {},
   "outputs": [],
   "source": [
    "#MAKE DIRECTORIES \n",
    "for sub_path in sorted(subjects):\n",
    "    sub_ = sub_path.split(\"/\")[-1]\n",
    "    sub_deriv_path = os.path.join(derivdir, sub_,sess_id)\n",
    "    #print(sub_deriv_path)\n",
    "    if not os.path.exists(sub_deriv_path):\n",
    "        os.makedirs(sub_deriv_path)\n",
    "    anat_path = os.path.join(sub_deriv_path, \"anat\")\n",
    "    func_path = os.path.join(sub_deriv_path, \"func\")\n",
    "    ana_path = os.path.join(func_path, \"Analysis\")\n",
    "    motion_path = os.path.join(func_path, \"motion_assessment\", \"motion_parameters\")\n",
    "    onset_path = os.path.join(func_path, \"onsets\")\n",
    "    dirs = [anat_path, func_path, ana_path, motion_path,onset_path]\n",
    "    for dir_ in dirs:\n",
    "        if not os.path.exists(dir_):\n",
    "            os.makedirs(dir_)\n",
    "            "
   ]
  },
  {
   "cell_type": "code",
   "execution_count": 24,
   "metadata": {},
   "outputs": [],
   "source": [
    "## MOVE RELEVANT FILES OVER \n",
    "# Moving onsets from previous directory--will be different for each unique study\n",
    "CURR_ONSET_SUBS = glob.glob(os.path.join(\"/projects/niblab/bids_projects/Experiments/bbx/baddies/derivatives\", \"sub-*\"))\n",
    "for sub_path in sorted(CURR_ONSET_SUBS):\n",
    "    sub_ = sub_path.split(\"/\")[-1]\n",
    "    new_path = os.path.join(derivdir, sub_, sess_id, \"func\", \"onsets\")\n",
    "    #print(new_path)\n",
    "    ONSETS = glob.glob(os.path.join(sub_path, \"ses-1\", \"func\", \"onsets\", \"*\"))\n",
    "    for onset in ONSETS:\n",
    "        shutil.move(onset, new_path)"
   ]
  },
  {
   "cell_type": "code",
   "execution_count": null,
   "metadata": {},
   "outputs": [],
   "source": []
  }
 ],
 "metadata": {
  "kernelspec": {
   "display_name": "Python 3",
   "language": "python",
   "name": "python3"
  },
  "language_info": {
   "codemirror_mode": {
    "name": "ipython",
    "version": 3
   },
   "file_extension": ".py",
   "mimetype": "text/x-python",
   "name": "python",
   "nbconvert_exporter": "python",
   "pygments_lexer": "ipython3",
   "version": "3.6.5"
  }
 },
 "nbformat": 4,
 "nbformat_minor": 2
}
