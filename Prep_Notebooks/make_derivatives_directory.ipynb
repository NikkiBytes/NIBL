{
 "cells": [
  {
   "cell_type": "code",
   "execution_count": 1,
   "metadata": {},
   "outputs": [],
   "source": [
    "import glob\n",
    "import os"
   ]
  },
  {
   "cell_type": "code",
   "execution_count": 12,
   "metadata": {},
   "outputs": [],
   "source": [
    "#BASE_DIR = input(\"Enter the base directory: \") #ENTER SUBJECT\n",
    "BASE_DIR = \"/projects/niblab/bids_projects/Experiments/bbx\" \n",
    "BASE_DERIV_DIR = \"/projects/niblab/bids_projects/Experiments/bbx/derivatives\" \n",
    "SESS_ID = \"ses-2\"\n",
    "#BIDS_PATH = input(\"Enter the BIDS directory: \")\n",
    "BIDS_PATH = \"/projects/niblab/bids_projects/Experiments/BBx/BIDS/ses-2\""
   ]
  },
  {
   "cell_type": "code",
   "execution_count": 11,
   "metadata": {},
   "outputs": [
    {
     "data": {
      "text/plain": [
       "'/projects/niblab/bids_projects/Experiments/bbx/fmriprep'"
      ]
     },
     "execution_count": 11,
     "metadata": {},
     "output_type": "execute_result"
    }
   ],
   "source": [
    "FMRIPREP_PATH = os.path.join(BASE_DIR, \"fmriprep\")\n",
    "FMRIPREP_PATH"
   ]
  },
  {
   "cell_type": "code",
   "execution_count": 13,
   "metadata": {},
   "outputs": [],
   "source": [
    "SUBJECTS = glob.glob(os.path.join(BIDS_PATH, \"sub-*\"))"
   ]
  },
  {
   "cell_type": "code",
   "execution_count": 14,
   "metadata": {},
   "outputs": [],
   "source": [
    "# get files\n",
    "for sub_path in SUBJECTS:\n",
    "    SUB_ID = sub_path.split(\"/\")[-1]\n",
    "    print(\">>>--------------> \" + sub_path.split(\"/\")[-1])\n",
    "    FUNCS = glob.glob(os.path.join(sub_path, 'func', '*nii.gz' ))\n",
    "    for func in FUNCS:\n",
    "        print(func)\n",
    "# make directories \n",
    "# NEEDED DIRECTORIES\n",
    "    # IF MULTI SESSION:\n",
    "    #~/derivatives/sub-0XX/ses-1/func\n",
    "    DERIV_FUNC_PATH = os.path.join(BASE_DERIV_DIR, SUB_ID, SESS_ID, \"func\")\n",
    "    if not os.path.exists(DERIV_FUNC_PATH):\n",
    "        print(\"MAKING >>>>>-----------------------------------> %s\"%(DERIV_FUNC_PATH))\n",
    "        os.makedirs(DERIV_FUNC_PATH)\n",
    "    #~/derivatives/sub-0XX/ses-1/anat\n",
    "    DERIV_ANAT_PATH = os.path.join(BASE_DERIV_DIR, SUB_ID, SESS_ID, \"anat\")\n",
    "    if not os.path.exists(DERIV_ANAT_PATH):\n",
    "        print(\"MAKING >>>>>-----------------------------------> %s\"%(DERIV_ANAT_PATH))\n",
    "        os.makedirs(DERIV_ANAT_PATH)\n",
    "    #~/derivatives/sub-0XX/ses-1/func/Analysis\n",
    "    DERIV_ANALYSIS_PATH = os.path.join(BASE_DERIV_DIR, SUB_ID, SESS_ID, \"func\", \"Analysis\")\n",
    "    if not os.path.exists(DERIV_ANALYSIS_PATH):\n",
    "        print(\"MAKING >>>>>-----------------------------------> %s\"%(DERIV_ANALYSIS_PATH))\n",
    "        os.makedirs(DERIV_ANALYSIS_PATH)\n",
    "    #~/derivatives/sub-0XX/ses-1/func/motion_assessment/motion_paramters\n",
    "    DERIV_MOCO_PATH = os.path.join(BASE_DERIV_DIR, SUB_ID, SESS_ID, \"func\", \"motion_assessment\", \"motion_parameters\")\n",
    "    if not os.path.exists(DERIV_MOCO_PATH):\n",
    "        print(\"MAKING >>>>>-----------------------------------> %s\"%(DERIV_MOCO_PATH))\n",
    "        os.makedirs(DERIV_MOCO_PATH)\n",
    "    #~/derivatives/sub-0XX/ses-1/func/onsets\n",
    "    DERIV_ONSETS_PATH = os.path.join(BASE_DERIV_DIR, SUB_ID, SESS_ID, \"func\", \"onsets\")\n",
    "    if not os.path.exists(DERIV_ONSETS_PATH):\n",
    "        print(\"MAKING >>>>>-----------------------------------> %s\"%(DERIV_ONSETS_PATH))\n",
    "        os.makedirs(DERIV_ONSETS_PATH)\n",
    "\n",
    "    "
   ]
  },
  {
   "cell_type": "code",
   "execution_count": null,
   "metadata": {},
   "outputs": [],
   "source": []
  }
 ],
 "metadata": {
  "kernelspec": {
   "display_name": "Python 3",
   "language": "python",
   "name": "python3"
  },
  "language_info": {
   "codemirror_mode": {
    "name": "ipython",
    "version": 3
   },
   "file_extension": ".py",
   "mimetype": "text/x-python",
   "name": "python",
   "nbconvert_exporter": "python",
   "pygments_lexer": "ipython3",
   "version": "3.6.5"
  }
 },
 "nbformat": 4,
 "nbformat_minor": 2
}
