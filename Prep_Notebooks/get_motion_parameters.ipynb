{
 "cells": [
  {
   "cell_type": "code",
   "execution_count": 2,
   "metadata": {},
   "outputs": [],
   "source": [
    "import pandas as pd\n",
    "import os\n",
    "import glob"
   ]
  },
  {
   "cell_type": "markdown",
   "metadata": {},
   "source": [
    " The get_subjects() method takes the input from the user,\n",
    " and sets a basedir variable holding the input path,\n",
    " it sets the fmriprep_dir based on the basedir,\n",
    " and it goes to the fmriprep directory and gathers a list of subjects"
   ]
  },
  {
   "cell_type": "code",
   "execution_count": 3,
   "metadata": {},
   "outputs": [],
   "source": [
    "def get_subjects():\n",
    "    global subjects\n",
    "    global basedir\n",
    "    subjects = []\n",
    "    # make script argument?\n",
    "    basedir=input(\"Enter the main directory: \")\n",
    "    ## add this as input variable\n",
    "    multi_sess= True\n",
    "    sess_ID = \"ses-1\"\n",
    "    if multi_sess == True:\n",
    "        fmriprep_dir=os.path.join(basedir, 'fmriprep', sess_ID)\n",
    "    else:\n",
    "        fmriprep_dir=os.path.join(basedir, 'fmriprep')\n",
    "    os.chdir(fmriprep_dir)\n",
    "    subjects=glob.glob(\"sub-*\")\n",
    "    #print(\"SUBJECTS: \", subjects)"
   ]
  },
  {
   "cell_type": "markdown",
   "metadata": {},
   "source": [
    "The **write_files()** method takes in various variables:\n",
    "+ the task, the run #,\n",
    "+ the subject(sub),\n",
    "+ the output directory(outputdir),\n",
    "+ the motion correction dataframe holding the relevant data,\n",
    "\n",
    "Then it will write the data into the relevant motion corrected text file."
   ]
  },
  {
   "cell_type": "code",
   "execution_count": 5,
   "metadata": {},
   "outputs": [],
   "source": [
    "def write_files(task, run, moco_df, outputdir, sub):\n",
    "    # iterate through the motion correction data frame by columns,\n",
    "    # writing individual columns to individual files\n",
    "    for col in moco_df.columns:\n",
    "        if run != None:\n",
    "            filename = \"%s_ses-2_%s_%s_%s.txt\"%(sub, task, run, col)\n",
    "            print(\"%s || %s || %s || %s\"%(sub, task, run, col))\n",
    "            print(\"WRITING TO FILE >>>>>>>>>>>>>>>>>>>>>>> %s\"%filename)\n",
    "        else:\n",
    "            #filename = \"%s_task-rest.txt\"%(sub)\n",
    "            filename = \"%s_ses-2_%s_%s.txt\"%(sub, task, col)\n",
    "            print(\"WRITING TO FILE >>>>>>>>>>>>>>>>>>>>>>> %s\"%filename)\n",
    "        output_path=os.path.join(outputdir, filename)\n",
    "        print(\"Writing to file, \", output_path)\n",
    "        moco_df[col].to_csv(output_path, header=False, index=False)\n"
   ]
  },
  {
   "cell_type": "markdown",
   "metadata": {},
   "source": [
    " The __get_data()__ method iterates through the subjects, *gathered in the get_subjects() method*, and:\n",
    "+ sets the file path to the fmriprep func path that holds the *confound.tsv files.  \n",
    "+ sets the output directory, (the derivatives folder)\n",
    "  \n",
    "Then the program moves to the filepath directory and iterates through the confound files and:\n",
    "+ pulls out the the relevant data (the motion corrected columns). \n",
    "+ calls the write_files() method and writes the data to the file."
   ]
  },
  {
   "cell_type": "code",
   "execution_count": 7,
   "metadata": {},
   "outputs": [],
   "source": [
    "\n",
    "def get_data():\n",
    "    errors = []\n",
    "    for sub in subjects:\n",
    "        try:\n",
    "            print(\"--------------> GETTING MOCOS FOR SUBJECT: \", sub)\n",
    "            filepath=os.path.join(basedir, 'fmriprep','ses-2', sub, 'fmriprep', sub, 'ses-2','func')\n",
    "            outputdir=os.path.join(basedir, 'derivatives', sub, 'ses-2', 'func', 'motion_assessment')\n",
    "            if not os.path.exists(os.path.join(outputdir, 'motion_parameters')):\n",
    "                os.makedirs(os.path.join(outputdir,  'motion_parameters'))\n",
    "            outputdir=os.path.join(outputdir, 'motion_parameters')\n",
    "            print(\">>>>>>>FILEPATH: %s >>>>>>>>OUTPUT DIRECTORY: %s\"%(filepath, outputdir))\n",
    "            os.chdir(filepath)\n",
    "            for run in glob.glob(\"*confounds.tsv\"):\n",
    "                print(\"---------------------------------------------> GRABBING NEW FILE:\")\n",
    "                print(\"FILE: \", run)\n",
    "                df = pd.read_table(run)\n",
    "                moco_df=df[['X', 'Y', 'Z', 'RotX', 'RotY', 'RotZ']]\n",
    "                moco_df.columns = ['moco0', 'moco1', 'moco2', 'moco3', 'moco4', 'moco5']\n",
    "                print(\"DATAFRAME: \\n \", moco_df.head())\n",
    "                name=run.split('_')\n",
    "                #print(\"NAME: \", name)\n",
    "                for word in name:\n",
    "                    if 'task' in word:\n",
    "                        task=word\n",
    "                        print(\"TASK: \", task)\n",
    "                        #run_id=None\n",
    "                        if task == \"task-rest\":\n",
    "                            run_id=None\n",
    "                            write_files(task, run_id, moco_df, outputdir,sub)\n",
    "                            print(\">>>>>>>>RUN: %s\"%run)\n",
    "                        else:\n",
    "                            for word in name:\n",
    "                                if 'run' in word:\n",
    "                                    run_id=word\n",
    "                                    print(\">>>>>>>>RUN: %s\"%run)\n",
    "                            write_files(task, run_id, moco_df,outputdir,sub)\n",
    "                #write_files(task, run_id, moco_df, outputdir,sub)\n",
    "                #print(\"RUN: \", run)\n",
    "        except FileNotFoundError as not_found:\n",
    "            print(\"********************FILE NOT FOUND: \", not_found.filename)\n",
    "            if sub not in errors:\n",
    "                errors.append(sub)\n",
    "        #print(\"ERRORS \", errors)\n",
    "        #print(\"ERRORS SORTED \", sorted(errors))\n",
    "        errors = sorted(errors)\n",
    "    for err in errors:\n",
    "            #print(\"ERROR\" + err)\n",
    "        file = basedir+\"/error_files_ses-2.txt\"\n",
    "        with open(file, 'a') as f:\n",
    "            f.write(\"--------------------------------> FILE NOT FOUND FOR SUBJECT: \" + err  + \"\\n\")\n",
    "            f.close()"
   ]
  },
  {
   "cell_type": "markdown",
   "metadata": {},
   "source": [
    " The **main()** method is the first to execute, it first calls the get_subject method,\n",
    " then it calls our **get_data()** method."
   ]
  },
  {
   "cell_type": "code",
   "execution_count": null,
   "metadata": {},
   "outputs": [],
   "source": [
    "def main():\n",
    "    get_subjects()\n",
    "    get_data()\n",
    "main()"
   ]
  },
  {
   "cell_type": "code",
   "execution_count": null,
   "metadata": {},
   "outputs": [],
   "source": []
  }
 ],
 "metadata": {
  "kernelspec": {
   "display_name": "Python 3",
   "language": "python",
   "name": "python3"
  },
  "language_info": {
   "codemirror_mode": {
    "name": "ipython",
    "version": 3
   },
   "file_extension": ".py",
   "mimetype": "text/x-python",
   "name": "python",
   "nbconvert_exporter": "python",
   "pygments_lexer": "ipython3",
   "version": "3.6.5"
  }
 },
 "nbformat": 4,
 "nbformat_minor": 2
}
