{
 "cells": [
  {
   "cell_type": "code",
   "execution_count": 4,
   "metadata": {},
   "outputs": [
    {
     "ename": "SyntaxError",
     "evalue": "invalid syntax (<ipython-input-4-06ea396a4b5b>, line 9)",
     "output_type": "error",
     "traceback": [
      "\u001b[0;36m  File \u001b[0;32m\"<ipython-input-4-06ea396a4b5b>\"\u001b[0;36m, line \u001b[0;32m9\u001b[0m\n\u001b[0;31m    NEW_PATH = INPUT_DIR +\u001b[0m\n\u001b[0m                           ^\u001b[0m\n\u001b[0;31mSyntaxError\u001b[0m\u001b[0;31m:\u001b[0m invalid syntax\n"
     ]
    }
   ],
   "source": [
    "import os, glob, shutil\n",
    "\n",
    "INPUTDIR=\"/projects/niblab/bids_projects/raw_data/continuing_studies/BBx\"\n",
    "DIRS = glob.glob(os.path.join(INPUTDIR, \"bbx*\"))\n",
    "\n",
    "for CURR_DIR in sorted(DIRS):\n",
    "    CURR_ID = CURR_DIR.split(\"/\")[-1]\n",
    "    NEW_ID = CURR_ID[0:10]\n",
    "    NUMBER_ID = NEW_ID.split(\"_\")[1][:3]\n",
    "    VERSION_ID = NEW_ID.split(\"_\")[1][4:]\n",
    "    NEW_NAME = \"sub-%s_ses-%s\"%(NUMBER_ID, VERSION_ID)\n",
    "    NEW_PATH = os.path.join(INPUTDIR, NEW_NAME )\n",
    "    print(\"MOVING %s >>>>------------------> %s \"%(CURR_DIR,NEW_PATH))\n",
    "    shutil.move(CURR_DIR, NEW_PATH)\n",
    "    \n",
    "    "
   ]
  },
  {
   "cell_type": "code",
   "execution_count": 5,
   "metadata": {},
   "outputs": [],
   "source": [
    "INPUTDIR=\"/projects/niblab/bids_projects/raw_data/continuing_studies/BBx\"\n",
    "DIRS = glob.glob(os.path.join(INPUTDIR, \"sub*\"))\n",
    "\n",
    "for CURR_DIR in sorted(DIRS):\n",
    "    SUB_ID = CURR_DIR.split(\"/\")[-1].split(\"_\")[0]\n",
    "    SES_ID =  CURR_DIR.split(\"/\")[-1].split(\"_\")[1]\n",
    "    if \"1\" in SES_ID:\n",
    "        NEW_PATH = os.path.join(INPUTDIR, \"session-1\", SUB_ID)\n",
    "        shutil.move(CURR_DIR, NEW_PATH)\n",
    "        print(\"MOVING %s >>>>------------------> %s \"%(CURR_DIR,NEW_PATH))\n",
    "    if \"2\" in SES_ID:\n",
    "        NEW_PATH = os.path.join(INPUTDIR, \"session-2\", SUB_ID)\n",
    "        shutil.move(CURR_DIR, NEW_PATH)\n",
    "        print(\"MOVING %s >>>>------------------> %s \"%(CURR_DIR,NEW_PATH))"
   ]
  },
  {
   "cell_type": "code",
   "execution_count": 6,
   "metadata": {},
   "outputs": [],
   "source": [
    "import os, glob, shutil\n",
    "INPUTDIR = \"/projects/niblab/bids_projects/raw_data/continuing_studies/Bevel/RawData\"\n",
    "DIRS = glob.glob(os.path.join(INPUTDIR, \"bevel*\"))\n",
    "for CURR_DIR in sorted(DIRS):\n",
    "    NUM_ID = CURR_DIR.split(\"/\")[-1].split(\" \")[0].split(\"l\")[1]\n",
    "    NEW_NAME = \"sub-0\"+NUM_ID\n",
    "    NEW_PATH = os.path.join(INPUTDIR, NEW_NAME)\n",
    "    shutil.move(CURR_DIR, NEW_PATH)"
   ]
  },
  {
   "cell_type": "code",
   "execution_count": null,
   "metadata": {},
   "outputs": [],
   "source": [
    "INPUTDIR=\"/projects/niblab/bids_projects/raw_data/continuing_studies/Bevel/RawData/new_imports\"\n",
    "import os, glob, shutil\n",
    "DIRS = glob.glob(os.path.join(INPUTDIR, \"bevel*\"))\n",
    "for CURR_DIR in sorted(DIRS):\n",
    "    NUM_ID = CURR_DIR.split(\"/\")[-1][:7].split(\"l\")[1]\n",
    "    NEW_NAME = \"sub-0\"+NUM_ID\n",
    "    NEW_PATH = os.path.join(INPUTDIR, NEW_NAME)\n",
    "    shutil.move(CURR_DIR, NEW_PATH)"
   ]
  }
 ],
 "metadata": {
  "kernelspec": {
   "display_name": "Python 3",
   "language": "python",
   "name": "python3"
  },
  "language_info": {
   "codemirror_mode": {
    "name": "ipython",
    "version": 3
   },
   "file_extension": ".py",
   "mimetype": "text/x-python",
   "name": "python",
   "nbconvert_exporter": "python",
   "pygments_lexer": "ipython3",
   "version": "3.6.5"
  }
 },
 "nbformat": 4,
 "nbformat_minor": 2
}
