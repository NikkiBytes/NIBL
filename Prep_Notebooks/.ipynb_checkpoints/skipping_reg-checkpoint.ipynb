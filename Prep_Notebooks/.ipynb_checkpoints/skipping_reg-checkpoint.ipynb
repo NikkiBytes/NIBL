{
 "cells": [
  {
   "cell_type": "markdown",
   "metadata": {},
   "source": [
    "<h1>How to Skip Standard Registration</h1>\n",
    "<h3>Main Steps</h3>\n",
    "I.    Delete the `reg_standard/` directory  \n",
    "II.   Delete all `.mat` files in the `reg/` directory and replace with the identity matrix (this ensures the data won't be moved)  \n",
    "III.  Copy the `mean_func.nii.gz` to `reg/standard.nii.gz` (this should prevent any interpolation)"
   ]
  },
  {
   "cell_type": "markdown",
   "metadata": {},
   "source": [
    "#### **NEED TO MAKE SCRIPT VERSATILE FOR MULTIPLE SCENARIOS"
   ]
  },
  {
   "cell_type": "code",
   "execution_count": 1,
   "metadata": {},
   "outputs": [],
   "source": [
    "import glob, os, shutil"
   ]
  },
  {
   "cell_type": "code",
   "execution_count": null,
   "metadata": {},
   "outputs": [],
   "source": [
    "#testing\n",
    "sub_path=\"/projects/niblab/bids_projects/Experiments/Bevel/derivatives/sub-*/\"\n",
    "SUBS=glob.glob(os.path.join(sub_path))\n",
    "for sub in SUBS:\n",
    "    FEATS=glob.glob(os.path.join(sub, \"func/Analysis/feat1\", \"*.feat\"))\n",
    "    REGSTD_DIRS = glob.glob(os.path.join(sub, \"func/Analysis/feat1\", \"*.feat\", \"reg_standard\")) # reg_standard/ directories \n",
    "    if not REGSTD_DIRS:\n",
    "        print(\"--------------------------------------->>>> PASSING STEP 1\")\n",
    "        pass\n",
    "    else:\n",
    "        for dir_ in REGSTD_DIRS:\n",
    "            print(\"--------------------------------------->>>> REMOVING REG_STANDARD DIRECTORY\")\n",
    "            print(\">>>>>>>>>>>>>>>>>>>>>>>>>>>>>>>>>>>>>>>>>>>\", dir_)\n",
    "            shutil.rmtree(dir_)\n",
    "    MAT_DIRS = glob.glob(os.path.join(sub, \"func/Analysis/feat1/*run*.feat/reg/*.mat\"))\n",
    "    if not MAT_DIRS:\n",
    "        print(\"--------------------------------------->>>> PASSING STEP 2 PART A\")\n",
    "        pass\n",
    "    else:\n",
    "        for mat in MAT_DIRS:\n",
    "            print(\"--------------------------------------->>>> REMOVING MAT FILES\")\n",
    "            print(\">>>>>>>>>>>>>>>>>>>>>>>>>>>>>>>>>>>>>>>>>>>\", mat)\n",
    "            os.remove(mat)\n",
    "    REG_PATHS = glob.glob(os.path.join(sub, \"func/Analysis/feat1/*run*.feat/reg\"))\n",
    "    for reg in REG_PATHS:\n",
    "        path=\"%s/example_func2standard.mat\"%reg\n",
    "        copy_mat_cmd=\"cp $FSLDIR/etc/flirtsch/ident.mat %s\"%path\n",
    "        print(\"--------------------------------------->>>> COPYING IDENTITY MATRIX\")\n",
    "        print(\">>>>>>>>>>>>>>>>>>>>>>>>>>>>>>>>>>>>>>>>>>>\", copy_mat_cmd)\n",
    "        os.system(copy_mat_cmd)\n",
    "    for feat in FEATS:        \n",
    "        MEAN_PATH = os.path.join(feat, \"mean_func.nii.gz\")\n",
    "        REG_DIR = os.path.join(feat, \"reg\", \"standard.nii.gz\")\n",
    "        print(\"------------------>>>> \", MEAN_PATH)\n",
    "        print(\"------------------>>>> \", REG_DIR)\n",
    "        copy_mean_cmd = \"cp %s %s\"%(MEAN_PATH, REG_DIR)\n",
    "        print(\"--------------------------------------->>>> COPYING MEAN FILE\")\n",
    "        print(\">>>>>>>>>>>>>>>>>>>>>>>>>>>>>>>>>>>>>>>>>>>\", copy_mean_cmd)\n",
    "        os.system(copy_mean_cmd)\n"
   ]
  }
 ],
 "metadata": {
  "kernelspec": {
   "display_name": "Python 3",
   "language": "python",
   "name": "python3"
  },
  "language_info": {
   "codemirror_mode": {
    "name": "ipython",
    "version": 3
   },
   "file_extension": ".py",
   "mimetype": "text/x-python",
   "name": "python",
   "nbconvert_exporter": "python",
   "pygments_lexer": "ipython3",
   "version": "3.6.5"
  }
 },
 "nbformat": 4,
 "nbformat_minor": 2
}
