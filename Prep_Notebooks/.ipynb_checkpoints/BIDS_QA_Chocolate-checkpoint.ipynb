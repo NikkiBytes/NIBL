{
 "cells": [
  {
   "cell_type": "code",
   "execution_count": null,
   "metadata": {},
   "outputs": [],
   "source": [
    "def make_dict(sub):\n",
    "    check_dict[sub] = { \n",
    "            \"REST_CHECK\": None,\n",
    "            \"FUNC_TRAIN_CHECK\": None,\n",
    "            \"TRAIN_COUNT\" :0,\n",
    "            \"ANAT_CHECK\":None,\n",
    "            \"FMAP_CHECK\":None\n",
    "    }"
   ]
  },
  {
   "cell_type": "code",
   "execution_count": null,
   "metadata": {},
   "outputs": [],
   "source": [
    "import os, shutil, glob\n",
    "import pandas as pd \n",
    "\n",
    "#BIDS_PATH = \n",
    "#MULTI_SESS =\n",
    "\n",
    "#def check_subjects():\n",
    "## Set input path for BIDS data and get subjects \n",
    "session_ID = \"ses-2\"\n",
    "SUB_DIRS = glob.glob(os.path.join(\"/projects/niblab/bids_projects/Experiments/ChocoData/BIDS\", session_ID, \"sub-*\"))\n",
    "check_dict = {} ## initialize dictionary\n",
    "## iterate through subjects and inspect their files\n",
    "for SUBDIR in sorted(SUB_DIRS):\n",
    "    SUBJECT = SUBDIR.split(\"/\")[-1] # get subject id\n",
    "    # MAKE DICTIONARY \n",
    "    #make_dict(SUBJECT) # add subject id to dictionary\n",
    "    # GET RELEVANT PATHS, AND FILES \n",
    "    ## --here we set the data directory paths we want to check\n",
    "    ## (func/, anat/, and fmap/ path)\n",
    "    ## and then we grab all the *nii.gz files within them\n",
    "    funcpath = os.path.join(SUBDIR, 'func', '*nii.gz')\n",
    "    anatpath = os.path.join(SUBDIR, 'anat', '*nii.gz')\n",
    "    fmappath = os.path.join(SUBDIR, 'fmap', '*nii.gz')\n",
    "    FUNCS = glob.glob(funcpath)\n",
    "    ANATS = glob.glob(anatpath)\n",
    "    FMAPS = glob.glob(fmappath)\n",
    "    # IDENTIFY FUNCS AND ANY ERRORS\n",
    "    if not FUNCS:\n",
    "        #print(\"********ERROR! NO FUNCTIONALS: \", SUBJECT)\n",
    "        func_check = \"FAIL\"\n",
    "        #######WRITE TO FILE -- QUALITY ANALYSIS REPORTING\n",
    "    else: # IDENTIFY FUNCS\n",
    "        for func in FUNCS:\n",
    "            if \"_2\" in SUBJECT:\n",
    "                TASK = func.split(\"_\")[5]\n",
    "            else:\n",
    "                TASK = func.split(\"_\")[3]\n",
    "            if \"milkshake\" in TASK: \n",
    "                print(\"MILKSHAKE\", TASK)\n",
    "            elif \"imagine\" in TASK:\n",
    "                print(\"Imagine: \", TASK)\n",
    "            else:\n",
    "                if \"GoNoGo1\" in TASK:\n",
    "                    print(\"GoNoGo1\", TASK)\n",
    "                else:\n",
    "                    print(\"GoNoGo2: \", TASK  )\n"
   ]
  }
 ],
 "metadata": {
  "kernelspec": {
   "display_name": "Python 3",
   "language": "python",
   "name": "python3"
  },
  "language_info": {
   "codemirror_mode": {
    "name": "ipython",
    "version": 3
   },
   "file_extension": ".py",
   "mimetype": "text/x-python",
   "name": "python",
   "nbconvert_exporter": "python",
   "pygments_lexer": "ipython3",
   "version": "3.6.5"
  }
 },
 "nbformat": 4,
 "nbformat_minor": 2
}
