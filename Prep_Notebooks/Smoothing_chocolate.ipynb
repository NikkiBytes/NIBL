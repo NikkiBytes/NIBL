{
 "cells": [
  {
   "cell_type": "markdown",
   "metadata": {},
   "source": [
    "# Smoothing Chocolate Data"
   ]
  },
  {
   "cell_type": "code",
   "execution_count": 3,
   "metadata": {},
   "outputs": [],
   "source": [
    "from nilearn import image \n",
    "import glob, os"
   ]
  },
  {
   "cell_type": "code",
   "execution_count": null,
   "metadata": {},
   "outputs": [],
   "source": [
    "# get data\n",
    "sessions = [\"ses-2\", \"ses-3\", \"ses-4\"]\n",
    "data_path = \"/projects/niblab/bids_projects/Experiments/ChocoData/derivatives\"\n",
    "SUBS = sorted(glob.glob(os.path.join(data_path, \"sub-*\")))\n",
    "for sub_path in SUBS:\n",
    "    for ses in sessions:\n",
    "        ses_path = os.path.join(sub_path, ses)\n",
    "        if not os.path.exists(ses_path):\n",
    "            pass\n",
    "        else:\n",
    "            ## path exists == session exists, continue with conversion\n",
    "            ## get functional images \n",
    "            FUNCS = glob.glob(os.path.join(ses_path, \"func\", \"*bold_brain.nii.gz\"))\n",
    "            for epi_file in FUNCS:\n",
    "                filename = epi_file.split(\"/\")[-1]\n",
    "                subID = filename.split(\"_\")[0]\n",
    "                task = filename.split(\"_\")[2]\n",
    "                new_filename = os.path.join(ses_path, \"func/%s_%s_%s_smoothed.nii.gz\"%(subID, ses, task))\n",
    "                mean_func = image.mean_img(epi_file)\n",
    "                smoothed_img = image.smooth_img(mean_func, fwhm=5)\n",
    "                smoothed_img.to_filename(new_filename)\n",
    "                \n"
   ]
  }
 ],
 "metadata": {
  "kernelspec": {
   "display_name": "Python 3",
   "language": "python",
   "name": "python3"
  },
  "language_info": {
   "codemirror_mode": {
    "name": "ipython",
    "version": 3
   },
   "file_extension": ".py",
   "mimetype": "text/x-python",
   "name": "python",
   "nbconvert_exporter": "python",
   "pygments_lexer": "ipython3",
   "version": "3.6.5"
  }
 },
 "nbformat": 4,
 "nbformat_minor": 2
}
