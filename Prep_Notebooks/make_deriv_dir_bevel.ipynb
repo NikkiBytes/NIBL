{
 "cells": [
  {
   "cell_type": "code",
   "execution_count": null,
   "metadata": {},
   "outputs": [],
   "source": [
    "import glob, os, shutil\n"
   ]
  },
  {
   "cell_type": "code",
   "execution_count": null,
   "metadata": {},
   "outputs": [],
   "source": [
    "basedir = \"/projects/niblab/bids_projects/Experiments/Bevel\"\n",
    "derivdir = os.path.join(basedir, \"derivatives\")\n",
    "if not os.path.exists(derivdir):\n",
    "    os.makedirs(derivdir)\n",
    "subjects = glob.glob(os.path.join(basedir, \"BIDS\",\"sub-*\"))\n",
    "\n",
    "\n",
    "#MAKE DIRECTORIES \n",
    "for sub_path in sorted(subjects):\n",
    "    sub = sub_path.split(\"/\")[-1]\n",
    "    sub_deriv_path = os.path.join(derivdir, sub)\n",
    "    if not os.path.exists(sub_deriv_path):\n",
    "        os.makedirs(sub_deriv_path)\n",
    "    anat_path = os.path.join(sub_deriv_path, \"anat\")\n",
    "    func_path = os.path.join(sub_deriv_path, \"func\")\n",
    "    ana_path = os.path.join(func_path, \"Analysis\")\n",
    "    motion_path = os.path.join(func_path, \"motion_assessment\", \"motion_parameters\")\n",
    "    onset_path = os.path.join(func_path, \"onsets\")\n",
    "    dirs = [anat_path, func_path, ana_path, motion_path,onset_path]\n",
    "    #MAKE DERIVITIES DIRECTORIES\n",
    "    for dir_ in dirs:\n",
    "        if not os.path.exists(dir_):\n",
    "            os.makedirs(dir_)        \n",
    "    #FILL DIRECTORIES \n",
    "    fmriprep_path=os.path.join(basedir, \"fmriprep\", sub, 'fmriprep_wf/', 'single_subject_*','anat_preproc_wf/skullstrip_ants_wf/t1_skull_strip/*BrainExtractionBrain*nii.gz')\n",
    "    anat_output_path=os.path.join(sub_deriv_path, 'anat')\n",
    "    print(\"OUTPUT PATH: \", anat_output_path)\n",
    "    print(\"FMRIPREP_PATH: \", fmriprep_path)\n",
    "    for file in glob.glob(fmriprep_path):\n",
    "        try:\n",
    "            print(\"Copying file  %s ---------------------------------------> %s \\n\"%(file, anat_output_path))\n",
    "            shutil.copy(file, anat_output_path)\n",
    "        except shutil.Error as error:\n",
    "            errors.extend(error.args[0])\n",
    "            print(\">>>>>>>>>>>>ERROR\")\n",
    "            "
   ]
  }
 ],
 "metadata": {
  "kernelspec": {
   "display_name": "Python 3",
   "language": "python",
   "name": "python3"
  },
  "language_info": {
   "codemirror_mode": {
    "name": "ipython",
    "version": 3
   },
   "file_extension": ".py",
   "mimetype": "text/x-python",
   "name": "python",
   "nbconvert_exporter": "python",
   "pygments_lexer": "ipython3",
   "version": "3.6.5"
  }
 },
 "nbformat": 4,
 "nbformat_minor": 2
}
