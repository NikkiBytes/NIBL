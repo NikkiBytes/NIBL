{
 "cells": [
  {
   "cell_type": "code",
   "execution_count": 2,
   "metadata": {},
   "outputs": [],
   "source": [
    "def make_dict(sub):\n",
    "    qa_dict[sub] = {\n",
    "            \"SKULLCHECK\": None,\n",
    "    }"
   ]
  },
  {
   "cell_type": "code",
   "execution_count": 1,
   "metadata": {},
   "outputs": [],
   "source": [
    "import glob,os\n",
    "import pandas as pd\n",
    "\n",
    "qa_dict = {}\n",
    "\n",
    "# --> GET PATHS \n",
    "fprep_path = \"/projects/niblab/bids_projects/Experiments/bbx/fmriprep\"\n",
    "sess_ID = \"ses-1\"\n",
    "SUBJECTS = glob.glob(os.path.join(fprep_path, 'sub-*'))\n",
    "\n",
    "for sub_path in SUBJECTS:\n",
    "    sub_id = sub_path.split(\"/\")[-1]\n",
    "    make_dict(sub_id)\n",
    "    # --> CHECK FOR RELEVANT FILES/DIRECTORIES\n",
    "    # IN OUR CASE WE HAVE ONLY USED THE \"T1w\" FILE UNDER ANAT SKULL\n",
    "    # STRIP, THEREFORE OUR CHECK IS A SIMPLE STEP SEARCHING FOR FILES IN:\n",
    "    #  sub-*/ses-1/fmriprep_wf*/single*/anat_*/skull*/t1*/highres001_BrainExtractionBrain.nii.gz  \n",
    "    SKULL_FILES = glob.glob(os.path.join(sub_path, sess_ID, \"fmriprep_wf*/single*/anat_*/skull*/t1*/*.nii.gz\"))\n",
    "    if not SKULL_FILES:\n",
    "        SKULLCHECK = \"FAIL\"\n",
    "    else: #\"BrainExtractionBrain\" in SKULL_FILES:\n",
    "        SKULLCHECK = \"PASS\"\n",
    "    qa_dict[sub_id][\"SKULLCHECK\"] = SKULLCHECK\n",
    "    \n",
    "        \n",
    "    "
   ]
  },
  {
   "cell_type": "code",
   "execution_count": null,
   "metadata": {},
   "outputs": [],
   "source": [
    "pd.DataFrame.from_dict(qa_dict, orient='index')"
   ]
  }
 ],
 "metadata": {
  "kernelspec": {
   "display_name": "Python 3",
   "language": "python",
   "name": "python3"
  },
  "language_info": {
   "codemirror_mode": {
    "name": "ipython",
    "version": 3
   },
   "file_extension": ".py",
   "mimetype": "text/x-python",
   "name": "python",
   "nbconvert_exporter": "python",
   "pygments_lexer": "ipython3",
   "version": "3.6.5"
  }
 },
 "nbformat": 4,
 "nbformat_minor": 2
}
