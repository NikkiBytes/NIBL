{
 "cells": [
  {
   "cell_type": "code",
   "execution_count": 66,
   "metadata": {},
   "outputs": [],
   "source": [
    "import glob\n",
    "import argparse\n",
    "import os\n",
    "import subprocess\n",
    "import datetime\n"
   ]
  },
  {
   "cell_type": "code",
   "execution_count": null,
   "metadata": {},
   "outputs": [],
   "source": []
  },
  {
   "cell_type": "code",
   "execution_count": 116,
   "metadata": {},
   "outputs": [],
   "source": [
    "def get_subjects():\n",
    "    global sub_dir\n",
    "    global output_dir\n",
    "    global input_dir\n",
    "    global derivatives_dir\n",
    "    global subjects\n",
    "    subjects = []\n",
    "    # Get data from input\n",
    "    #input_dir = input(\"Enter directory path of your subjects: \")\n",
    "    #output_dir = input(\"Enter directory path for your output: \")\n",
    "    input_dir = '/projects/niblab/bids_projects/Experiments/Bevel/derivatives'\n",
    "    output_dir = '/projects/niblab/bids_projects/Experiments/Bevel'\n",
    "    derivatives_dir = os.path.join(output_dir, 'derivatives')\n",
    "    sub_dir=glob.glob(os.path.join(input_dir, 'sub*'))\n",
    "    output_files()\n",
    "    for path in sub_dir:\n",
    "        sub = path.split(\"/\")[-1]\n",
    "        #if 'sub' in file:\n",
    "        subjects.append(sub)\n",
    "    for sub in sorted(subjects):\n",
    "        print(\">>>>>>-----------> \", sub)\n",
    "        fd_check(sub)"
   ]
  },
  {
   "cell_type": "code",
   "execution_count": 117,
   "metadata": {},
   "outputs": [],
   "source": [
    "def set_paths(sub):\n",
    "    global func_output_path\n",
    "    global anat_output_path\n",
    "    global func_input_path\n",
    "    global motion_assessment_path\n",
    "    out_dir = os.path.join(derivatives_dir, sub)\n",
    "    anat_output_path=os.path.join(out_dir, 'anat')\n",
    "    func_output_path=os.path.join(out_dir,'func')\n",
    "    motion_assessment_path=os.path.join(out_dir,'func','motion_assessment')\n",
    "    #print(\"> FUNC OUTPUT: \", func_output_path)\n",
    "    #print(\"> MOTION OUTPUT: \", motion_assessment_path)"
   ]
  },
  {
   "cell_type": "code",
   "execution_count": 118,
   "metadata": {},
   "outputs": [],
   "source": [
    "\n",
    "def output_files():\n",
    "    global datestamp\n",
    "    global outhtml\n",
    "    global out_bad_bold_list\n",
    "    global outfile\n",
    "    datestamp=datetime.datetime.now().strftime(\"%Y-%m-%d-%H_%M_%S\")\n",
    "    out_bad_bold_list = os.path.join(derivatives_dir,'TEST_BAD_%s.txt'%(datestamp))\n",
    "    outhtml = os.path.join(derivatives_dir,'bold_motion_QA_%s.html'%(datestamp))\n",
    "    outfile = open(outhtml, 'a')\n",
    "\n",
    "    "
   ]
  },
  {
   "cell_type": "code",
   "execution_count": 119,
   "metadata": {},
   "outputs": [],
   "source": [
    "def fd_check(sub):\n",
    "    try:\n",
    "        print(\">>>>>>>>-----------------> STARTING MOTION CORRECTION ON \", sub)\n",
    "        set_paths(sub)\n",
    "        for nifti in glob.glob(os.path.join(func_output_path, '*brain.nii.gz')):\n",
    "            filename=nifti.split('.')[0]\n",
    "            file = filename.split(\"/\")[-1]\n",
    "            if \"training\" in file:\n",
    "                run_id = \"tr_\"+file.split(\"_\")[3]\n",
    "            elif \"rl\" in file:\n",
    "                run_id = \"rl_\"+file.split(\"_\")[3]\n",
    "            else:\n",
    "                run_id = \"resting\"\n",
    "        # set comparison param\n",
    "            print(file)\n",
    "            print(\"RUN ID >>>>>>>>>--------> \", run_id)\n",
    "            nvols_cmd=\"fslnvols \" + nifti\n",
    "            volume = subprocess.check_output(nvols_cmd, shell=True, encoding=\"utf-8\")\n",
    "            volume = volume.strip()\n",
    "            comparator = int(volume) *.25\n",
    "            ## RUN 'fsl_motion_outliers' TO RETRIEVE MOTION CORRECTION ANALYSIS\n",
    "            outlier_cmd = \"fsl_motion_outliers -i %s  -o %s/%s_confound.txt  --fd --thresh=0.9 -p %s/%s_fd_plot -v > %s/%s_outlier_output.txt\"%(filename, motion_assessment_path, file, motion_assessment_path,run_id, motion_assessment_path, file)\n",
    "            print(\">>>>>>>>>-------->  RUNNING FSL MOTION OUTLIERS \")\n",
    "            os.system(outlier_cmd)\n",
    "        ## EXAMINE OUTLIER FILE AND GRAB RELEVANT DATA \n",
    "            outlier_file=\"%s/%s_outlier_output.txt\"%(motion_assessment_path, file)\n",
    "            with open(outlier_file, 'r') as f:\n",
    "                lines=f.readlines()\n",
    "                statsA = lines[1].strip(\"\\n\") #maskmean\n",
    "                statsB = lines[3].strip(\"\\n\") #metric range\n",
    "                statsC = lines[4].strip(\"\\n\") #outliers found\n",
    "                if int(statsC.split(\" \")[1])  > 0:\n",
    "                    statsD = lines[6].strip(\"\\n\") #spikes found\n",
    "                else:\n",
    "                    statsD = \"\\n\"\n",
    "            f.close()\n",
    "        ## GRAB MOTION CORRECTION PLOT AND WRITE PLOT & INFO TO HTML\n",
    "            plotz=os.path.join(motion_assessment_path, run_id+'_fd_plot.png')\n",
    "            FILEINFO=\"\"\"<p><font size=7> <b>{CURR_FILENAME} </b></font><br>\"\"\"\n",
    "            CURR_FILEINFO = FILEINFO.format(CURR_FILENAME=file)\n",
    "            outfile.write(CURR_FILEINFO)\n",
    "            INFO=\"\"\"<p><font size=6>{A} <br><b>{B}<b><br>{C}<br><b>{D}</b><br><br>\"\"\"\n",
    "            CURR_INFO= INFO.format(A=statsA, B=statsB, C=statsC, D=statsD)\n",
    "            outfile.write(CURR_INFO)\n",
    "            PLOT=\"\"\"<IMG SRC=\\\"{PLOTPATH}\\\" WIDTH=100%><br><br>\"\"\"\n",
    "            CURR_PLOT = PLOT.format(PLOTPATH=plotz)\n",
    "            outfile.write(CURR_PLOT)\n",
    "            print(\">>>>>>>>>--------> COPYING OUTPUT TO HTML\")\n",
    "            print(\">>>>>>>>>--------> ADDING PLOT TO HTML\")\n",
    "        ## ADD FILE FOR GOOD SUBJECT \n",
    "        # --sometimes you have a great subject who didn't move\n",
    "            if os.path.isfile(\"%s/%s_confound.txt\"%(motion_assessment_path, file))==False:\n",
    "                os.system(\"touch %s/%s_confound.txt\"%(motion_assessment_path, file))\n",
    "        ## CHECK FOR BAD SUBJECTS: ABOVE OUR THRESHOLD\n",
    "        # how many columns are there = how many 'bad' points\n",
    "            check = subprocess.check_output(\"grep -o 1 %s/%s_confound.txt | wc -l\"%(motion_assessment_path, file), shell=True)\n",
    "            num_scrub = [int(s) for s in check.split() if s.isdigit()]\n",
    "            print(\"NUM SCRUB: \", str(num_scrub[0]), \"\\n\")\n",
    "            if num_scrub[0] > comparator: #if the number in check is greater than num_scrub then we don't want it\n",
    "                with open(out_bad_bold_list, \"a\") as myfile: #making a file that lists all the bad ones\n",
    "                    myfile.write(\"%s/%s\\n\"%(derivatives_dir, file))\n",
    "                    print(\"wrote bad file\")\n",
    "                    myfile.close() \n",
    "    except FileNotFoundError:   \n",
    "        print(\"FILE IS EMPTY, PASSING\")"
   ]
  },
  {
   "cell_type": "code",
   "execution_count": 120,
   "metadata": {},
   "outputs": [
    {
     "name": "stdout",
     "output_type": "stream",
     "text": [
      ">>>>>>----------->  sub-001\n",
      ">>>>>>>>-----------------> STARTING MOTION CORRECTION ON  sub-001\n"
     ]
    },
    {
     "ename": "UnboundLocalError",
     "evalue": "local variable 'plotz' referenced before assignment",
     "output_type": "error",
     "traceback": [
      "\u001b[0;31m---------------------------------------------------------------------------\u001b[0m",
      "\u001b[0;31mUnboundLocalError\u001b[0m                         Traceback (most recent call last)",
      "\u001b[0;32m<ipython-input-120-dc4a0d5074ac>\u001b[0m in \u001b[0;36m<module>\u001b[0;34m()\u001b[0m\n\u001b[0;32m----> 1\u001b[0;31m \u001b[0mget_subjects\u001b[0m\u001b[0;34m(\u001b[0m\u001b[0;34m)\u001b[0m\u001b[0;34m\u001b[0m\u001b[0m\n\u001b[0m",
      "\u001b[0;32m<ipython-input-116-0f0075dabe83>\u001b[0m in \u001b[0;36mget_subjects\u001b[0;34m()\u001b[0m\n\u001b[1;32m     21\u001b[0m     \u001b[0;32mfor\u001b[0m \u001b[0msub\u001b[0m \u001b[0;32min\u001b[0m \u001b[0msorted\u001b[0m\u001b[0;34m(\u001b[0m\u001b[0msubjects\u001b[0m\u001b[0;34m)\u001b[0m\u001b[0;34m:\u001b[0m\u001b[0;34m\u001b[0m\u001b[0m\n\u001b[1;32m     22\u001b[0m         \u001b[0mprint\u001b[0m\u001b[0;34m(\u001b[0m\u001b[0;34m\">>>>>>-----------> \"\u001b[0m\u001b[0;34m,\u001b[0m \u001b[0msub\u001b[0m\u001b[0;34m)\u001b[0m\u001b[0;34m\u001b[0m\u001b[0m\n\u001b[0;32m---> 23\u001b[0;31m         \u001b[0mfd_check\u001b[0m\u001b[0;34m(\u001b[0m\u001b[0msub\u001b[0m\u001b[0;34m)\u001b[0m\u001b[0;34m\u001b[0m\u001b[0m\n\u001b[0m",
      "\u001b[0;32m<ipython-input-119-33541939ff68>\u001b[0m in \u001b[0;36mfd_check\u001b[0;34m(sub)\u001b[0m\n\u001b[1;32m     19\u001b[0m             \u001b[0moutlier_cmd\u001b[0m \u001b[0;34m=\u001b[0m \u001b[0;34m\"fsl_motion_outliers -i %s  -o %s/%s_confound.txt  --fd --thresh=0.9 -p %s/%s_fd_plot -v > %s/%s_outlier_output.txt\"\u001b[0m\u001b[0;34m%\u001b[0m\u001b[0;34m(\u001b[0m\u001b[0mfilename\u001b[0m\u001b[0;34m,\u001b[0m \u001b[0mmotion_assessment_path\u001b[0m\u001b[0;34m,\u001b[0m \u001b[0mfile\u001b[0m\u001b[0;34m,\u001b[0m \u001b[0mmotion_assessment_path\u001b[0m\u001b[0;34m,\u001b[0m\u001b[0mrun_id\u001b[0m\u001b[0;34m,\u001b[0m \u001b[0mmotion_assessment_path\u001b[0m\u001b[0;34m,\u001b[0m \u001b[0mfile\u001b[0m\u001b[0;34m)\u001b[0m\u001b[0;34m\u001b[0m\u001b[0m\n\u001b[1;32m     20\u001b[0m             \u001b[0mcat_cmd\u001b[0m \u001b[0;34m=\u001b[0m \u001b[0;34m\"cat %s/%s_outlier_output.txt >> %s\"\u001b[0m\u001b[0;34m%\u001b[0m\u001b[0;34m(\u001b[0m\u001b[0mmotion_assessment_path\u001b[0m\u001b[0;34m,\u001b[0m \u001b[0mfilename\u001b[0m\u001b[0;34m,\u001b[0m\u001b[0mouthtml\u001b[0m\u001b[0;34m)\u001b[0m\u001b[0;34m\u001b[0m\u001b[0m\n\u001b[0;32m---> 21\u001b[0;31m             \u001b[0mhtml_cmd\u001b[0m \u001b[0;34m=\u001b[0m \u001b[0;34m\"echo '<p>=============<p>FD plot %s <br><IMG BORDER=0 SRC=%s WIDTH=%s></BODY></HTML>' >> %s\"\u001b[0m\u001b[0;34m%\u001b[0m\u001b[0;34m(\u001b[0m\u001b[0mfilename\u001b[0m\u001b[0;34m,\u001b[0m \u001b[0mplotz\u001b[0m\u001b[0;34m,\u001b[0m\u001b[0;34m'100%'\u001b[0m\u001b[0;34m,\u001b[0m \u001b[0mouthtml\u001b[0m\u001b[0;34m)\u001b[0m\u001b[0;34m\u001b[0m\u001b[0m\n\u001b[0m\u001b[1;32m     22\u001b[0m         \u001b[0;31m#print(\">>>> VOLUME: \", volume)\u001b[0m\u001b[0;34m\u001b[0m\u001b[0;34m\u001b[0m\u001b[0m\n\u001b[1;32m     23\u001b[0m         \u001b[0;31m#print(\">>>> Comparison: \", comparator)\u001b[0m\u001b[0;34m\u001b[0m\u001b[0;34m\u001b[0m\u001b[0m\n",
      "\u001b[0;31mUnboundLocalError\u001b[0m: local variable 'plotz' referenced before assignment"
     ]
    }
   ],
   "source": [
    "get_subjects()"
   ]
  }
 ],
 "metadata": {
  "kernelspec": {
   "display_name": "Python 3",
   "language": "python",
   "name": "python3"
  },
  "language_info": {
   "codemirror_mode": {
    "name": "ipython",
    "version": 3
   },
   "file_extension": ".py",
   "mimetype": "text/x-python",
   "name": "python",
   "nbconvert_exporter": "python",
   "pygments_lexer": "ipython3",
   "version": "3.6.5"
  }
 },
 "nbformat": 4,
 "nbformat_minor": 2
}
