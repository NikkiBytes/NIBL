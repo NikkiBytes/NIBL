{
 "cells": [
  {
   "cell_type": "code",
   "execution_count": 7,
   "metadata": {},
   "outputs": [],
   "source": [
    "import pandas as pd \n",
    "import numpy as np \n",
    "import matplotlib.pyplot as plt\n",
    "import glob\n",
    "import os"
   ]
  },
  {
   "cell_type": "code",
   "execution_count": 8,
   "metadata": {},
   "outputs": [
    {
     "name": "stdout",
     "output_type": "stream",
     "text": [
      "SUBJECT:  /Users/nikkibytes/Documents/testing/sub-001\n",
      "DIRECTORY:  /Users/nikkibytes/Documents/testing/sub-001/fmriprep/sub-001/func\n"
     ]
    }
   ],
   "source": [
    "all_data=glob.glob('/Users/nikkibytes/Documents/testing/sub*')\n",
    "all_data\n",
    "for sub in all_data:\n",
    "    print(\"SUBJECT: \", sub)\n",
    "    for dir in glob.glob(os.path.join(sub,'fmriprep/sub-001/func')):#path to the functional, skull stripped data\n",
    "            print(\"DIRECTORY: \", dir)#not needed but i get crazy \n",
    "           "
   ]
  },
  {
   "cell_type": "code",
   "execution_count": null,
   "metadata": {},
   "outputs": [],
   "source": [
    "def preproc(DATA):\n",
    "    print(\"Starting motion correction \")\n",
    "    basedir='/Users/nikkibytes/Documents/testing'\n",
    "    writedir='/Users/nikkibytes/Documents/testing/sub-001/fmriprep/sub-001/func/motion_assessment'\n",
    "    \n",
    "    datestamp=datetime.datetime.now().strftime(\"%Y-%m-%d-%H_%M_%S\")\n",
    "    outhtml = os.path.join(writedir,'bold_motion_QA_test_%s.html'%(datestamp))\n",
    "    out_bad_bold_list = os.path.join(writedir,'testing_%s.txt'%(datestamp))\n",
    "    print(\"OUTPUT HTML: \", outhtml )\n",
    "    for sub in DATA:\n",
    "        print(\"SUBJECT: \", sub)"
   ]
  }
 ],
 "metadata": {
  "kernelspec": {
   "display_name": "Python 3",
   "language": "python",
   "name": "python3"
  },
  "language_info": {
   "codemirror_mode": {
    "name": "ipython",
    "version": 3
   },
   "file_extension": ".py",
   "mimetype": "text/x-python",
   "name": "python",
   "nbconvert_exporter": "python",
   "pygments_lexer": "ipython3",
   "version": "3.6.5"
  }
 },
 "nbformat": 4,
 "nbformat_minor": 2
}
