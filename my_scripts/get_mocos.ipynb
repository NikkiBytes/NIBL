{
 "cells": [
  {
   "cell_type": "code",
   "execution_count": 93,
   "metadata": {},
   "outputs": [],
   "source": [
    "import pandas as pd\n",
    "import os\n",
    "import glob"
   ]
  },
  {
   "cell_type": "code",
   "execution_count": 119,
   "metadata": {},
   "outputs": [],
   "source": [
    "# get the data / directory\n",
    "def get_subjects():\n",
    "    global subjects\n",
    "    global basedir\n",
    "    subjects = []\n",
    "    basedir=input(\"Enter the main directory: \")\n",
    "    fmriprep_dir=os.path.join(basedir, 'fmriprep')\n",
    "    os.chdir(fmriprep_dir)\n",
    "    subjects=glob.glob(\"sub-*\")\n"
   ]
  },
  {
   "cell_type": "code",
   "execution_count": 120,
   "metadata": {},
   "outputs": [],
   "source": [
    "def write_files(task, run, moco_df, outputdir):\n",
    "    for col in moco_df.columns:\n",
    "        if task != 'task-rest':\n",
    "            filename = \"%s_%s.txt\"%(col, run)\n",
    "        else:\n",
    "            filename = \"%s_rest.txt\"%(col)\n",
    "        output_path=os.path.join(outputdir, filename)\n",
    "        print(\"Writing to file, \", output_path)\n",
    "        moco_df[col].to_csv(output_path, header=False, index=False)"
   ]
  },
  {
   "cell_type": "code",
   "execution_count": 121,
   "metadata": {},
   "outputs": [],
   "source": [
    "def get_data(): \n",
    "    for sub in subjects:\n",
    "        #print(sub)\n",
    "        filepath=os.path.join(basedir, 'fmriprep', sub, 'fmriprep', sub, 'func')\n",
    "        outputdir=os.path.join(basedir, 'derivatives', sub, 'func', 'motion_assessment')\n",
    "        if not os.path.exists(os.path.join(outputdir, 'motion_parameters')):\n",
    "            os.makedirs(os.path.join(outputdir,  'motion_parameters'))\n",
    "        outputdir=os.path.join(outputdir, 'motion_parameters')\n",
    "        os.chdir(filepath)\n",
    "        for run in glob.glob(\"*confounds.tsv\"):\n",
    "       # print(\"FILE: \", run)\n",
    "            df = pd.read_table(run)\n",
    "            moco_df=df[['X', 'Y', 'Z', 'RotX', 'RotY', 'RotZ']]\n",
    "            moco_df.columns = ['moco0', 'moco1', 'moco2', 'moco3', 'moco4', 'moco5'] \n",
    "        #print(moco_df.head())\n",
    "            name=run.split('_')\n",
    "    #    print(task)\n",
    "            for word in name:\n",
    "                if 'task' in word:\n",
    "                    task=word\n",
    "            if task == \"task-rest\":\n",
    "                run=None\n",
    "                write_files(task, run, moco_df, outputdir)\n",
    "            else:\n",
    "                for word in name:\n",
    "                    if 'run' in word:\n",
    "                        run=word\n",
    "                write_files(task, run, moco_df,outputdir)\n",
    "#        print(\"TASK: \", task)\n",
    "#        print(\"RUN: \", run)"
   ]
  },
  {
   "cell_type": "code",
   "execution_count": 122,
   "metadata": {},
   "outputs": [],
   "source": [
    "def main():\n",
    "    get_subjects()\n",
    "    get_data()\n",
    "    "
   ]
  },
  {
   "cell_type": "code",
   "execution_count": 123,
   "metadata": {},
   "outputs": [
    {
     "name": "stdout",
     "output_type": "stream",
     "text": [
      "Enter the main directory: /Users/nikkibytes/Documents/Test\n",
      "Writing to file,  /Users/nikkibytes/Documents/Test/derivatives/sub-001/func/motion_assessment/motion_parameters/moco0_run-1.txt\n",
      "Writing to file,  /Users/nikkibytes/Documents/Test/derivatives/sub-001/func/motion_assessment/motion_parameters/moco1_run-1.txt\n",
      "Writing to file,  /Users/nikkibytes/Documents/Test/derivatives/sub-001/func/motion_assessment/motion_parameters/moco2_run-1.txt\n",
      "Writing to file,  /Users/nikkibytes/Documents/Test/derivatives/sub-001/func/motion_assessment/motion_parameters/moco3_run-1.txt\n",
      "Writing to file,  /Users/nikkibytes/Documents/Test/derivatives/sub-001/func/motion_assessment/motion_parameters/moco4_run-1.txt\n",
      "Writing to file,  /Users/nikkibytes/Documents/Test/derivatives/sub-001/func/motion_assessment/motion_parameters/moco5_run-1.txt\n",
      "Writing to file,  /Users/nikkibytes/Documents/Test/derivatives/sub-001/func/motion_assessment/motion_parameters/moco0_run-2.txt\n",
      "Writing to file,  /Users/nikkibytes/Documents/Test/derivatives/sub-001/func/motion_assessment/motion_parameters/moco1_run-2.txt\n",
      "Writing to file,  /Users/nikkibytes/Documents/Test/derivatives/sub-001/func/motion_assessment/motion_parameters/moco2_run-2.txt\n",
      "Writing to file,  /Users/nikkibytes/Documents/Test/derivatives/sub-001/func/motion_assessment/motion_parameters/moco3_run-2.txt\n",
      "Writing to file,  /Users/nikkibytes/Documents/Test/derivatives/sub-001/func/motion_assessment/motion_parameters/moco4_run-2.txt\n",
      "Writing to file,  /Users/nikkibytes/Documents/Test/derivatives/sub-001/func/motion_assessment/motion_parameters/moco5_run-2.txt\n",
      "Writing to file,  /Users/nikkibytes/Documents/Test/derivatives/sub-001/func/motion_assessment/motion_parameters/moco0_run-3.txt\n",
      "Writing to file,  /Users/nikkibytes/Documents/Test/derivatives/sub-001/func/motion_assessment/motion_parameters/moco1_run-3.txt\n",
      "Writing to file,  /Users/nikkibytes/Documents/Test/derivatives/sub-001/func/motion_assessment/motion_parameters/moco2_run-3.txt\n",
      "Writing to file,  /Users/nikkibytes/Documents/Test/derivatives/sub-001/func/motion_assessment/motion_parameters/moco3_run-3.txt\n",
      "Writing to file,  /Users/nikkibytes/Documents/Test/derivatives/sub-001/func/motion_assessment/motion_parameters/moco4_run-3.txt\n",
      "Writing to file,  /Users/nikkibytes/Documents/Test/derivatives/sub-001/func/motion_assessment/motion_parameters/moco5_run-3.txt\n",
      "Writing to file,  /Users/nikkibytes/Documents/Test/derivatives/sub-001/func/motion_assessment/motion_parameters/moco0_run-4.txt\n",
      "Writing to file,  /Users/nikkibytes/Documents/Test/derivatives/sub-001/func/motion_assessment/motion_parameters/moco1_run-4.txt\n",
      "Writing to file,  /Users/nikkibytes/Documents/Test/derivatives/sub-001/func/motion_assessment/motion_parameters/moco2_run-4.txt\n",
      "Writing to file,  /Users/nikkibytes/Documents/Test/derivatives/sub-001/func/motion_assessment/motion_parameters/moco3_run-4.txt\n",
      "Writing to file,  /Users/nikkibytes/Documents/Test/derivatives/sub-001/func/motion_assessment/motion_parameters/moco4_run-4.txt\n",
      "Writing to file,  /Users/nikkibytes/Documents/Test/derivatives/sub-001/func/motion_assessment/motion_parameters/moco5_run-4.txt\n",
      "Writing to file,  /Users/nikkibytes/Documents/Test/derivatives/sub-001/func/motion_assessment/motion_parameters/moco0_rest.txt\n",
      "Writing to file,  /Users/nikkibytes/Documents/Test/derivatives/sub-001/func/motion_assessment/motion_parameters/moco1_rest.txt\n",
      "Writing to file,  /Users/nikkibytes/Documents/Test/derivatives/sub-001/func/motion_assessment/motion_parameters/moco2_rest.txt\n",
      "Writing to file,  /Users/nikkibytes/Documents/Test/derivatives/sub-001/func/motion_assessment/motion_parameters/moco3_rest.txt\n",
      "Writing to file,  /Users/nikkibytes/Documents/Test/derivatives/sub-001/func/motion_assessment/motion_parameters/moco4_rest.txt\n",
      "Writing to file,  /Users/nikkibytes/Documents/Test/derivatives/sub-001/func/motion_assessment/motion_parameters/moco5_rest.txt\n"
     ]
    }
   ],
   "source": [
    "main()"
   ]
  },
  {
   "cell_type": "code",
   "execution_count": null,
   "metadata": {},
   "outputs": [],
   "source": []
  }
 ],
 "metadata": {
  "kernelspec": {
   "display_name": "Python 3",
   "language": "python",
   "name": "python3"
  }
 },
 "nbformat": 4,
 "nbformat_minor": 2
}
