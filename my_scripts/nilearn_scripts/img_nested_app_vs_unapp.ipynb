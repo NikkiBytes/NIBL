{
 "cells": [
  {
   "cell_type": "code",
   "execution_count": 1,
   "metadata": {},
   "outputs": [
    {
     "name": "stderr",
     "output_type": "stream",
     "text": [
      "/Users/nikkibytes/anaconda3/lib/python3.6/site-packages/h5py/__init__.py:36: FutureWarning: Conversion of the second argument of issubdtype from `float` to `np.floating` is deprecated. In future, it will be treated as `np.float64 == np.dtype(float).type`.\n",
      "  from ._conv import register_converters as _register_converters\n"
     ]
    }
   ],
   "source": [
    "import os\n",
    "import glob\n",
    "import numpy as np\n",
    "import nibabel as nib\n",
    "from sklearn.dummy import DummyClassifier\n",
    "from sklearn.model_selection import cross_val_score, permutation_test_score\n",
    "from nilearn.input_data import NiftiMasker \n",
    "from nilearn.image import concat_imgs, index_img, smooth_img"
   ]
  },
  {
   "cell_type": "markdown",
   "metadata": {},
   "source": [
    "# ---STEP 1---\n",
    "### Concatenate the imagine data into a NIFTI-2 file. \n",
    "Note: the data does not fit into a NIFTI-1 file, due to large number of subs. "
   ]
  },
  {
   "cell_type": "code",
   "execution_count": 2,
   "metadata": {},
   "outputs": [],
   "source": [
    "def getData():\n",
    "    global basepath\n",
    "#set basepath\n",
    "    #basepath=os.path.join('/projects','niblab','data','eric_data','W1','imagine')\n",
    "    basepath= '//Users/nikkibytes/Documents/testing/ChocoData'\n",
    "#make a list of the files to concat\n",
    "#we are concatinating all the 'filtered_func_data.nii.gz' files within the directories\n",
    "    #all_func = glob.glob(os.path.join(basepath,'level1_grace_edit','cs*++.feat','filtered_func_data.nii.gz'))\n",
    "    all_func = glob.glob(os.path.join(basepath, 'cs*++.feat', 'filtered_func_data.nii.gz'))\n",
    "\n",
    "    return all_func"
   ]
  },
  {
   "cell_type": "code",
   "execution_count": 3,
   "metadata": {},
   "outputs": [],
   "source": [
    "def convertToNifti2():\n",
    "#load in all the files from the glob above, then convert them from nifti1 to nifti2\n",
    "    ni2_funcs = (nib.Nifti2Image.from_image(nib.load(func)) for func in all_func)\n",
    "#concat, this is with nibabel, but should work with nilearn too\n",
    "    ni2_concat = nib.concat_images(ni2_funcs, check_affines=False, axis=3)\n",
    "#set the output file name\n",
    "    outfile=os.path.join(basepath,'concatenated_imagine.nii')\n",
    "#write the file\n",
    "    ni2_concat.to_filename(outfile)"
   ]
  },
  {
   "cell_type": "markdown",
   "metadata": {},
   "source": [
    "# ---STEP 2---\n",
    "### Load & prepare MRI data"
   ]
  },
  {
   "cell_type": "code",
   "execution_count": 4,
   "metadata": {},
   "outputs": [],
   "source": [
    "def prepData():\n",
    "    priint(\"We are now loading and preparing MRI data......\")\n",
    "    #load, fxnl, anatomical, & mask for plotting\n",
    "    fmri_subjs=os.path.join(basepath, 'concatenated_imagine.nii')\n",
    "    \n",
    "    ## -- What are these?    \n",
    "    average_ana=os.path.join(basepath,'CS_avg_mprage_image.nii.gz') \n",
    "    imag_mask=os.path.join('/projects','niblab','scripts','nilean_stuff','power_roimask_4bi.nii.gz')\n",
    "\n",
    "    #plot mask (Power ROIs) over anatomical tlhat is defined above\n",
    "    #plotting.plot_roi(imag_mask,bg_img=average_ana,cmap='Paired')\n",
    "\n",
    "    #load labels for the functional data\n",
    "    stim = os.path.join('/projects','niblab','scripts','nilean_stuff','label_67_sub.csv')\n",
    "    labels = np.recfromcsv(stim, delimiter=\",\")\n",
    "    print(labels)\n",
    "#Its shape corresponds to the number of time-points times the number of voxels in the mask\n",
    "\n",
    "#Retrieve the behavioral targets, that we are going to predict in the decoding\n",
    "    y_mask = labels['labels']\n",
    "    subs = labels['subs']\n",
    "    return y_mask, subs"
   ]
  },
  {
   "cell_type": "markdown",
   "metadata": {},
   "source": [
    "# ---STEP 3---\n",
    "### Feature selection\n",
    "To keep only data corresponding to app food or unapp food, we create a mask of the samples belonging to the condition.\n"
   ]
  },
  {
   "cell_type": "code",
   "execution_count": 50,
   "metadata": {},
   "outputs": [],
   "source": [
    "def featureSelection(y_mask):\n",
    "    condition_mask = np.logical_or(y_mask == b'app',y_mask == b'unapp')\n",
    "    print(condition_mask.shape)\n",
    "    y = y_mask[condition_mask]\n",
    "    print(y)\n",
    "    n_conditions = np.size(np.unique(y))\n",
    "\n",
    "#prepare the fxnl data. \n",
    "    nifti_masker = NiftiMasker(mask_img=imag_mask,\n",
    "                           smoothing_fwhm=4,standardize=True,\n",
    "                           memory=\"nilearn_cache\",memory_level=1)\n",
    "\n",
    "    fmri_trans = nifti_masker.fit_transform(fmri_subjs)\n",
    "    print(fmri_trans)\n",
    "    X = fmri_trans[condition_mask]\n",
    "    subs = subs[condition_mask]"
   ]
  },
  {
   "cell_type": "markdown",
   "metadata": {},
   "source": [
    "# ---STEP 4---\n",
    "###  Setting prediction  & testing the classifer"
   ]
  },
  {
   "cell_type": "code",
   "execution_count": 51,
   "metadata": {},
   "outputs": [],
   "source": [
    "def setPrediction():\n",
    "\n",
    "#setting prediction  & testing the classifer\n",
    "    svc = SVC(kernel='linear')\n",
    "    print(svc)\n",
    "\n",
    "# Define the dimension reduction to be used.\n",
    "# Here we use a classical univariate feature selection based on F-test, namely Anova. We set the number of features to be selected to 500\n",
    "    feature_selection = SelectKBest(f_classif, k=3000)\n",
    "\n",
    "# We have our classifier (SVC), our feature selection (SelectKBest), and now, we can plug them together in a *pipeline* that performs the two operations successively:\n",
    "    anova_svc = Pipeline([('anova',feature_selection), ('svc',svc)])\n",
    "\n",
    "#fit the decoder and predict\n",
    "    anova_svc.fit(X, y)\n",
    "    y_pred = anova_svc.predict(X)\n",
    "\n",
    "    cv = LeaveOneLabelOut(subs[subs < 1])\n",
    "\n",
    "    k_range = [10, 15, 30, 50, 150, 300, 500, 1000, 1500, 3000, 5000]\n",
    "    cv_scores = []\n",
    "    scores_validation = []\n",
    "\n",
    "# we are working with a composite estimator: \n",
    "# a pipeline of feature selection followed by SVC. Thus to give the name of the parameter that we want to tune we need to give the name of the step in\n",
    "# the pipeline, followed by the name of the parameter, with ‘__’ as a separator.\n",
    "# We are going to tune the parameter 'k' of the step called 'anova' in the pipeline. Thus we need to address it as 'anova__k'.\n",
    "# Note that GridSearchCV takes an n_jobs argument that can make it go much faster\n",
    "    grid = GridSearchCV(anova_svc, param_grid={'anova__k': k_range},n_jobs=-1)\n",
    "    nested_cv_scores = cross_val_score(grid, X, y)\n",
    "    classification_accuracy = np.mean(nested_cv_scores)\n",
    "    print(\"Classification accuracy: %.4f / Chance level: %f\" %\n",
    "      (classification_accuracy, 1. / n_conditions))\n",
    "    \n",
    "    for k in k_range:\n",
    "        feature_selection.k = k\n",
    "        cv_scores.append(np.mean(\n",
    "        cross_val_score(anova_svc, X[subs == 1], y[subs == 1])))\n",
    "        print(\"CV score: %.4f\" % cv_scores[-1])\n",
    "\n",
    "        anova_svc.fit(X[subs == 1], y[subs == 1])\n",
    "        y_pred = anova_svc.predict(X[subs == 0])\n",
    "        scores_validation.append(np.mean(y_pred == y[subs == 0]))\n",
    "        print(\"score validation: %.4f\" % scores_validation[-1])"
   ]
  },
  {
   "cell_type": "markdown",
   "metadata": {},
   "source": [
    "# ---STEP 5---\n",
    "### flipping the martix backinto an image"
   ]
  },
  {
   "cell_type": "code",
   "execution_count": 32,
   "metadata": {},
   "outputs": [],
   "source": [
    "def flipImage():\n",
    "    coef = svc.coef_\n",
    "    print(coef)\n",
    "\n",
    "# reverse feature selection\n",
    "    coef = feature_selection.inverse_transform(coef)\n",
    "\n",
    "# reverse masking\n",
    "    weight_img = nifti_masker.inverse_transform(coef)\n",
    "#plot image\n",
    "#plot_stat_map(weight_img, average_ana, title='SVM weights')\n",
    "\n"
   ]
  },
  {
   "cell_type": "markdown",
   "metadata": {},
   "source": [
    "# ---STEP 6---\n",
    "### Permunation testing\n",
    "to measure probablility of chance first score is mean accuracy of the null scores without perm targets, then the array, then the p-value. \n",
    "\n"
   ]
  },
  {
   "cell_type": "code",
   "execution_count": 39,
   "metadata": {},
   "outputs": [],
   "source": [
    "def permutationTesting():\n",
    "    #null_cv_scores = permutation_test_score(svc, X, y, cv=10)  \n",
    "    #print(null_cv_scores)\n",
    "\n",
    "    null_cv_scoresdumb = cross_val_score(DummyClassifier(), X, y, cv=10)  \n",
    "    print(null_cv_scoresdumb)\n",
    "    meannull_cv_scoresdumb = np.mean(null_cv_scoresdumb)\n",
    "    print(meannull_cv_scoresdumb)"
   ]
  },
  {
   "cell_type": "code",
   "execution_count": 71,
   "metadata": {},
   "outputs": [],
   "source": [
    "def main():\n",
    "    \n",
    "############################################\n",
    "# STEP 1\n",
    "############################################\n",
    "    all_func = getData()\n",
    "    print(\"GLOBAL BASEPATH: \", basepath)\n",
    "    print(all_func)\n",
    "    \n",
    "    convertToNifti2()\n",
    "\n",
    "############################################\n",
    "# STEP 2\n",
    "############################################    \n",
    "    y_mask, subs = prepData()\n",
    "    \n",
    "############################################\n",
    "# STEP 3\n",
    "############################################\n",
    "    featureSelection(y_mask)\n",
    "    \n",
    "############################################\n",
    "# STEP 4\n",
    "############################################\n",
    "    setPrediction()\n",
    "    \n",
    "    \n",
    "############################################\n",
    "# STEP 5\n",
    "############################################\n",
    "    flipImage()\n",
    "    \n",
    "############################################\n",
    "# STEP 6\n",
    "############################################\n",
    "    permutationTesting()"
   ]
  },
  {
   "cell_type": "code",
   "execution_count": 69,
   "metadata": {},
   "outputs": [
    {
     "name": "stderr",
     "output_type": "stream",
     "text": [
      "sizeof_hdr should be 540; set sizeof_hdr to 540\n",
      "sizeof_hdr should be 540; set sizeof_hdr to 540\n"
     ]
    },
    {
     "name": "stdout",
     "output_type": "stream",
     "text": [
      "GLOBAL BASEPATH:  /Users/nikkibytes/Documents/NIBL/my_scripts/nilearn_scripts\n",
      "['/Users/nikkibytes/Documents/NIBL/my_scripts/nilearn_scripts/cs001++.feat/filtered_func_data.nii.gz', '/Users/nikkibytes/Documents/NIBL/my_scripts/nilearn_scripts/cs002++.feat/filtered_func_data.nii.gz']\n"
     ]
    }
   ],
   "source": [
    "main()"
   ]
  },
  {
   "cell_type": "code",
   "execution_count": null,
   "metadata": {},
   "outputs": [],
   "source": []
  }
 ],
 "metadata": {
  "kernelspec": {
   "display_name": "Python 3",
   "language": "python",
   "name": "python3"
  },
  "language_info": {
   "codemirror_mode": {
    "name": "ipython",
    "version": 3
   },
   "file_extension": ".py",
   "mimetype": "text/x-python",
   "name": "python",
   "nbconvert_exporter": "python",
   "pygments_lexer": "ipython3",
   "version": "3.6.5"
  }
 },
 "nbformat": 4,
 "nbformat_minor": 2
}
