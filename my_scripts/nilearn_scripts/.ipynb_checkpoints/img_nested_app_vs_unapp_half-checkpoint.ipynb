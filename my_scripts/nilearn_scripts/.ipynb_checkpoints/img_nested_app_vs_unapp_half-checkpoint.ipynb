{
 "cells": [
  {
   "cell_type": "code",
   "execution_count": 13,
   "metadata": {},
   "outputs": [],
   "source": [
    "# -*- coding: utf-8 -*-\n",
    "\n",
    "import os\n",
    "import glob\n",
    "import numpy as np\n",
    "import nibabel as nib\n",
    "from sklearn.dummy import DummyClassifier\n",
    "from sklearn.model_selection import cross_val_score, permutation_test_score\n",
    "from nilearn.input_data import NiftiMasker \n",
    "from nilearn.image import concat_imgs, index_img, smooth_img\n"
   ]
  },
  {
   "cell_type": "markdown",
   "metadata": {},
   "source": [
    "# ---STEP 1---\n",
    "### Concatenate the imagine data into a NIFTI-2 file. \n",
    "Note: the data does not fit into a NIFTI-1 file, due to large number of subs. "
   ]
  },
  {
   "cell_type": "code",
   "execution_count": 14,
   "metadata": {},
   "outputs": [],
   "source": [
    "def getData():\n",
    "    global basepath\n",
    "#set basepath\n",
    "    #basepath=os.path.join('/projects','niblab','data','eric_data','W1','imagine' )\n",
    "    basepath= '/Users/nikkibytes/Documents/testing/ChocoData'\n",
    "#make a list of the files to concat\n",
    "#we are concatinating all the 'filtered_func_data.nii.gz' files within the directories\n",
    "    #all_func = glob.glob(os.path.join(basepath,'level1_grace_edit','cs*++.feat','filtered_func_data.nii.gz'))\n",
    "    all_func = glob.glob(os.path.join(basepath, 'cs*++.feat', 'filtered_func_data.nii.gz'))\n",
    "    \n",
    "    return all_func"
   ]
  },
  {
   "cell_type": "code",
   "execution_count": 3,
   "metadata": {},
   "outputs": [],
   "source": [
    "def convertToNifti2(all_func):\n",
    "#load in all the files from the glob above, then convert them from nifti1 to nifti2\n",
    "    ni2_funcs = (nib.Nifti2Image.from_image(nib.load(func)) for func in all_func)\n",
    "#concat, this is with nibabel, but should work with nilearn too\n",
    "    ni2_concat = nib.concat_images(ni2_funcs, check_affines=False, axis=3)\n",
    "#set the output file name\n",
    "    outfile=os.path.join(basepath,'concatenated_imagine.nii')\n",
    "#write the file\n",
    "    ni2_concat.to_filename(outfile)"
   ]
  },
  {
   "cell_type": "markdown",
   "metadata": {},
   "source": [
    "# ---STEP 2---\n",
    "### Load & prepare MRI data"
   ]
  },
  {
   "cell_type": "code",
   "execution_count": 42,
   "metadata": {},
   "outputs": [],
   "source": [
    "def prepData():\n",
    "    print(\"We are now loading and preparing MRI data......\")\n",
    "    #load, fxnl, anatomical, & mask for plotting\n",
    "    fmri_subjs=os.path.join(basepath, 'concatenated_imagine.nii')\n",
    "    \n",
    "    ## -- What are these?    \n",
    "    average_ana=os.path.join(basepath,'CS_avg_mprage_image.nii.gz') \n",
    "    imag_mask=os.path.join(basepath, 'power_roimask_4bi.nii.gz')\n",
    "\n",
    "    #plot mask (Power ROIs) over anatomical tlhat is defined above\n",
    "    #plotting.plot_roi(imag_mask,bg_img=average_ana,cmap='Paired')\n",
    "\n",
    "    #load labels for the functional data\n",
    "    stim = os.path.join(basepath,'label_all_sub.csv')\n",
    "    labels = np.recfromcsv(stim, delimiter=\",\", encoding='UTF-8')\n",
    "    print(\"LABELS: \", labels)\n",
    "#Its shape corresponds to the number of time-points times the number of voxels in the mask\n",
    "\n",
    "#Retrieve the behavioral targets, that we are going to predict in the decoding\n",
    "    y_mask = labels['label']\n",
    "    subs = labels['sub']\n",
    "    \n",
    " \n",
    "    return y_mask, subs, imag_mask, fmri_subjs"
   ]
  },
  {
   "cell_type": "markdown",
   "metadata": {},
   "source": [
    "# ---STEP 3---\n",
    "### Feature selection\n",
    "To keep only data corresponding to app food or unapp food, we create a mask of the samples belonging to the condition.\n"
   ]
  },
  {
   "cell_type": "code",
   "execution_count": 50,
   "metadata": {},
   "outputs": [],
   "source": [
    "def featureSelection(y_mask, imag_mask, fmri_subjs):\n",
    "    condition_mask = np.logical_or(y_mask == 'app',y_mask == 'unapp')\n",
    "    print(condition_mask.shape)\n",
    "    y = y_mask[condition_mask]\n",
    "    print(\"Y: \", y)\n",
    "    n_conditions = np.size(np.unique(y))\n",
    "\n",
    "#prepare the fxnl data. \n",
    "    nifti_masker = NiftiMasker(mask_img=imag_mask,\n",
    "                           smoothing_fwhm=4,standardize=True,\n",
    "                           memory=\"nilearn_cache\",memory_level=1)\n",
    "\n",
    "    fmri_trans = nifti_masker.fit_transform(fmri_subjs)\n",
    "    print(\"FMRI TRANS SHAPE: \", fmri_trans.shape)\n",
    "    print(\"FMRI TRANS: \", fmri_trans)\n",
    "    X = fmri_trans[condition_mask]\n",
    "    subs = subs[condition_mask]"
   ]
  },
  {
   "cell_type": "markdown",
   "metadata": {},
   "source": [
    "# ---STEP 4---\n",
    "###  Setting prediction  & testing the classifer"
   ]
  },
  {
   "cell_type": "code",
   "execution_count": 26,
   "metadata": {},
   "outputs": [],
   "source": [
    "def setPrediction():\n",
    "\n",
    "#setting prediction  & testing the classifer\n",
    "    svc = SVC(kernel='linear')\n",
    "    print(svc)\n",
    "\n",
    "# Define the dimension reduction to be used.\n",
    "# Here we use a classical univariate feature selection based on F-test, namely Anova. We set the number of features to be selected to 500\n",
    "    feature_selection = SelectKBest(f_classif, k=3000)\n",
    "\n",
    "# We have our classifier (SVC), our feature selection (SelectKBest), and now, we can plug them together in a *pipeline* that performs the two operations successively:\n",
    "    anova_svc = Pipeline([('anova',feature_selection), ('svc',svc)])\n",
    "\n",
    "#fit the decoder and predict\n",
    "    anova_svc.fit(X, y)\n",
    "    y_pred = anova_svc.predict(X)\n",
    "\n",
    "    cv = LeaveOneLabelOut(subs[subs < 1])\n",
    "\n",
    "    k_range = [10, 15, 30, 50, 150, 300, 500, 1000, 1500, 3000, 5000]\n",
    "    cv_scores = []\n",
    "    scores_validation = []\n",
    "\n",
    "# we are working with a composite estimator: \n",
    "# a pipeline of feature selection followed by SVC. Thus to give the name of the parameter that we want to tune we need to give the name of the step in\n",
    "# the pipeline, followed by the name of the parameter, with ‘__’ as a separator.\n",
    "# We are going to tune the parameter 'k' of the step called 'anova' in the pipeline. Thus we need to address it as 'anova__k'.\n",
    "# Note that GridSearchCV takes an n_jobs argument that can make it go much faster\n",
    "    grid = GridSearchCV(anova_svc, param_grid={'anova__k': k_range},n_jobs=-1)\n",
    "    nested_cv_scores = cross_val_score(grid, X, y)\n",
    "    classification_accuracy = np.mean(nested_cv_scores)\n",
    "    print(\"Classification accuracy: %.4f / Chance level: %f\" %\n",
    "      (classification_accuracy, 1. / n_conditions))\n",
    "    \n",
    "    for k in k_range:\n",
    "        feature_selection.k = k\n",
    "        cv_scores.append(np.mean(\n",
    "        cross_val_score(anova_svc, X[subs == 1], y[subs == 1])))\n",
    "        print(\"CV score: %.4f\" % cv_scores[-1])\n",
    "\n",
    "        anova_svc.fit(X[subs == 1], y[subs == 1])\n",
    "        y_pred = anova_svc.predict(X[subs == 0])\n",
    "        scores_validation.append(np.mean(y_pred == y[subs == 0]))\n",
    "        print(\"score validation: %.4f\" % scores_validation[-1])"
   ]
  },
  {
   "cell_type": "markdown",
   "metadata": {},
   "source": [
    "# ---STEP 5---\n",
    "### flipping the martix backinto an image"
   ]
  },
  {
   "cell_type": "code",
   "execution_count": 27,
   "metadata": {},
   "outputs": [],
   "source": [
    "def flipImage():\n",
    "    coef = svc.coef_\n",
    "    print(coef)\n",
    "\n",
    "# reverse feature selection\n",
    "    coef = feature_selection.inverse_transform(coef)\n",
    "\n",
    "# reverse masking\n",
    "    weight_img = nifti_masker.inverse_transform(coef)\n",
    "#plot image\n",
    "#plot_stat_map(weight_img, average_ana, title='SVM weights')\n",
    "\n"
   ]
  },
  {
   "cell_type": "markdown",
   "metadata": {},
   "source": [
    "# ---STEP 6---\n",
    "### Permunation testing\n",
    "to measure probablility of chance first score is mean accuracy of the null scores without perm targets, then the array, then the p-value. \n",
    "\n"
   ]
  },
  {
   "cell_type": "code",
   "execution_count": 28,
   "metadata": {},
   "outputs": [],
   "source": [
    "def permutationTesting():\n",
    "    #null_cv_scores = permutation_test_score(svc, X, y, cv=10)  \n",
    "    #print(null_cv_scores)\n",
    "\n",
    "    null_cv_scoresdumb = cross_val_score(DummyClassifier(), X, y, cv=10)  \n",
    "    print(null_cv_scoresdumb)\n",
    "    meannull_cv_scoresdumb = np.mean(null_cv_scoresdumb)\n",
    "    print(meannull_cv_scoresdumb)"
   ]
  },
  {
   "cell_type": "code",
   "execution_count": 51,
   "metadata": {},
   "outputs": [],
   "source": [
    "def main():\n",
    "    \n",
    "############################################\n",
    "# STEP 1\n",
    "############################################\n",
    "    all_func = getData()\n",
    "    print(\"GLOBAL BASEPATH: \", basepath)\n",
    "    print(all_func)\n",
    "    getData()\n",
    "    convertToNifti2(all_func)\n",
    "    \n",
    "############################################\n",
    "# STEP 2\n",
    "############################################    \n",
    "    y_mask, subs, imag_mask, fmri_subjs = prepData()\n",
    "    print(\"Y MASK: \", y_mask)\n",
    "    print(\"SUBS: \", subs)\n",
    "############################################\n",
    "# STEP 3\n",
    "############################################\n",
    "    featureSelection(y_mask, imag_mask, fmri_subjs)\n",
    "    \n",
    "############################################\n",
    "# STEP 4\n",
    "############################################\n",
    "    #setPrediction()\n",
    "    \n",
    "    \n",
    "############################################\n",
    "# STEP 5\n",
    "############################################\n",
    "   # flipImage()\n",
    "    \n",
    "############################################\n",
    "# STEP 6\n",
    "############################################\n",
    "    #permutationTesting()"
   ]
  },
  {
   "cell_type": "code",
   "execution_count": 52,
   "metadata": {},
   "outputs": [
    {
     "name": "stderr",
     "output_type": "stream",
     "text": [
      "sizeof_hdr should be 540; set sizeof_hdr to 540\n",
      "sizeof_hdr should be 540; set sizeof_hdr to 540\n"
     ]
    },
    {
     "name": "stdout",
     "output_type": "stream",
     "text": [
      "GLOBAL BASEPATH:  /Users/nikkibytes/Documents/testing/ChocoData\n",
      "['/Users/nikkibytes/Documents/testing/ChocoData/cs002++.feat/filtered_func_data.nii.gz', '/Users/nikkibytes/Documents/testing/ChocoData/cs001++.feat/filtered_func_data.nii.gz']\n",
      "We are now loading and preparing MRI data......\n",
      "LABELS:  [('rest', 0) ('rest', 0) ('rest', 0) ... ('unapp', 1) ('rest', 1)\n",
      " ('rest', 1)]\n",
      "Y MASK:  ['rest' 'rest' 'rest' ... 'unapp' 'rest' 'rest']\n",
      "SUBS:  [0 0 0 ... 1 1 1]\n",
      "(63175,)\n",
      "Y:  ['unapp' 'unapp' 'app' ... 'app' 'unapp' 'unapp']\n",
      "FMRI TRANS SHAPE:  (950, 6223)\n",
      "FMRI TRANS:  [[-0.91113603  0.92053205 -0.97324157 ...  0.93103695  1.0037516\n",
      "   1.000576  ]\n",
      " [-1.0386446   0.9632261  -0.95280486 ...  0.98058116  0.95567894\n",
      "   0.9850254 ]\n",
      " [-0.89531255  1.1132948  -0.9939857  ...  0.9831852   1.0324199\n",
      "   1.0455077 ]\n",
      " ...\n",
      " [ 0.941951   -0.99503773  0.9130787  ... -0.9993092  -0.9998046\n",
      "  -0.99984354]\n",
      " [ 0.96593344 -0.99344194  1.1946533  ... -0.9993164  -0.9998081\n",
      "  -0.9998621 ]\n",
      " [ 1.0697101  -0.9888189   1.1622237  ... -0.9993216  -0.99980843\n",
      "  -0.99986196]]\n"
     ]
    },
    {
     "ename": "IndexError",
     "evalue": "boolean index did not match indexed array along dimension 0; dimension is 950 but corresponding boolean dimension is 63175",
     "output_type": "error",
     "traceback": [
      "\u001b[0;31m---------------------------------------------------------------------------\u001b[0m",
      "\u001b[0;31mIndexError\u001b[0m                                Traceback (most recent call last)",
      "\u001b[0;32m<ipython-input-52-263240bbee7e>\u001b[0m in \u001b[0;36m<module>\u001b[0;34m()\u001b[0m\n\u001b[0;32m----> 1\u001b[0;31m \u001b[0mmain\u001b[0m\u001b[0;34m(\u001b[0m\u001b[0;34m)\u001b[0m\u001b[0;34m\u001b[0m\u001b[0m\n\u001b[0m",
      "\u001b[0;32m<ipython-input-51-86f05a4b6b64>\u001b[0m in \u001b[0;36mmain\u001b[0;34m()\u001b[0m\n\u001b[1;32m     19\u001b[0m \u001b[0;31m# STEP 3\u001b[0m\u001b[0;34m\u001b[0m\u001b[0;34m\u001b[0m\u001b[0m\n\u001b[1;32m     20\u001b[0m \u001b[0;31m############################################\u001b[0m\u001b[0;34m\u001b[0m\u001b[0;34m\u001b[0m\u001b[0m\n\u001b[0;32m---> 21\u001b[0;31m     \u001b[0mfeatureSelection\u001b[0m\u001b[0;34m(\u001b[0m\u001b[0my_mask\u001b[0m\u001b[0;34m,\u001b[0m \u001b[0mimag_mask\u001b[0m\u001b[0;34m,\u001b[0m \u001b[0mfmri_subjs\u001b[0m\u001b[0;34m)\u001b[0m\u001b[0;34m\u001b[0m\u001b[0m\n\u001b[0m\u001b[1;32m     22\u001b[0m \u001b[0;34m\u001b[0m\u001b[0m\n\u001b[1;32m     23\u001b[0m \u001b[0;31m############################################\u001b[0m\u001b[0;34m\u001b[0m\u001b[0;34m\u001b[0m\u001b[0m\n",
      "\u001b[0;32m<ipython-input-50-63e8a56ea7f4>\u001b[0m in \u001b[0;36mfeatureSelection\u001b[0;34m(y_mask, imag_mask, fmri_subjs)\u001b[0m\n\u001b[1;32m     14\u001b[0m     \u001b[0mprint\u001b[0m\u001b[0;34m(\u001b[0m\u001b[0;34m\"FMRI TRANS SHAPE: \"\u001b[0m\u001b[0;34m,\u001b[0m \u001b[0mfmri_trans\u001b[0m\u001b[0;34m.\u001b[0m\u001b[0mshape\u001b[0m\u001b[0;34m)\u001b[0m\u001b[0;34m\u001b[0m\u001b[0m\n\u001b[1;32m     15\u001b[0m     \u001b[0mprint\u001b[0m\u001b[0;34m(\u001b[0m\u001b[0;34m\"FMRI TRANS: \"\u001b[0m\u001b[0;34m,\u001b[0m \u001b[0mfmri_trans\u001b[0m\u001b[0;34m)\u001b[0m\u001b[0;34m\u001b[0m\u001b[0m\n\u001b[0;32m---> 16\u001b[0;31m     \u001b[0mX\u001b[0m \u001b[0;34m=\u001b[0m \u001b[0mfmri_trans\u001b[0m\u001b[0;34m[\u001b[0m\u001b[0mcondition_mask\u001b[0m\u001b[0;34m]\u001b[0m\u001b[0;34m\u001b[0m\u001b[0m\n\u001b[0m\u001b[1;32m     17\u001b[0m     \u001b[0msubs\u001b[0m \u001b[0;34m=\u001b[0m \u001b[0msubs\u001b[0m\u001b[0;34m[\u001b[0m\u001b[0mcondition_mask\u001b[0m\u001b[0;34m]\u001b[0m\u001b[0;34m\u001b[0m\u001b[0m\n",
      "\u001b[0;31mIndexError\u001b[0m: boolean index did not match indexed array along dimension 0; dimension is 950 but corresponding boolean dimension is 63175"
     ]
    }
   ],
   "source": [
    "main()"
   ]
  },
  {
   "cell_type": "code",
   "execution_count": null,
   "metadata": {},
   "outputs": [],
   "source": []
  }
 ],
 "metadata": {
  "kernelspec": {
   "display_name": "Python 3",
   "language": "python",
   "name": "python3"
  },
  "language_info": {
   "codemirror_mode": {
    "name": "ipython",
    "version": 3
   },
   "file_extension": ".py",
   "mimetype": "text/x-python",
   "name": "python",
   "nbconvert_exporter": "python",
   "pygments_lexer": "ipython3",
   "version": "3.6.5"
  }
 },
 "nbformat": 4,
 "nbformat_minor": 2
}
