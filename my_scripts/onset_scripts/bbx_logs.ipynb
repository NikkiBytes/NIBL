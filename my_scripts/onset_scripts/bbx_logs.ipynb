{
 "cells": [
  {
   "cell_type": "code",
   "execution_count": 62,
   "metadata": {},
   "outputs": [],
   "source": [
    "import os \n",
    "import pandas as pd\n",
    "import glob"
   ]
  },
  {
   "cell_type": "code",
   "execution_count": 79,
   "metadata": {},
   "outputs": [],
   "source": [
    "def getDict(sub):\n",
    "    logdict[sub]={\n",
    "        'POST': [],\n",
    "        'PRE': [],\n",
    "        'MISC': []\n",
    "    }  \n"
   ]
  },
  {
   "cell_type": "code",
   "execution_count": 89,
   "metadata": {},
   "outputs": [
    {
     "name": "stdout",
     "output_type": "stream",
     "text": [
      "EMPTY FILE:  bbx_002_run01_pre_2018-03-26-13_54_29_subdata.log\n",
      "EMPTY FILE:  bbx_001_run01_pre_2018-03-23-12_37_34_subdata.log\n"
     ]
    }
   ],
   "source": [
    "logdict={}\n",
    "path = os.path.join(\"/Users/nikkibytes/Documents/BBx_logs\", \"*log\")\n",
    "for file in glob.glob(path):\n",
    "    filename = file.split(\"/\")[5]\n",
    "    sub=\"sub-\"+filename.split(\"_\")[1]\n",
    "    run=\"run-\"+filename.split(\"_\")[2].split(\"0\")[1]\n",
    "    identifier=filename.split(\"_\")[3]\n",
    "    #print(filename, sub, run, identifier)\n",
    "    if sub not in logdict.keys():\n",
    "        getDict(sub)\n",
    "    if identifier  == \"post\":\n",
    "        logdict[sub][\"POST\"].append(run)\n",
    "    elif identifier == \"pre\":\n",
    "        logdict[sub][\"PRE\"].append(run)\n",
    "    else:\n",
    "        logdict[sub][\"MISC\"].append(run)\n",
    "        logdict[sub][\"MISC\"].append(identifier)\n",
    "        \n",
    "        \n",
    "    \n",
    "    try:\n",
    "        df = pd.read_table(file,engine=\"python\", sep=\"\\\\t\", header=None)\n",
    "        df.columns = [\"a\", \"b\", \"c\"]\n",
    "    except pd.errors.EmptyDataError:\n",
    "        print(\"EMPTY FILE: \", filename)"
   ]
  },
  {
   "cell_type": "code",
   "execution_count": 90,
   "metadata": {},
   "outputs": [
    {
     "data": {
      "text/plain": [
       "{'sub-007': {'POST': ['run-2', 'run-4', 'run-3', 'run-1'],\n",
       "  'PRE': ['run-4', 'run-3', 'run-2', 'run-4', 'run-1'],\n",
       "  'MISC': ['run-2', '2018-05-02-12', 'run-1', '2018-05-02-12']},\n",
       " 'sub-006': {'POST': ['run-4', 'run-2', 'run-3', 'run-1'],\n",
       "  'PRE': ['run-1', 'run-3', 'run-2', 'run-4'],\n",
       "  'MISC': ['run-2', '2018-05-08-13', 'run-1', '2018-05-08-12']},\n",
       " 'sub-022': {'POST': [],\n",
       "  'PRE': ['run-2', 'run-1', 'run-4', 'run-3'],\n",
       "  'MISC': []},\n",
       " 'sub-010': {'POST': ['run-3', 'run-1', 'run-4', 'run-1', 'run-2'],\n",
       "  'PRE': ['run-2', 'run-3', 'run-4', 'run-1'],\n",
       "  'MISC': ['run-2', '2018-05-17-21', 'run-1', '2018-05-17-21']},\n",
       " 'sub-017': {'POST': ['run-4', 'run-3', 'run-2', 'run-1'],\n",
       "  'PRE': ['run-3', 'run-2', 'run-1', 'run-4'],\n",
       "  'MISC': ['run-2', '2018-07-10-09', 'run-1', '2018-07-10-09']},\n",
       " 'sub-021': {'POST': ['run-3', 'run-2', 'run-1', 'run-4'],\n",
       "  'PRE': ['run-4', 'run-1', 'run-2', 'run-3'],\n",
       "  'MISC': ['run-1', '2018-07-02-09']},\n",
       " 'sub-023': {'POST': ['run-4', 'run-3', 'run-2', 'run-1'],\n",
       "  'PRE': ['run-3', 'run-1', 'run-4', 'run-2'],\n",
       "  'MISC': ['run-1', '2018-07-11-09']},\n",
       " 'sub-004': {'POST': ['run-4', 'run-1', 'run-2', 'run-3'],\n",
       "  'PRE': ['run-2', 'run-1', 'run-4'],\n",
       "  'MISC': ['run-1', '2018-05-02-11', 'run-2', '2018-05-02-11']},\n",
       " 'sub-005': {'POST': ['run-1', 'run-4', 'run-3'],\n",
       "  'PRE': ['run-2', 'run-3', 'run-2', 'run-1', 'run-4'],\n",
       "  'MISC': ['run-2', '2018-05-01-11', 'run-1', '2018-05-01-11']},\n",
       " 'sub-012': {'POST': [],\n",
       "  'PRE': ['run-2', 'run-1', 'run-3', 'run-4'],\n",
       "  'MISC': []},\n",
       " 'sub-011': {'POST': ['run-4', 'run-2', 'run-1', 'run-3'],\n",
       "  'PRE': ['run-4', 'run-2', 'run-1', 'run-3'],\n",
       "  'MISC': ['run-1', '2018-05-09-11', 'run-2', '2018-05-09-11']},\n",
       " 'sub-002': {'POST': ['run-3', 'run-1', 'run-4', 'run-2'],\n",
       "  'PRE': ['run-3', 'run-1', 'run-2', 'run-1', 'run-1'],\n",
       "  'MISC': ['run-1',\n",
       "   '2018-04-23-18',\n",
       "   'run-2',\n",
       "   '2018-04-23-18',\n",
       "   'run-1',\n",
       "   '2018-04-23-18']},\n",
       " 'sub-016': {'POST': ['run-3', 'run-1', 'run-4', 'run-2'],\n",
       "  'PRE': ['run-3', 'run-2', 'run-1', 'run-4'],\n",
       "  'MISC': ['run-1', '2018-06-21-20', 'run-2', '2018-06-21-20']},\n",
       " 'sub-008': {'POST': ['run-2', 'run-1', 'run-3', 'run-4'],\n",
       "  'PRE': ['run-4', 'run-3', 'run-1', 'run-2'],\n",
       "  'MISC': ['run-2', '2018-05-07-17', 'run-1', '2018-05-07-16']},\n",
       " 'sub-003': {'POST': [],\n",
       "  'PRE': ['run-4', 'run-2', 'run-3', 'run-1'],\n",
       "  'MISC': []},\n",
       " 'sub-024': {'POST': [],\n",
       "  'PRE': ['run-4', 'run-1', 'run-3', 'run-2'],\n",
       "  'MISC': []},\n",
       " 'sub-015': {'POST': ['run-1', 'run-3', 'run-4', 'run-2'],\n",
       "  'PRE': ['run-4', 'run-3', 'run-2', 'run-1'],\n",
       "  'MISC': ['run-1', '2018-06-13-09']},\n",
       " 'sub-032': {'POST': [],\n",
       "  'PRE': ['run-1', 'run-3', 'run-2', 'run-4'],\n",
       "  'MISC': []},\n",
       " 'sub-019': {'POST': ['run-3', 'run-4', 'run-2', 'run-1', 'run-4'],\n",
       "  'PRE': ['run-1', 'run-3', 'run-2', 'run-4'],\n",
       "  'MISC': ['run-2', '2018-07-05-20', 'run-1', '2018-07-05-20']},\n",
       " 'sub-013': {'POST': ['run-3', 'run-2', 'run-1', 'run-4'],\n",
       "  'PRE': ['run-2', 'run-3', 'run-4', 'run-1'],\n",
       "  'MISC': ['run-2', '2018-06-06-20', 'run-1', '2018-06-06-20']},\n",
       " 'sub-009': {'POST': ['run-2', 'run-1', 'run-3'],\n",
       "  'PRE': ['run-2', 'run-1'],\n",
       "  'MISC': ['run-2', '2018-05-04-09', 'run-1', '2018-05-04-09']},\n",
       " 'sub-014': {'POST': ['run-1', 'run-2', 'run-3', 'run-4'],\n",
       "  'PRE': ['run-4', 'run-1', 'run-1', 'run-3', 'run-2'],\n",
       "  'MISC': ['run-2', '2018-06-20-16', 'run-1', '2018-06-20-16']},\n",
       " 'sub-020': {'POST': [],\n",
       "  'PRE': ['run-4', 'run-2', 'run-1', 'run-3'],\n",
       "  'MISC': []},\n",
       " 'sub-001': {'POST': ['run-1', 'run-3', 'run-2', 'run-4'],\n",
       "  'PRE': ['run-1', 'run-1', 'run-4', 'run-3', 'run-2'],\n",
       "  'MISC': ['run-1', '2018-04-16-19', 'run-2', '2018-04-16-19']},\n",
       " 'sub-033': {'POST': [],\n",
       "  'PRE': ['run-3', 'run-1', 'run-2', 'run-4'],\n",
       "  'MISC': []}}"
      ]
     },
     "execution_count": 90,
     "metadata": {},
     "output_type": "execute_result"
    }
   ],
   "source": [
    "logdict"
   ]
  },
  {
   "cell_type": "code",
   "execution_count": null,
   "metadata": {},
   "outputs": [],
   "source": []
  }
 ],
 "metadata": {
  "kernelspec": {
   "display_name": "Python 3",
   "language": "python",
   "name": "python3"
  },
  "language_info": {
   "codemirror_mode": {
    "name": "ipython",
    "version": 3
   },
   "file_extension": ".py",
   "mimetype": "text/x-python",
   "name": "python",
   "nbconvert_exporter": "python",
   "pygments_lexer": "ipython3",
   "version": "3.6.5"
  }
 },
 "nbformat": 4,
 "nbformat_minor": 2
}
