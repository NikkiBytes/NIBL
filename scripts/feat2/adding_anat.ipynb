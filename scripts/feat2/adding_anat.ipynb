{
 "cells": [
  {
   "cell_type": "code",
   "execution_count": 1,
   "metadata": {},
   "outputs": [
    {
     "ename": "IndentationError",
     "evalue": "expected an indented block (<ipython-input-1-89cf028d92f0>, line 34)",
     "output_type": "error",
     "traceback": [
      "\u001b[0;36m  File \u001b[0;32m\"<ipython-input-1-89cf028d92f0>\"\u001b[0;36m, line \u001b[0;32m34\u001b[0m\n\u001b[0;31m    for new_dest in TASK_FOLDERS:\u001b[0m\n\u001b[0m      ^\u001b[0m\n\u001b[0;31mIndentationError\u001b[0m\u001b[0;31m:\u001b[0m expected an indented block\n"
     ]
    }
   ],
   "source": [
    "import os, shutil, glob\n",
    "\n",
    "dir_path = \"/projects/niblab/bids_projects/Experiments/bbx\"\n",
    "SUBS = sorted(glob.glob(os.path.join(dir_path,\"derivatives\", \"sub-*\")))\n",
    "\n",
    "## COPY ANAT FILE FROM FMRIPREP TO DERIVATIVES DIR\n",
    "for sub_path in SUBS:\n",
    "    subID = sub_path.split(\"/\")[-1]\n",
    "    fmriprep_path = os.path.join(dir_path, \"fmriprep\", subID,  \"ses-1\", \"fmriprep\", subID, \"anat\")\n",
    "    ANAT=glob.glob(os.path.join(fmriprep_path, \"sub*_preproc.nii.gz\"))\n",
    "    new_path=os.path.join(sub_path,\"ses-1\", \"anat\")\n",
    "    print(\">>>---> \", new_path)\n",
    "    for anat_ in ANAT:\n",
    "        print(anat_)\n",
    "        try:\n",
    "            shutil.copy(anat_, new_path)\n",
    "        except:\n",
    "            print(\"PASSING\")\n",
    "\n",
    "## RENAME ANAT FILE TO HIGHRES.NII.GZ\n",
    "for sub_path in SUBS:\n",
    "    ANATS=glob.glob(os.path.join(sub_path, \"ses-1\", \"anat\", \"sub-*_T1w_space-MNI152NLin2009cAsym_preproc.nii.gz\"))\n",
    "    for anat_ in ANATS:\n",
    "        new_dest = os.path.join(sub_path, \"ses-1\", \"anat\", \"highres.nii.gz\")\n",
    "        print(\"RENAMING %s >>>---> %s \"%(anat_, new_dest))\n",
    "        os.rename(anat_, new_dest)\n",
    "\n",
    "# COPY ANAT FILE TO FEAT1 FOLDER \n",
    "for sub_path in SUBS: \n",
    "    ANAT_FILE = os.path.join(sub_path, \"ses-1/anat\", \"highres.nii.gz\")\n",
    "    print(\"ANAT FILE >>>----> \", ANAT_FILE)\n",
    "    TASK_FOLDERS= glob.glob(os.path.join(sub_path, \"ses-1\", \"func\", \"Analysis/feat1/task*/reg_standard/reg\"))\n",
    "    if not TASK_FOLDERS:\n",
    "        for task in glob.glob(os.path.join(sub_path, \"ses-1\", \"func\", \"Analysis/feat1/task*\")):\n",
    "            os.makedirs(os.path.join(task, \"reg_standard/reg\"))\n",
    "    TASK_FOLDERS= glob.glob(os.path.join(sub_path, \"ses-1\", \"func\", \"Analysis/feat1/task*/reg_standard/reg\"))\n",
    "\n",
    "    for new_dest in TASK_FOLDERS:\n",
    "        print(\"NEW DESTINATION >>>---> \", new_dest)\n",
    "        shutil.copy(ANAT_FILE, new_dest)\n",
    "# REMOVE BADDIES IF ALREADY RAN FEAT\n",
    "for sub_path in SUBS:\n",
    "    FEAT1 = glob.glob(os.path.join(sub_path, \"ses-1\", \"func\", \"Analysis/feat1/task*/reg_standard\", \"*nii.gz\"))\n",
    "    STATS = glob.glob(os.path.join(sub_path, \"ses-1\", \"func\", \"Analysis/feat1/task*/reg_standard\", \"stats\"))\n",
    "    for f in FEAT1:\n",
    "        print(\"REMOVING >>>----> \", f)\n",
    "        os.remove(f)\n",
    "    for x in STATS:\n",
    "        print(\"REMOVING >>>----> \", x)\n",
    "        shutil.rmtree(x)\n",
    "        "
   ]
  },
  {
   "cell_type": "code",
   "execution_count": null,
   "metadata": {},
   "outputs": [],
   "source": []
  }
 ],
 "metadata": {
  "kernelspec": {
   "display_name": "Python 3",
   "language": "python",
   "name": "python3"
  },
  "language_info": {
   "codemirror_mode": {
    "name": "ipython",
    "version": 3
   },
   "file_extension": ".py",
   "mimetype": "text/x-python",
   "name": "python",
   "nbconvert_exporter": "python",
   "pygments_lexer": "ipython3",
   "version": "3.6.5"
  }
 },
 "nbformat": 4,
 "nbformat_minor": 2
}
