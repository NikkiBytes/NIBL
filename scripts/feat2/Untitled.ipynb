{
 "cells": [
  {
   "cell_type": "code",
   "execution_count": null,
   "metadata": {},
   "outputs": [],
   "source": [
    "import glob, os, shutil\n",
    "\n",
    "BADDIES = glob.glob(\"/projects/niblab/bids_projects/Experiments/bbx/derivatives/sub-*/ses-1/func/Analysis/feat2/*fsf\" )\n",
    "\n",
    "for baddie in BADDIES:\n",
    "    os.remove(baddie)\n",
    "    \n",
    "MOREBADDIES = glob.glob(\"/projects/niblab/bids_projects/Experiments/bbx/derivatives/sub-*/ses-1/func/Analysis/feat2/projects\" )"
   ]
  }
 ],
 "metadata": {
  "kernelspec": {
   "display_name": "Python 3",
   "language": "python",
   "name": "python3"
  },
  "language_info": {
   "codemirror_mode": {
    "name": "ipython",
    "version": 3
   },
   "file_extension": ".py",
   "mimetype": "text/x-python",
   "name": "python",
   "nbconvert_exporter": "python",
   "pygments_lexer": "ipython3",
   "version": "3.6.5"
  }
 },
 "nbformat": 4,
 "nbformat_minor": 2
}
