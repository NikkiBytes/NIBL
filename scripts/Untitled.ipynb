{
 "cells": [
  {
   "cell_type": "code",
   "execution_count": 11,
   "metadata": {
    "scrolled": false
   },
   "outputs": [
    {
     "ename": "SyntaxError",
     "evalue": "invalid syntax (<ipython-input-11-2df1be5df9cd>, line 9)",
     "output_type": "error",
     "traceback": [
      "\u001b[0;36m  File \u001b[0;32m\"<ipython-input-11-2df1be5df9cd>\"\u001b[0;36m, line \u001b[0;32m9\u001b[0m\n\u001b[0;31m    num_scrub = #some number that is ~25% of TRS\u001b[0m\n\u001b[0m                                                ^\u001b[0m\n\u001b[0;31mSyntaxError\u001b[0m\u001b[0;31m:\u001b[0m invalid syntax\n"
     ]
    }
   ],
   "source": [
    "#!/usr/bin/env \n",
    "# -*- coding: utf-8 -*-\n",
    "\"\"\"\n",
    "Created on Wed May 30 14:47:27 2018\n",
    "\n",
    "@author: gracer\n",
    "\"\"\"\n",
    "\n",
    "num_scrub = #some number that is ~25% of TRS\n",
    "for dir in glob.glob(os.path.join('/projects/niblab/bids_projects/Experiments/Bevel/data/fmriprep/sub-001/fmriprep/sub-001/func'): #path to the functional, skull stripped data\n",
    "    print(dir)#not needed but i get crazy \n",
    "    if not os.path.exists(os.path.join(dir,'motion_assessment')): #looking for a motion assessment dir to put out put in, I like to put it in my functional directory where my skull stripped brain is\n",
    "        os.makedirs(os.path.join(dir,'motion_assessment')) #making dir if it doesn't exist\n",
    "    for input in glob.glob(os.path.join(dir,'*brain.nii.gz')):\n",
    "        output=input.split('.')[0]\n",
    "        print(output)\n",
    "        ###this is generating the fd confounds txt, it is using the fd metric, making a plot and putting it in the motion assessment directory we made above\n",
    "        os.system(\"fsl_motion_outliers -i %s -o motion_assessment/%s_confound.txt --nomoco  --fd --thresh=%s -p motion_assessment/fd_plot -v > motion_assessment/%s_outlier_output.txt\"%(output,output,arglist['MOCO'],output))\n",
    "        ####this is writing the motion assessment fd metric to the html file\n",
    "        os.system(\"cat motion_assessment/%s_outlier_output.txt >> %s\"%(output,outhtml))\n",
    "        ###getting the full path to the plot\n",
    "        plotz=os.path.join(basedir,dir,'motion_assessment','fd_plot.png')\n",
    "        #### putting the full plot in the html file\n",
    "        os.system(\"echo '<p>=============<p>FD plot %s <br><IMG BORDER=0 SRC=%s WIDTH=%s></BODY></HTML>' >> %s\"%(output,plotz,'100%', outhtml))\n",
    "        ####sometimes you have a great subject who didn't move, in this case we want to make a blank file\n",
    "        if os.path.isfile(\"motion_assessment/%s_confound.txt\"%(output))==False:\n",
    "            os.system(\"touch motion_assessment/%s_confound.txt\"%(output))\n",
    "            \n",
    "        check = subprocess.check_output(\"grep -o 1 motion_assessment/%s_confound.txt | wc -l\"%(output), shell=True) #how many columns are there = how many 'bad' points\n",
    "        \n",
    "            \n",
    "        if check>num_scrub: #if the number in check is greater than num_scrub then we don't want it\n",
    "            with open(out_bad_bold_list, \"a\") as myfile: #making a file that lists all the bad ones\n",
    "                myfile.write(\"%s\\n\"%(output))\n",
    "            myfile.close()\n",
    "            "
   ]
  },
  {
   "cell_type": "code",
   "execution_count": 14,
   "metadata": {},
   "outputs": [],
   "source": [
    "import glob\n",
    "import os\n",
    "import pdb\n",
    "import subprocess\n",
    "import argparse\n",
    "import datetime\n",
    "import shutil\n",
    "import os\n",
    "\n",
    "def main(DATA):\n",
    "    basedir='/Users/nikkibytes/testing/fmriprep'\n",
    "    writedir='/Users/nikkibytes/testing/fmriprep'\n",
    "    \n",
    "    datestamp=datetime.datetime.now().strftime(\"%Y-%m-%d-%H_%M_%S\")\n",
    "    outhtml = os.path.join(writedir,'bold_motion_QA_%s.html'%(datestamp))\n",
    "    out_bad_bold_list = os.path.join(writedir,'lose_gt_45_vol_scrub_%s.txt'%(datestamp))\n",
    "\n",
    "    parser=argparse.ArgumentParser(description='preprocessing')\n",
    "    parser.add_argument('-task',dest='TASK',\n",
    "                        default=False, help='which task are we running on?')\n",
    "    parser.add_argument('-moco',dest='MOCO',\n",
    "                        default=False, help='this is using fsl_motion_outliers to preform motion correction and generate a confounds.txt as well as DVARS')\n",
    "    args = parser.parse_args()\n",
    "    arglist={}\n",
    "    for a in args._get_kwargs():\n",
    "        arglist[a[0]]=a[1]\n",
    "    print(arglist)\n",
    "    #prepro(basedir, args, arglist, outhtml, out_bad_bold_list,DATA)"
   ]
  },
  {
   "cell_type": "code",
   "execution_count": 56,
   "metadata": {},
   "outputs": [],
   "source": [
    "#num_scrub = #some number that is ~25% of TRS\n",
    "\n",
    "def preproc(DATA):\n",
    "    print(\"Starting motion correction \")\n",
    "    for sub in DATA:\n",
    "        #print(sub)\n",
    "        for dir in glob.glob(os.path.join(sub,'fmriprep/sub-001/func')):#path to the functional, skull stripped data\n",
    "            #print(dir)#not needed but i get crazy \n",
    "            if not os.path.exists(os.path.join(sub,'motion_assessment')): #looking for a motion assessment dir to put out put in, I like to put it in my functional directory where my skull stripped brain is\n",
    "                os.makedirs(os.path.join(sub,'motion_assessment')) #making dir if it doesn't exist\n",
    "            for input in glob.glob(os.path.join(dir,'*brainmask.nii.gz')):\n",
    "                output=input.split('.')[0]\n",
    "                print(output)\n",
    "                \n",
    "                ###this is generating the fd confounds txt, it is using the fd metric, making a plot and putting it in the motion assessment directory we made above\n",
    "                os.system(\"fsl_motion_outliers -i %s -o motion_assessment/%s_confound.txt \\\n",
    "                          --nomoco  --fd --thresh=%s -p motion_assessment/fd_plot -v > \\\n",
    "                          motion_assessment/%s_outlier_output.txt\"%(output,output,arglist['MOCO'],output))\n"
   ]
  },
  {
   "cell_type": "code",
   "execution_count": 57,
   "metadata": {},
   "outputs": [
    {
     "name": "stdout",
     "output_type": "stream",
     "text": [
      "Starting motion correction \n",
      "/Users/nikkibytes/testing/sub-001/fmriprep/sub-001/func/sub-001_task-rest_bold_space-T1w_brainmask\n",
      "/Users/nikkibytes/testing/sub-001/fmriprep/sub-001/func/sub-001_task-prob_run-3_bold_space-T1w_brainmask\n",
      "/Users/nikkibytes/testing/sub-001/fmriprep/sub-001/func/sub-001_task-prob_run-1_bold_space-T1w_brainmask\n",
      "/Users/nikkibytes/testing/sub-001/fmriprep/sub-001/func/sub-001_task-prob_run-4_bold_space-T1w_brainmask\n",
      "/Users/nikkibytes/testing/sub-001/fmriprep/sub-001/func/sub-001_task-prob_run-2_bold_space-T1w_brainmask\n"
     ]
    }
   ],
   "source": [
    "all_data=glob.glob('/Users/nikkibytes/testing/sub*')\n",
    "all_data\n",
    "preproc(all_data)\n"
   ]
  },
  {
   "cell_type": "code",
   "execution_count": null,
   "metadata": {},
   "outputs": [],
   "source": []
  }
 ],
 "metadata": {
  "kernelspec": {
   "display_name": "Python 3",
   "language": "python",
   "name": "python3"
  },
  "language_info": {
   "codemirror_mode": {
    "name": "ipython",
    "version": 3
   },
   "file_extension": ".py",
   "mimetype": "text/x-python",
   "name": "python",
   "nbconvert_exporter": "python",
   "pygments_lexer": "ipython3",
   "version": "3.6.5"
  }
 },
 "nbformat": 4,
 "nbformat_minor": 2
}
