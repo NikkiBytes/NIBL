{
 "cells": [
  {
   "cell_type": "markdown",
   "metadata": {},
   "source": [
    "# Feature 1 Analysis \n",
    "\n",
    "Before running feat 1 we need to ensure we have the necessary files.  \n",
    "Our prerequisites are:\n",
    "* Skull stripped functional files\n",
    "* Motion assessed (*_confounds.txt) files\n",
    "* Motion corrected (*_mocoX.txt) files  \n",
    "\n",
    "------> Reference: \n",
    "\n",
    "### Feat 1 Workflow\n",
    "**I.   Get design.fsf file & make the _template_  \n",
    "II.  Make design files for each subject   \n",
    "III. Make script to run feat on .fsf files   \n",
    "IV.  Quality check directories**       \n"
   ]
  },
  {
   "cell_type": "markdown",
   "metadata": {},
   "source": [
    "##### Step I.   Make design 1 template  \n",
    "\n",
    "---> We need to open up the GUI and get our design file <design.fsf>,  \n",
    "---> then we replace input values with variable names,  \n",
    "---> and finally we rename it to *<design1.fsf>*\n",
    "\n",
    "\n",
    "\n"
   ]
  },
  {
   "cell_type": "markdown",
   "metadata": {},
   "source": [
    "##### Step II. Make design files for each subject\n",
    "---> Run <fsf-design1.py> to make design files for all subjects _*Original script may need modified_  "
   ]
  },
  {
   "cell_type": "markdown",
   "metadata": {},
   "source": [
    "##### IV. Make script to run feat on .fsf files  \n",
    "\n",
    "At this point we should have <.fsf> files for each of our subjects and individual runs/tasks/etc. Now we will be able to run our. <*.fsf> files. To do this we simply s"
   ]
  },
  {
   "cell_type": "code",
   "execution_count": null,
   "metadata": {},
   "outputs": [],
   "source": []
  }
 ],
 "metadata": {
  "kernelspec": {
   "display_name": "Python 3",
   "language": "python",
   "name": "python3"
  },
  "language_info": {
   "codemirror_mode": {
    "name": "ipython",
    "version": 3
   },
   "file_extension": ".py",
   "mimetype": "text/x-python",
   "name": "python",
   "nbconvert_exporter": "python",
   "pygments_lexer": "ipython3",
   "version": "3.6.5"
  }
 },
 "nbformat": 4,
 "nbformat_minor": 2
}
