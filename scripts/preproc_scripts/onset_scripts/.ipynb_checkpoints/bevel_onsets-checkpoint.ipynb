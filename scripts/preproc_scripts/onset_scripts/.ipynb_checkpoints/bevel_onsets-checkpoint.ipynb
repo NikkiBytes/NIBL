{
 "cells": [
  {
   "cell_type": "markdown",
   "metadata": {},
   "source": [
    "<h1> Bevel Onsets </h1>\n",
    "<h3>Here we rename the onsets to fit the format for feat analysis processing  \n",
    "and we copy the onsets to the corresponding onset directory in our derivatives folder.</h4>\n"
   ]
  },
  {
   "cell_type": "code",
   "execution_count": 1,
   "metadata": {},
   "outputs": [],
   "source": [
    "import os, glob, shutil"
   ]
  },
  {
   "cell_type": "code",
   "execution_count": null,
   "metadata": {},
   "outputs": [],
   "source": [
    "ONSETS=glob.glob(os.path.join(\"/projects/niblab/bids_projects/Experiments/Bevel/onsets\", \"*.txt\"))\n",
    "for onset in ONSETS:\n",
    "    filename=onset.split(\"/\")[-1].strip(\".txt\")\n",
    "    sub=filename.split(\"_\")[0].split(\"l\")[1]\n",
    "    task=filename.split(\"_\")[1] \n",
    "    run=filename.split(\"_\")[2]\n",
    "    run=run.replace(\"0\", \"-\")\n",
    "    new_name = \"sub-0%s_task-%s_%s.txt\"%(sub, task, run)\n",
    "    new_dest = os.path.join(\"/projects/niblab/bids_projects/Experiments/Bevel/onsets/new_rsync\", new_name)\n",
    "    print(\"REPLACING : \", onset)\n",
    "    print(\"WITH >>>---> \", new_dest)\n",
    "    os.rename(onset, new_dest)"
   ]
  },
  {
   "cell_type": "code",
   "execution_count": 2,
   "metadata": {},
   "outputs": [],
   "source": [
    "# MOVE ONSETS \n",
    "SUBJECTS = glob.glob(os.path.join(\"/projects/niblab/bids_projects/Experiments/Bevel/derivatives\", \"sub-*\"))\n",
    "for sub_dir in SUBJECTS:\n",
    "    sub = sub_dir.split(\"/\")[-1]\n",
    "    curr_onsets=glob.glob(os.path.join(sub_dir, \"func/onsets/*.txt\"))\n",
    "    if not curr_onsets:\n",
    "    ### get onsets\n",
    "        new_onsets = glob.glob(os.path.join(\"/projects/niblab/bids_projects/Experiments/Bevel/onsets/new_rsync\", \"%s*.txt\"%sub))\n",
    "        if not new_onsets:\n",
    "            print(\"ERROR NO ONSETS FOR \", sub)\n",
    "        for onset in new_onsets:\n",
    "            #print(onset)\n",
    "            new_dest = os.path.join(sub_dir, \"func/onsets\")\n",
    "            print(\"%s >>>------> %s\"%(onset, new_dest))\n",
    "            shutil.copy(onset, new_dest)"
   ]
  }
 ],
 "metadata": {
  "kernelspec": {
   "display_name": "Python 3",
   "language": "python",
   "name": "python3"
  },
  "language_info": {
   "codemirror_mode": {
    "name": "ipython",
    "version": 3
   },
   "file_extension": ".py",
   "mimetype": "text/x-python",
   "name": "python",
   "nbconvert_exporter": "python",
   "pygments_lexer": "ipython3",
   "version": "3.6.5"
  }
 },
 "nbformat": 4,
 "nbformat_minor": 2
}
