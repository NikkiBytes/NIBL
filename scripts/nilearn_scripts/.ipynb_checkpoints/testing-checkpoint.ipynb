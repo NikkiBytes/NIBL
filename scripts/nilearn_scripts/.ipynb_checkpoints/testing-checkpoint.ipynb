{
 "cells": [
  {
   "cell_type": "code",
   "execution_count": 1,
   "metadata": {},
   "outputs": [
    {
     "name": "stderr",
     "output_type": "stream",
     "text": [
      "/Users/nikkibytes/anaconda3/lib/python3.6/site-packages/h5py/__init__.py:36: FutureWarning: Conversion of the second argument of issubdtype from `float` to `np.floating` is deprecated. In future, it will be treated as `np.float64 == np.dtype(float).type`.\n",
      "  from ._conv import register_converters as _register_converters\n",
      "/Users/nikkibytes/anaconda3/lib/python3.6/site-packages/sklearn/cross_validation.py:41: DeprecationWarning: This module was deprecated in version 0.18 in favor of the model_selection module into which all the refactored classes and functions are moved. Also note that the interface of the new CV iterators are different from that of this module. This module will be removed in 0.20.\n",
      "  \"This module will be removed in 0.20.\", DeprecationWarning)\n",
      "/Users/nikkibytes/anaconda3/lib/python3.6/site-packages/sklearn/grid_search.py:42: DeprecationWarning: This module was deprecated in version 0.18 in favor of the model_selection module into which all the refactored classes and functions are moved. This module will be removed in 0.20.\n",
      "  DeprecationWarning)\n"
     ]
    }
   ],
   "source": [
    "#this imports all the commands needed for the script to work#\n",
    "import os\n",
    "import numpy as np\n",
    "import nilearn\n",
    "import glob\n",
    "#import matplotlib\n",
    "import nibabel as nib\n",
    "from nilearn.image import concat_imgs, index_img, smooth_img\n",
    "from nilearn.image import resample_to_img\n",
    "#from nilearn import plotting\n",
    "from nilearn.input_data import NiftiMasker\n",
    "from sklearn.svm import SVC\n",
    "from sklearn.cross_validation import LeaveOneLabelOut, cross_val_score, permutation_test_score\n",
    "from sklearn.feature_selection import SelectKBest, f_classif\n",
    "from sklearn.pipeline import Pipeline\n",
    "from sklearn.grid_search import GridSearchCV\n",
    "from nilearn import image\n",
    "#from nilearn.plotting import plot_stat_map, show\n",
    "from sklearn.dummy import DummyClassifier\n"
   ]
  },
  {
   "cell_type": "code",
   "execution_count": 2,
   "metadata": {},
   "outputs": [
    {
     "name": "stderr",
     "output_type": "stream",
     "text": [
      "sizeof_hdr should be 540; set sizeof_hdr to 540\n",
      "sizeof_hdr should be 540; set sizeof_hdr to 540\n"
     ]
    }
   ],
   "source": [
    "# ---STEP 1---\n",
    "#Cncatenate the imagine data into a NIFTI-2 file. \n",
    "#Note: the data does not fit into a NIFTI-1 file, due to large number of subs. \n",
    "\n",
    "#set basepath\n",
    "basepath=os.path.join('/projects','niblab','data','eric_data','W1','imagine')\n",
    "\n",
    "#make a list of the files to concat\n",
    "all_func = glob.glob(os.path.join(basepath,'level1_grace_edit','cs*++.feat','filtered_func_data.nii.gz'))\n",
    "half_func = all_func[:67]\n",
    "#load in all the files from the glob above, then convert them from nifti1 to nifti2\n",
    "ni2_funcs = (nib.Nifti2Image.from_image(nib.load(func)) for func in half_func)\n",
    "#concat, this is with nibabel, but should work with nilearn too\n",
    "ni2_concat = nib.concat_images(ni2_funcs, check_affines=False, axis=3)\n",
    "#set the output file name\n",
    "outfile=os.path.join(basepath,'concatenated_imagine.nii')\n",
    "#write the file\n",
    "ni2_concat.to_filename(outfile)\n",
    "\n",
    "# ---STEP 2---\n",
    "#load & prepare MRI data\n",
    "#load, fxnl, anatomical, & mask for plotting\n",
    "fmri_subjs=os.path.join(basepath, 'concatenated_imagine.nii')\n",
    "average_ana=os.path.join(basepath,'CS_avg_mprage_image.nii.gz')\n",
    "imag_mask=os.path.join('/projects','niblab','scripts','nilean_stuff','power_roimask_4bi.nii.gz')\n",
    "\n",
    "#plot mask (Power ROIs) over anatomical that is defined above\n",
    "#plotting.plot_roi(imag_mask,bg_img=average_ana,cmap='Paired')\n",
    "\n",
    "#load labels for the functional data\n",
    "stim = os.path.join('/projects','niblab','scripts','nilean_stuff','label_all_sub.csv')\n",
    "labels = np.recfromcsv(stim, delimiter=\",\")\n",
    "print(labels)\n",
    "#Its shape corresponds to the number of time-points times the number of voxels in the mask\n",
    "\n",
    "#Retrieve the behavioral targets, that we are going to predict in the decoding\n",
    "y_mask = labels['label']\n",
    "subs = labels['sub']\n",
    "\n"
   ]
  },
  {
   "cell_type": "code",
   "execution_count": null,
   "metadata": {},
   "outputs": [],
   "source": []
  }
 ],
 "metadata": {
  "kernelspec": {
   "display_name": "Python 3",
   "language": "python",
   "name": "python3"
  },
  "language_info": {
   "codemirror_mode": {
    "name": "ipython",
    "version": 3
   },
   "file_extension": ".py",
   "mimetype": "text/x-python",
   "name": "python",
   "nbconvert_exporter": "python",
   "pygments_lexer": "ipython3",
   "version": "3.6.5"
  }
 },
 "nbformat": 4,
 "nbformat_minor": 2
}
