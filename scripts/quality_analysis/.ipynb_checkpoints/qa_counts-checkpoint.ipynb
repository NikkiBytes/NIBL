{
 "cells": [
  {
   "cell_type": "code",
   "execution_count": 1,
   "metadata": {},
   "outputs": [],
   "source": [
    "import glob, shutil, os"
   ]
  },
  {
   "cell_type": "code",
   "execution_count": null,
   "metadata": {},
   "outputs": [],
   "source": [
    "fprep_path = \"/projects/niblab/bids_projects/Experiments/ChocoData/fmriprep\"\n",
    "SUBJECTS=sorted(glob.glob(os.path.join(fprep_path, \"sub-*\")))\n",
    "\n"
   ]
  },
  {
   "cell_type": "code",
   "execution_count": null,
   "metadata": {},
   "outputs": [],
   "source": [
    "# Case scenarios ~ \n",
    "# A. single session\n",
    "# B. specific session\n",
    "def make_dict(x):\n",
    "    qa_dict[x] = {}  \n",
    "\n",
    "qa_dict = {}\n",
    "fprep_path = \"/projects/niblab/bids_projects/Experiments/ChocoData/fmriprep\"\n",
    "bids_path = \"/projects/niblab/bids_projects/Experiments/ChocoData/BIDS\"\n",
    "SUBJECTS=sorted(glob.glob(os.path.join(fprep_path, \"sub-*\")))\n",
    "sessions = [\"ses-2\", \"ses-3\", \"ses-4\"]\n",
    "#count sessions set\n",
    "for ses in sessions:\n",
    "    total = len(glob.glob(os.path.join(fprep_path, \"sub-*\", ses)))\n",
    "    skull_total = len(glob.glob(os.path.join(fprep_path, \"sub-*\", ses, \"fmriprep_wf/single*/anat*/skull*/t1_sk*\")))\n",
    "    if ses not in qa_dict:\n",
    "        make_dict(ses)\n",
    "    qa_dict[ses][\"EXPECTED TOTAL\"] =  exp_total\n",
    "    qa_dict[ses][\"FMRIPREP TOTAL\"] =  total\n",
    "    qa_dict[ses][\"SKULL TOTAL\"] =  skull_total\n",
    "\n",
    "# scenario 3\n",
    "for subpath in SUBJECTS:\n",
    "    subID = subpath.split(\"/\")[-1]\n",
    "    #put subject in dictionary \n",
    "    if subID not in qa_dictA:\n",
    "        qa_dictA[subID] = {}\n",
    "    SUB_SESSIONS = glob.glob(os.path.join(subpath, \"ses-*\"))\n",
    "    for ses in SUB_SESSIONS:\n",
    "        sesID = ses.split(\"/\")[-1]\n",
    "        qa_dictA[subID][sesID] = {}\n",
    "\n",
    "        \n",
    "        \n",
    "        \n",
    "        "
   ]
  }
 ],
 "metadata": {
  "kernelspec": {
   "display_name": "Python 3",
   "language": "python",
   "name": "python3"
  },
  "language_info": {
   "codemirror_mode": {
    "name": "ipython",
    "version": 3
   },
   "file_extension": ".py",
   "mimetype": "text/x-python",
   "name": "python",
   "nbconvert_exporter": "python",
   "pygments_lexer": "ipython3",
   "version": "3.6.5"
  }
 },
 "nbformat": 4,
 "nbformat_minor": 2
}
