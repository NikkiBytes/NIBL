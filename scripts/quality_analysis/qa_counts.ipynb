{
 "cells": [
  {
   "cell_type": "code",
   "execution_count": 2,
   "metadata": {},
   "outputs": [],
   "source": [
    "import glob, shutil, os\n",
    "import pandas as pd"
   ]
  },
  {
   "cell_type": "code",
   "execution_count": null,
   "metadata": {},
   "outputs": [],
   "source": [
    "fprep_path = \"/projects/niblab/bids_projects/Experiments/ChocoData/fmriprep\"\n",
    "SUBJECTS=sorted(glob.glob(os.path.join(fprep_path, \"sub-*\")))\n",
    "\n"
   ]
  },
  {
   "cell_type": "code",
   "execution_count": null,
   "metadata": {},
   "outputs": [],
   "source": [
    "# Case scenarios ~ \n",
    "# A. single session\n",
    "# B. specific session\n",
    "def make_dict(x):\n",
    "    qa_dict[x] = {\n",
    "       # \"fprep_subs\": [],\n",
    "       # \"skull_subs\": []\n",
    "    }  \n",
    "\n",
    "qa_dict = {}\n",
    "fprep_path = \"/projects/niblab/bids_projects/Experiments/ChocoData/fmriprep\"\n",
    "bids_path = \"/projects/niblab/bids_projects/Experiments/ChocoData/BIDS\"\n",
    "SUBJECTS=sorted(glob.glob(os.path.join(fprep_path, \"sub-*\")))\n",
    "sessions = [\"ses-2\", \"ses-3\", \"ses-4\"]\n",
    "#count sessions set\n",
    "for ses in sessions:\n",
    "    error_skulls = []\n",
    "    all_subs = sorted(glob.glob(os.path.join(fprep_path, \"sub-*\", ses)))\n",
    "    total = len(all_subs)\n",
    "    exp_total = len(glob.glob(os.path.join(bids_path, ses, \"sub-*\")))\n",
    "    skull_total = len(glob.glob(os.path.join(fprep_path, \"sub-*\", ses, \"fmriprep_wf/single*/anat*/skull*/t1_sk*\")))\n",
    "    if ses not in qa_dict:\n",
    "        make_dict(ses)\n",
    "    qa_dict[ses][\"EXPECTED TOTAL\"] =  exp_total\n",
    "    qa_dict[ses][\"FMRIPREP TOTAL\"] =  total\n",
    "    qa_dict[ses][\"SKULL TOTAL\"] =  skull_total\n",
    "    for sub in sorted(all_subs):\n",
    "        filepath = sub.split(\"/\")\n",
    "        for x in filepath:\n",
    "            if \"sub-\" in x:\n",
    "                subID = x\n",
    "        #qa_dict[ses][\"fprep_subs\"].append(subID)\n",
    "        skull = glob.glob(os.path.join(fprep_path, subID, ses, \"fmriprep_wf/single*/anat*/skull*/t1_sk*\"))\n",
    "        if not skull:\n",
    "            error_skulls.append(subID)\n",
    "#            print(\"****ERROR EMPTY SUBJECT %s \\t %s\"%(subID, ses))\n",
    "    badskulls = len(error_skulls)\n",
    "    qa_dict[ses][\"Bad file count\"] = badskulls\n",
    "    qa_dict[ses][\"Bad files\"] = error_skulls\n",
    "    \n",
    "    \n",
    "df = pd.DataFrame.from_dict(qa_dict, orient='index')\n",
    "badfiles = [df[\"Bad files\"]]\n",
    "\n",
    "\n",
    "        \n",
    "        "
   ]
  }
 ],
 "metadata": {
  "kernelspec": {
   "display_name": "Python 3",
   "language": "python",
   "name": "python3"
  },
  "language_info": {
   "codemirror_mode": {
    "name": "ipython",
    "version": 3
   },
   "file_extension": ".py",
   "mimetype": "text/x-python",
   "name": "python",
   "nbconvert_exporter": "python",
   "pygments_lexer": "ipython3",
   "version": "3.6.5"
  }
 },
 "nbformat": 4,
 "nbformat_minor": 2
}
